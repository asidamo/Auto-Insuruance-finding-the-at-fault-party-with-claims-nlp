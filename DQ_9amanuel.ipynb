{
 "cells": [
  {
   "cell_type": "code",
   "execution_count": 1,
   "metadata": {},
   "outputs": [],
   "source": [
    "# import packages\n",
    "import pandas as pd\n",
    "import numpy as np\n",
    "import re\n",
    "from shapely.geometry import Point\n",
    "import matplotlib.pyplot as plt\n",
    "from matplotlib.pyplot import figure\n",
    "plt.rcParams['figure.figsize'] = (12,10)\n",
    "plt.rcParams['font.size'] = 12\n",
    "\n",
    "# Import  scikit modules\n",
    "from sklearn.model_selection import train_test_split\n",
    "from sklearn import metrics\n",
    "from sklearn.preprocessing import LabelBinarizer\n",
    "# NLP modules\n",
    "import nltk \n",
    "from nltk.tokenize import word_tokenize\n",
    "from sklearn.preprocessing import OneHotEncoder \n",
    "import spacy\n",
    "import warnings\n",
    "\n",
    "warnings.filterwarnings('ignore')\n",
    "\n",
    "%matplotlib inline\n",
    "\n",
    "\n"
   ]
  },
  {
   "cell_type": "code",
   "execution_count": 2,
   "metadata": {},
   "outputs": [],
   "source": [
    "en='en_core_web_sm'\n",
    "nlp=spacy.load(en)"
   ]
  },
  {
   "cell_type": "code",
   "execution_count": 3,
   "metadata": {},
   "outputs": [],
   "source": [
    "general_df=pd.read_csv('data/NSS_DS_data.thegeneral.csv')"
   ]
  },
  {
   "cell_type": "code",
   "execution_count": 4,
   "metadata": {},
   "outputs": [
    {
     "data": {
      "text/html": [
       "<div>\n",
       "<style scoped>\n",
       "    .dataframe tbody tr th:only-of-type {\n",
       "        vertical-align: middle;\n",
       "    }\n",
       "\n",
       "    .dataframe tbody tr th {\n",
       "        vertical-align: top;\n",
       "    }\n",
       "\n",
       "    .dataframe thead th {\n",
       "        text-align: right;\n",
       "    }\n",
       "</style>\n",
       "<table border=\"1\" class=\"dataframe\">\n",
       "  <thead>\n",
       "    <tr style=\"text-align: right;\">\n",
       "      <th></th>\n",
       "      <th>ClaimID_RGEN</th>\n",
       "      <th>ExposureID_RGEN</th>\n",
       "      <th>ClaimLevelBody</th>\n",
       "      <th>ExposureLevelBody</th>\n",
       "      <th>AccidentDescription</th>\n",
       "      <th>InjuryDescription</th>\n",
       "      <th>DamageDescription</th>\n",
       "      <th>SeverityTypeName</th>\n",
       "      <th>ClaimGroup</th>\n",
       "      <th>FaultRatingName</th>\n",
       "      <th>LossCauseName</th>\n",
       "      <th>CCCreateTime</th>\n",
       "      <th>CloseDate</th>\n",
       "      <th>StateName</th>\n",
       "    </tr>\n",
       "  </thead>\n",
       "  <tbody>\n",
       "    <tr>\n",
       "      <th>0</th>\n",
       "      <td>10000</td>\n",
       "      <td>131005</td>\n",
       "      <td>reviewed\\r\\ncoverage  sc rated policy and loss...</td>\n",
       "      <td>none none liability accepted by adverse and da...</td>\n",
       "      <td>the insured was test driving a vehicle  the ov...</td>\n",
       "      <td>neckback</td>\n",
       "      <td>front left side damages  towed collision tow i...</td>\n",
       "      <td>Moderate</td>\n",
       "      <td>Tampa Field Ops</td>\n",
       "      <td>Other party at fault</td>\n",
       "      <td>Collision with motor vehicle</td>\n",
       "      <td>2015-03-12 09:05:17.9100000</td>\n",
       "      <td>2015-04-29 11:25:18.3190000</td>\n",
       "      <td>South Carolina</td>\n",
       "    </tr>\n",
       "    <tr>\n",
       "      <th>1</th>\n",
       "      <td>10001</td>\n",
       "      <td>131006</td>\n",
       "      <td>c  dol  *******\\r\\n      tol *** pm\\r\\n      v...</td>\n",
       "      <td>c  coverage\\r\\ndol *****\\r\\nfnol ***** by ni \\...</td>\n",
       "      <td>the iv was driving down the road when the ov i...</td>\n",
       "      <td>pain</td>\n",
       "      <td>front right headlight front side of bumper  dr...</td>\n",
       "      <td>Minor</td>\n",
       "      <td>Tampa Field Ops</td>\n",
       "      <td>Other party at fault</td>\n",
       "      <td>Collision while merging / lane change</td>\n",
       "      <td>2015-03-12 11:46:23.1590000</td>\n",
       "      <td>2015-07-06 08:26:47.5350000</td>\n",
       "      <td>Florida</td>\n",
       "    </tr>\n",
       "    <tr>\n",
       "      <th>2</th>\n",
       "      <td>10002</td>\n",
       "      <td>131007</td>\n",
       "      <td>insured was in the hospital and lost service ...</td>\n",
       "      <td>none none c  coverage\\r\\ndol *****\\r\\nfnol ***...</td>\n",
       "      <td>insured was stopped at the stop light when cv ...</td>\n",
       "      <td>strain</td>\n",
       "      <td>unknown damages rear bumper trunk  right rear ...</td>\n",
       "      <td>Minor</td>\n",
       "      <td>Tampa Field Ops</td>\n",
       "      <td>Other party at fault</td>\n",
       "      <td>Rear-end collision</td>\n",
       "      <td>2015-03-12 13:12:35.4440000</td>\n",
       "      <td>2017-11-20 14:17:39.0910000</td>\n",
       "      <td>Florida</td>\n",
       "    </tr>\n",
       "    <tr>\n",
       "      <th>3</th>\n",
       "      <td>10003</td>\n",
       "      <td>131008</td>\n",
       "      <td>insured was in the hospital and lost service ...</td>\n",
       "      <td>none none hhcsi dos ****** atd for brant willi...</td>\n",
       "      <td>insured was stopped at the stop light when cv ...</td>\n",
       "      <td>back</td>\n",
       "      <td>unknown damages rear bumper trunk  right rear ...</td>\n",
       "      <td>NaN</td>\n",
       "      <td>Tampa Field Ops</td>\n",
       "      <td>Other party at fault</td>\n",
       "      <td>Rear-end collision</td>\n",
       "      <td>2015-03-12 13:12:35.4440000</td>\n",
       "      <td>2017-11-20 14:17:39.0910000</td>\n",
       "      <td>Florida</td>\n",
       "    </tr>\n",
       "    <tr>\n",
       "      <th>4</th>\n",
       "      <td>10004</td>\n",
       "      <td>131009</td>\n",
       "      <td>adjuster out of office\\r\\nreassigned adjuster ...</td>\n",
       "      <td>new pip loss received  additional action neede...</td>\n",
       "      <td>ov re host veh</td>\n",
       "      <td>neck back</td>\n",
       "      <td>none none none</td>\n",
       "      <td>Minor</td>\n",
       "      <td>Fast Track</td>\n",
       "      <td>Other party at fault</td>\n",
       "      <td>Collision with motor vehicle</td>\n",
       "      <td>2015-03-12 16:35:17.3570000</td>\n",
       "      <td>2016-01-29 13:54:25.6150000</td>\n",
       "      <td>Florida</td>\n",
       "    </tr>\n",
       "  </tbody>\n",
       "</table>\n",
       "</div>"
      ],
      "text/plain": [
       "   ClaimID_RGEN  ExposureID_RGEN  \\\n",
       "0         10000           131005   \n",
       "1         10001           131006   \n",
       "2         10002           131007   \n",
       "3         10003           131008   \n",
       "4         10004           131009   \n",
       "\n",
       "                                      ClaimLevelBody  \\\n",
       "0  reviewed\\r\\ncoverage  sc rated policy and loss...   \n",
       "1  c  dol  *******\\r\\n      tol *** pm\\r\\n      v...   \n",
       "2   insured was in the hospital and lost service ...   \n",
       "3   insured was in the hospital and lost service ...   \n",
       "4  adjuster out of office\\r\\nreassigned adjuster ...   \n",
       "\n",
       "                                   ExposureLevelBody  \\\n",
       "0  none none liability accepted by adverse and da...   \n",
       "1  c  coverage\\r\\ndol *****\\r\\nfnol ***** by ni \\...   \n",
       "2  none none c  coverage\\r\\ndol *****\\r\\nfnol ***...   \n",
       "3  none none hhcsi dos ****** atd for brant willi...   \n",
       "4  new pip loss received  additional action neede...   \n",
       "\n",
       "                                 AccidentDescription InjuryDescription  \\\n",
       "0  the insured was test driving a vehicle  the ov...          neckback   \n",
       "1  the iv was driving down the road when the ov i...              pain   \n",
       "2  insured was stopped at the stop light when cv ...            strain   \n",
       "3  insured was stopped at the stop light when cv ...              back   \n",
       "4                                     ov re host veh         neck back   \n",
       "\n",
       "                                   DamageDescription SeverityTypeName  \\\n",
       "0  front left side damages  towed collision tow i...         Moderate   \n",
       "1  front right headlight front side of bumper  dr...            Minor   \n",
       "2  unknown damages rear bumper trunk  right rear ...            Minor   \n",
       "3  unknown damages rear bumper trunk  right rear ...              NaN   \n",
       "4                                     none none none            Minor   \n",
       "\n",
       "        ClaimGroup       FaultRatingName  \\\n",
       "0  Tampa Field Ops  Other party at fault   \n",
       "1  Tampa Field Ops  Other party at fault   \n",
       "2  Tampa Field Ops  Other party at fault   \n",
       "3  Tampa Field Ops  Other party at fault   \n",
       "4       Fast Track  Other party at fault   \n",
       "\n",
       "                           LossCauseName                 CCCreateTime  \\\n",
       "0           Collision with motor vehicle  2015-03-12 09:05:17.9100000   \n",
       "1  Collision while merging / lane change  2015-03-12 11:46:23.1590000   \n",
       "2                     Rear-end collision  2015-03-12 13:12:35.4440000   \n",
       "3                     Rear-end collision  2015-03-12 13:12:35.4440000   \n",
       "4           Collision with motor vehicle  2015-03-12 16:35:17.3570000   \n",
       "\n",
       "                     CloseDate       StateName  \n",
       "0  2015-04-29 11:25:18.3190000  South Carolina  \n",
       "1  2015-07-06 08:26:47.5350000         Florida  \n",
       "2  2017-11-20 14:17:39.0910000         Florida  \n",
       "3  2017-11-20 14:17:39.0910000         Florida  \n",
       "4  2016-01-29 13:54:25.6150000         Florida  "
      ]
     },
     "execution_count": 4,
     "metadata": {},
     "output_type": "execute_result"
    }
   ],
   "source": [
    "general_df.head()"
   ]
  },
  {
   "cell_type": "code",
   "execution_count": 5,
   "metadata": {},
   "outputs": [
    {
     "data": {
      "text/plain": [
       "Index(['ClaimID_RGEN', 'ExposureID_RGEN', 'ClaimLevelBody',\n",
       "       'ExposureLevelBody', 'AccidentDescription', 'InjuryDescription',\n",
       "       'DamageDescription', 'SeverityTypeName', 'ClaimGroup',\n",
       "       'FaultRatingName', 'LossCauseName', 'CCCreateTime', 'CloseDate',\n",
       "       'StateName'],\n",
       "      dtype='object')"
      ]
     },
     "execution_count": 5,
     "metadata": {},
     "output_type": "execute_result"
    }
   ],
   "source": [
    "general_df.columns"
   ]
  },
  {
   "cell_type": "code",
   "execution_count": 6,
   "metadata": {},
   "outputs": [
    {
     "name": "stdout",
     "output_type": "stream",
     "text": [
      "<class 'pandas.core.frame.DataFrame'>\n",
      "RangeIndex: 120657 entries, 0 to 120656\n",
      "Data columns (total 14 columns):\n",
      "ClaimID_RGEN           120657 non-null int64\n",
      "ExposureID_RGEN        120657 non-null int64\n",
      "ClaimLevelBody         120657 non-null object\n",
      "ExposureLevelBody      111199 non-null object\n",
      "AccidentDescription    120657 non-null object\n",
      "InjuryDescription      120619 non-null object\n",
      "DamageDescription      120657 non-null object\n",
      "SeverityTypeName       87699 non-null object\n",
      "ClaimGroup             120642 non-null object\n",
      "FaultRatingName        120656 non-null object\n",
      "LossCauseName          120657 non-null object\n",
      "CCCreateTime           120657 non-null object\n",
      "CloseDate              99611 non-null object\n",
      "StateName              120657 non-null object\n",
      "dtypes: int64(2), object(12)\n",
      "memory usage: 12.9+ MB\n"
     ]
    }
   ],
   "source": [
    "general_df.info()"
   ]
  },
  {
   "cell_type": "code",
   "execution_count": 7,
   "metadata": {},
   "outputs": [
    {
     "data": {
      "text/plain": [
       "<matplotlib.axes._subplots.AxesSubplot at 0x26d00cb2278>"
      ]
     },
     "execution_count": 7,
     "metadata": {},
     "output_type": "execute_result"
    },
    {
     "data": {
      "image/png": "[encoded data removed]",
      "text/plain": [
       "<Figure size 432x288 with 1 Axes>"
      ]
     },
     "metadata": {
      "needs_background": "light"
     },
     "output_type": "display_data"
    }
   ],
   "source": [
    "# severity of accidents \n",
    "claimgroup_df=general_df[['ClaimID_RGEN','ClaimGroup']].groupby('ClaimGroup').count()\n",
    "# total claim\n",
    "total_claim=claimgroup_df['ClaimID_RGEN'].sum()\n",
    "# change it to percentage share by claimgroup\n",
    "claimgroup_df['ClaimID_RGEN']=claimgroup_df['ClaimID_RGEN']/total_claim\n",
    "\n",
    "# rename columns and then plot\n",
    "claimgroup_df.rename(columns={'ClaimID_RGEN':'count'},inplace=True)\n",
    "claimgroup_df.plot(kind='bar')"
   ]
  },
  {
   "cell_type": "code",
   "execution_count": 8,
   "metadata": {},
   "outputs": [
    {
     "data": {
      "text/plain": [
       "<matplotlib.axes._subplots.AxesSubplot at 0x26d00d48940>"
      ]
     },
     "execution_count": 8,
     "metadata": {},
     "output_type": "execute_result"
    },
    {
     "data": {
      "image/png": "[encoded data removed]",
      "text/plain": [
       "<Figure size 432x288 with 1 Axes>"
      ]
     },
     "metadata": {
      "needs_background": "light"
     },
     "output_type": "display_data"
    }
   ],
   "source": [
    "# severity of accidents \n",
    "severity_df=general_df[['ClaimID_RGEN','SeverityTypeName']].groupby('SeverityTypeName').count()\n",
    "# rename columns and then plot\n",
    "severity_df.rename(columns={'ClaimID_RGEN':'count'},inplace=True)\n",
    "severity_df.plot(kind='bar')"
   ]
  },
  {
   "cell_type": "code",
   "execution_count": 9,
   "metadata": {},
   "outputs": [
    {
     "data": {
      "text/html": [
       "<div>\n",
       "<style scoped>\n",
       "    .dataframe tbody tr th:only-of-type {\n",
       "        vertical-align: middle;\n",
       "    }\n",
       "\n",
       "    .dataframe tbody tr th {\n",
       "        vertical-align: top;\n",
       "    }\n",
       "\n",
       "    .dataframe thead th {\n",
       "        text-align: right;\n",
       "    }\n",
       "</style>\n",
       "<table border=\"1\" class=\"dataframe\">\n",
       "  <thead>\n",
       "    <tr style=\"text-align: right;\">\n",
       "      <th></th>\n",
       "      <th></th>\n",
       "      <th>ClaimID_RGEN</th>\n",
       "    </tr>\n",
       "    <tr>\n",
       "      <th>StateName</th>\n",
       "      <th>SeverityTypeName</th>\n",
       "      <th></th>\n",
       "    </tr>\n",
       "  </thead>\n",
       "  <tbody>\n",
       "    <tr>\n",
       "      <th rowspan=\"5\" valign=\"top\">Alabama</th>\n",
       "      <th>Death</th>\n",
       "      <td>16</td>\n",
       "    </tr>\n",
       "    <tr>\n",
       "      <th>Life-threatening</th>\n",
       "      <td>10</td>\n",
       "    </tr>\n",
       "    <tr>\n",
       "      <th>Major (hospitalization 3+ days or ICU)</th>\n",
       "      <td>109</td>\n",
       "    </tr>\n",
       "    <tr>\n",
       "      <th>Minor</th>\n",
       "      <td>1001</td>\n",
       "    </tr>\n",
       "    <tr>\n",
       "      <th>Moderate</th>\n",
       "      <td>389</td>\n",
       "    </tr>\n",
       "  </tbody>\n",
       "</table>\n",
       "</div>"
      ],
      "text/plain": [
       "                                                  ClaimID_RGEN\n",
       "StateName SeverityTypeName                                    \n",
       "Alabama   Death                                             16\n",
       "          Life-threatening                                  10\n",
       "          Major (hospitalization 3+ days or ICU)           109\n",
       "          Minor                                           1001\n",
       "          Moderate                                         389"
      ]
     },
     "execution_count": 9,
     "metadata": {},
     "output_type": "execute_result"
    }
   ],
   "source": [
    "# severity of accidents \n",
    "severity_byState=general_df[['StateName','SeverityTypeName','ClaimID_RGEN']].groupby(['StateName','SeverityTypeName']).count()\n",
    "severity_byState.head()"
   ]
  },
  {
   "cell_type": "code",
   "execution_count": 10,
   "metadata": {},
   "outputs": [],
   "source": [
    "# rename columns and then plot\n",
    "severity_byState.rename(columns={'ClaimID_RGEN':'count'},inplace=True)\n"
   ]
  },
  {
   "cell_type": "code",
   "execution_count": 11,
   "metadata": {},
   "outputs": [
    {
     "data": {
      "text/html": [
       "<div>\n",
       "<style scoped>\n",
       "    .dataframe tbody tr th:only-of-type {\n",
       "        vertical-align: middle;\n",
       "    }\n",
       "\n",
       "    .dataframe tbody tr th {\n",
       "        vertical-align: top;\n",
       "    }\n",
       "\n",
       "    .dataframe thead th {\n",
       "        text-align: right;\n",
       "    }\n",
       "</style>\n",
       "<table border=\"1\" class=\"dataframe\">\n",
       "  <thead>\n",
       "    <tr style=\"text-align: right;\">\n",
       "      <th></th>\n",
       "      <th></th>\n",
       "      <th>count</th>\n",
       "    </tr>\n",
       "    <tr>\n",
       "      <th>StateName</th>\n",
       "      <th>SeverityTypeName</th>\n",
       "      <th></th>\n",
       "    </tr>\n",
       "  </thead>\n",
       "  <tbody>\n",
       "    <tr>\n",
       "      <th rowspan=\"5\" valign=\"top\">Alabama</th>\n",
       "      <th>Death</th>\n",
       "      <td>16</td>\n",
       "    </tr>\n",
       "    <tr>\n",
       "      <th>Life-threatening</th>\n",
       "      <td>10</td>\n",
       "    </tr>\n",
       "    <tr>\n",
       "      <th>Major (hospitalization 3+ days or ICU)</th>\n",
       "      <td>109</td>\n",
       "    </tr>\n",
       "    <tr>\n",
       "      <th>Minor</th>\n",
       "      <td>1001</td>\n",
       "    </tr>\n",
       "    <tr>\n",
       "      <th>Moderate</th>\n",
       "      <td>389</td>\n",
       "    </tr>\n",
       "  </tbody>\n",
       "</table>\n",
       "</div>"
      ],
      "text/plain": [
       "                                                  count\n",
       "StateName SeverityTypeName                             \n",
       "Alabama   Death                                      16\n",
       "          Life-threatening                           10\n",
       "          Major (hospitalization 3+ days or ICU)    109\n",
       "          Minor                                    1001\n",
       "          Moderate                                  389"
      ]
     },
     "execution_count": 11,
     "metadata": {},
     "output_type": "execute_result"
    }
   ],
   "source": [
    "severity_byState.head()"
   ]
  },
  {
   "cell_type": "code",
   "execution_count": 12,
   "metadata": {},
   "outputs": [],
   "source": [
    "severity_byState=severity_byState.reset_index('SeverityTypeName')"
   ]
  },
  {
   "cell_type": "code",
   "execution_count": 13,
   "metadata": {},
   "outputs": [
    {
     "data": {
      "text/html": [
       "<div>\n",
       "<style scoped>\n",
       "    .dataframe tbody tr th:only-of-type {\n",
       "        vertical-align: middle;\n",
       "    }\n",
       "\n",
       "    .dataframe tbody tr th {\n",
       "        vertical-align: top;\n",
       "    }\n",
       "\n",
       "    .dataframe thead th {\n",
       "        text-align: right;\n",
       "    }\n",
       "</style>\n",
       "<table border=\"1\" class=\"dataframe\">\n",
       "  <thead>\n",
       "    <tr style=\"text-align: right;\">\n",
       "      <th></th>\n",
       "      <th>SeverityTypeName</th>\n",
       "      <th>count</th>\n",
       "    </tr>\n",
       "    <tr>\n",
       "      <th>StateName</th>\n",
       "      <th></th>\n",
       "      <th></th>\n",
       "    </tr>\n",
       "  </thead>\n",
       "  <tbody>\n",
       "    <tr>\n",
       "      <th>Alabama</th>\n",
       "      <td>Death</td>\n",
       "      <td>16</td>\n",
       "    </tr>\n",
       "    <tr>\n",
       "      <th>Alabama</th>\n",
       "      <td>Life-threatening</td>\n",
       "      <td>10</td>\n",
       "    </tr>\n",
       "    <tr>\n",
       "      <th>Alabama</th>\n",
       "      <td>Major (hospitalization 3+ days or ICU)</td>\n",
       "      <td>109</td>\n",
       "    </tr>\n",
       "    <tr>\n",
       "      <th>Alabama</th>\n",
       "      <td>Minor</td>\n",
       "      <td>1001</td>\n",
       "    </tr>\n",
       "    <tr>\n",
       "      <th>Alabama</th>\n",
       "      <td>Moderate</td>\n",
       "      <td>389</td>\n",
       "    </tr>\n",
       "  </tbody>\n",
       "</table>\n",
       "</div>"
      ],
      "text/plain": [
       "                                 SeverityTypeName  count\n",
       "StateName                                               \n",
       "Alabama                                     Death     16\n",
       "Alabama                          Life-threatening     10\n",
       "Alabama    Major (hospitalization 3+ days or ICU)    109\n",
       "Alabama                                     Minor   1001\n",
       "Alabama                                  Moderate    389"
      ]
     },
     "execution_count": 13,
     "metadata": {},
     "output_type": "execute_result"
    }
   ],
   "source": [
    "severity_byState.head()"
   ]
  },
  {
   "cell_type": "code",
   "execution_count": 14,
   "metadata": {},
   "outputs": [],
   "source": [
    "severity_byState=severity_byState.reset_index()"
   ]
  },
  {
   "cell_type": "code",
   "execution_count": 15,
   "metadata": {},
   "outputs": [
    {
     "data": {
      "text/html": [
       "<div>\n",
       "<style scoped>\n",
       "    .dataframe tbody tr th:only-of-type {\n",
       "        vertical-align: middle;\n",
       "    }\n",
       "\n",
       "    .dataframe tbody tr th {\n",
       "        vertical-align: top;\n",
       "    }\n",
       "\n",
       "    .dataframe thead th {\n",
       "        text-align: right;\n",
       "    }\n",
       "</style>\n",
       "<table border=\"1\" class=\"dataframe\">\n",
       "  <thead>\n",
       "    <tr style=\"text-align: right;\">\n",
       "      <th></th>\n",
       "      <th>StateName</th>\n",
       "      <th>SeverityTypeName</th>\n",
       "      <th>count</th>\n",
       "    </tr>\n",
       "  </thead>\n",
       "  <tbody>\n",
       "    <tr>\n",
       "      <th>0</th>\n",
       "      <td>Alabama</td>\n",
       "      <td>Death</td>\n",
       "      <td>16</td>\n",
       "    </tr>\n",
       "    <tr>\n",
       "      <th>1</th>\n",
       "      <td>Alabama</td>\n",
       "      <td>Life-threatening</td>\n",
       "      <td>10</td>\n",
       "    </tr>\n",
       "    <tr>\n",
       "      <th>2</th>\n",
       "      <td>Alabama</td>\n",
       "      <td>Major (hospitalization 3+ days or ICU)</td>\n",
       "      <td>109</td>\n",
       "    </tr>\n",
       "    <tr>\n",
       "      <th>3</th>\n",
       "      <td>Alabama</td>\n",
       "      <td>Minor</td>\n",
       "      <td>1001</td>\n",
       "    </tr>\n",
       "    <tr>\n",
       "      <th>4</th>\n",
       "      <td>Alabama</td>\n",
       "      <td>Moderate</td>\n",
       "      <td>389</td>\n",
       "    </tr>\n",
       "  </tbody>\n",
       "</table>\n",
       "</div>"
      ],
      "text/plain": [
       "  StateName                        SeverityTypeName  count\n",
       "0   Alabama                                   Death     16\n",
       "1   Alabama                        Life-threatening     10\n",
       "2   Alabama  Major (hospitalization 3+ days or ICU)    109\n",
       "3   Alabama                                   Minor   1001\n",
       "4   Alabama                                Moderate    389"
      ]
     },
     "execution_count": 15,
     "metadata": {},
     "output_type": "execute_result"
    }
   ],
   "source": [
    "severity_byState.head()"
   ]
  },
  {
   "cell_type": "code",
   "execution_count": 16,
   "metadata": {},
   "outputs": [
    {
     "data": {
      "text/html": [
       "<div>\n",
       "<style scoped>\n",
       "    .dataframe tbody tr th:only-of-type {\n",
       "        vertical-align: middle;\n",
       "    }\n",
       "\n",
       "    .dataframe tbody tr th {\n",
       "        vertical-align: top;\n",
       "    }\n",
       "\n",
       "    .dataframe thead th {\n",
       "        text-align: right;\n",
       "    }\n",
       "</style>\n",
       "<table border=\"1\" class=\"dataframe\">\n",
       "  <thead>\n",
       "    <tr style=\"text-align: right;\">\n",
       "      <th></th>\n",
       "      <th>count</th>\n",
       "    </tr>\n",
       "    <tr>\n",
       "      <th>StateName</th>\n",
       "      <th></th>\n",
       "    </tr>\n",
       "  </thead>\n",
       "  <tbody>\n",
       "    <tr>\n",
       "      <th>Alabama</th>\n",
       "      <td>109</td>\n",
       "    </tr>\n",
       "    <tr>\n",
       "      <th>Alaska</th>\n",
       "      <td>5</td>\n",
       "    </tr>\n",
       "    <tr>\n",
       "      <th>Arizona</th>\n",
       "      <td>176</td>\n",
       "    </tr>\n",
       "    <tr>\n",
       "      <th>Arkansas</th>\n",
       "      <td>10</td>\n",
       "    </tr>\n",
       "    <tr>\n",
       "      <th>California</th>\n",
       "      <td>216</td>\n",
       "    </tr>\n",
       "  </tbody>\n",
       "</table>\n",
       "</div>"
      ],
      "text/plain": [
       "            count\n",
       "StateName        \n",
       "Alabama       109\n",
       "Alaska          5\n",
       "Arizona       176\n",
       "Arkansas       10\n",
       "California    216"
      ]
     },
     "execution_count": 16,
     "metadata": {},
     "output_type": "execute_result"
    }
   ],
   "source": [
    "# major accidents by state\n",
    "severity_byState_major=severity_byState[severity_byState.SeverityTypeName=='Major (hospitalization 3+ days or ICU)']\n",
    "severity_byState_major=severity_byState_major.drop('SeverityTypeName',axis=1)\n",
    "severity_byState_major=severity_byState_major.set_index('StateName')\n",
    "severity_byState_major.head()"
   ]
  },
  {
   "cell_type": "code",
   "execution_count": 17,
   "metadata": {},
   "outputs": [],
   "source": [
    "# moderate accidents by state\n",
    "severity_byState_Moderate=severity_byState[severity_byState.SeverityTypeName=='Moderate']\n",
    "severity_byState_Moderate=severity_byState_Moderate.drop('SeverityTypeName',axis=1)\n",
    "severity_byState_Moderate=severity_byState_Moderate.set_index('StateName')\n",
    "# minor accidents by state\n",
    "severity_byState_Minor=severity_byState[severity_byState.SeverityTypeName=='Minor']\n",
    "severity_byState_Minor=severity_byState_Minor.drop('SeverityTypeName',axis=1)\n",
    "severity_byState_Minor=severity_byState_Minor.set_index('StateName')\n",
    "# death causing accidents by state\n",
    "severity_byState_Death=severity_byState[severity_byState.SeverityTypeName=='Death']\n",
    "severity_byState_Death=severity_byState_Death.drop('SeverityTypeName',axis=1)\n",
    "severity_byState_Death=severity_byState_Death.set_index('StateName')\n",
    "# life threatening accidents by state\n",
    "severity_byState_Life_threatening=severity_byState[severity_byState.SeverityTypeName=='Life-threatening']\n",
    "severity_byState_Life_threatening=severity_byState_Life_threatening.drop('SeverityTypeName',axis=1)\n",
    "severity_byState_Life_threatening=severity_byState_Life_threatening.set_index('StateName')\n",
    "\n"
   ]
  },
  {
   "cell_type": "code",
   "execution_count": 18,
   "metadata": {},
   "outputs": [
    {
     "data": {
      "image/png": "[encoded data removed]",
      "text/plain": [
       "<Figure size 432x288 with 1 Axes>"
      ]
     },
     "metadata": {
      "needs_background": "light"
     },
     "output_type": "display_data"
    }
   ],
   "source": [
    "#plt.figure(1)\n",
    "severity_byState_Life_threatening.plot(kind='bar')\n",
    "plt.ylabel('number of major accidents')\n",
    "plt.title('Life threatening Incidents by State')\n",
    "plt.show()"
   ]
  },
  {
   "cell_type": "code",
   "execution_count": 19,
   "metadata": {},
   "outputs": [
    {
     "data": {
      "image/png": "[encoded data removed]",
      "text/plain": [
       "<Figure size 432x288 with 1 Axes>"
      ]
     },
     "metadata": {
      "needs_background": "light"
     },
     "output_type": "display_data"
    }
   ],
   "source": [
    "#plt.figure(2)\n",
    "severity_byState_Moderate.plot(kind='bar')\n",
    "plt.ylabel('number of moderate accidents')\n",
    "plt.title('Moderate Accidents by State')\n",
    "plt.show()"
   ]
  },
  {
   "cell_type": "code",
   "execution_count": 20,
   "metadata": {},
   "outputs": [
    {
     "data": {
      "text/plain": [
       "Text(0.5,1,'Minor Accidents by State')"
      ]
     },
     "execution_count": 20,
     "metadata": {},
     "output_type": "execute_result"
    },
    {
     "data": {
      "image/png": "[encoded data removed]",
      "text/plain": [
       "<Figure size 432x288 with 1 Axes>"
      ]
     },
     "metadata": {
      "needs_background": "light"
     },
     "output_type": "display_data"
    }
   ],
   "source": [
    "#plt.figure(3)\n",
    "severity_byState_Minor.plot(kind='bar')\n",
    "plt.ylabel('number of minor accidents')\n",
    "plt.title('Minor Accidents by State')\n"
   ]
  },
  {
   "cell_type": "markdown",
   "metadata": {},
   "source": [
    "### pennsylvania has the highest number of Major Accident types"
   ]
  },
  {
   "cell_type": "code",
   "execution_count": 21,
   "metadata": {},
   "outputs": [
    {
     "data": {
      "text/plain": [
       "Text(0,0.5,'number of accidents')"
      ]
     },
     "execution_count": 21,
     "metadata": {},
     "output_type": "execute_result"
    },
    {
     "data": {
      "text/plain": [
       "<Figure size 432x288 with 0 Axes>"
      ]
     },
     "metadata": {},
     "output_type": "display_data"
    },
    {
     "data": {
      "image/png": "[encoded data removed]",
      "text/plain": [
       "<Figure size 432x288 with 1 Axes>"
      ]
     },
     "metadata": {
      "needs_background": "light"
     },
     "output_type": "display_data"
    }
   ],
   "source": [
    "plt.figure(4)\n",
    "severity_byState_major.plot(kind='bar')\n",
    "plt.title('Major Accidents category by states')\n",
    "plt.ylabel('number of accidents')"
   ]
  },
  {
   "cell_type": "code",
   "execution_count": 22,
   "metadata": {},
   "outputs": [
    {
     "data": {
      "text/plain": [
       "Text(0.5,1,'Death Accidents by State')"
      ]
     },
     "execution_count": 22,
     "metadata": {},
     "output_type": "execute_result"
    },
    {
     "data": {
      "image/png": "[encoded data removed]",
      "text/plain": [
       "<Figure size 432x288 with 1 Axes>"
      ]
     },
     "metadata": {
      "needs_background": "light"
     },
     "output_type": "display_data"
    }
   ],
   "source": [
    "#plt.figure(5)\n",
    "severity_byState_Death.plot(kind='bar')\n",
    "plt.ylabel('number of death accidents')\n",
    "plt.title('Death Accidents by State')"
   ]
  },
  {
   "cell_type": "code",
   "execution_count": 23,
   "metadata": {},
   "outputs": [
    {
     "data": {
      "text/plain": [
       "array(['Moderate', 'Minor', nan, 'Major (hospitalization 3+ days or ICU)',\n",
       "       'Death', 'Life-threatening'], dtype=object)"
      ]
     },
     "execution_count": 23,
     "metadata": {},
     "output_type": "execute_result"
    }
   ],
   "source": [
    "general_df['SeverityTypeName'].unique()"
   ]
  },
  {
   "cell_type": "code",
   "execution_count": 24,
   "metadata": {},
   "outputs": [
    {
     "data": {
      "text/plain": [
       "dtype('O')"
      ]
     },
     "execution_count": 24,
     "metadata": {},
     "output_type": "execute_result"
    }
   ],
   "source": [
    "general_df['InjuryDescription'] .dtype"
   ]
  },
  {
   "cell_type": "code",
   "execution_count": 25,
   "metadata": {},
   "outputs": [
    {
     "name": "stdout",
     "output_type": "stream",
     "text": [
      "<class 'pandas.core.frame.DataFrame'>\n",
      "RangeIndex: 120657 entries, 0 to 120656\n",
      "Data columns (total 14 columns):\n",
      "ClaimID_RGEN           120657 non-null int64\n",
      "ExposureID_RGEN        120657 non-null int64\n",
      "ClaimLevelBody         120657 non-null object\n",
      "ExposureLevelBody      111199 non-null object\n",
      "AccidentDescription    120657 non-null object\n",
      "InjuryDescription      120619 non-null object\n",
      "DamageDescription      120657 non-null object\n",
      "SeverityTypeName       87699 non-null object\n",
      "ClaimGroup             120642 non-null object\n",
      "FaultRatingName        120656 non-null object\n",
      "LossCauseName          120657 non-null object\n",
      "CCCreateTime           120657 non-null object\n",
      "CloseDate              99611 non-null object\n",
      "StateName              120657 non-null object\n",
      "dtypes: int64(2), object(12)\n",
      "memory usage: 12.9+ MB\n"
     ]
    }
   ],
   "source": [
    "general_df.info()"
   ]
  },
  {
   "cell_type": "code",
   "execution_count": 26,
   "metadata": {},
   "outputs": [
    {
     "data": {
      "text/plain": [
       "dtype('O')"
      ]
     },
     "execution_count": 26,
     "metadata": {},
     "output_type": "execute_result"
    }
   ],
   "source": [
    "general_df['InjuryDescription'].dtype"
   ]
  },
  {
   "cell_type": "code",
   "execution_count": 27,
   "metadata": {},
   "outputs": [],
   "source": [
    "# lower the texts in the column\n",
    "general_df['AccidentDescription'] = general_df['AccidentDescription'].str.lower() "
   ]
  },
  {
   "cell_type": "code",
   "execution_count": 28,
   "metadata": {},
   "outputs": [],
   "source": [
    "# remove if there is any space before and after the texts\n",
    "general_df['AccidentDescription'] =general_df['AccidentDescription'].str.strip()"
   ]
  },
  {
   "cell_type": "code",
   "execution_count": 29,
   "metadata": {},
   "outputs": [],
   "source": [
    "general_df['AccidentDescription'] =general_df['AccidentDescription'].replace('[^\\w\\s]',regex=True)\n"
   ]
  },
  {
   "cell_type": "code",
   "execution_count": 30,
   "metadata": {},
   "outputs": [
    {
     "name": "stdout",
     "output_type": "stream",
     "text": [
      "[nltk_data] Downloading package stopwords to\n",
      "[nltk_data]     C:\\Users\\fevty\\AppData\\Roaming\\nltk_data...\n",
      "[nltk_data]   Package stopwords is already up-to-date!\n"
     ]
    }
   ],
   "source": [
    "# let's remove stop words from tokenized words.\n",
    "from nltk.corpus import stopwords\n",
    "\n",
    "# let's download stop words\n",
    "nltk.download('stopwords')\n",
    "# set up stop words to enlish stop words\n",
    "stop_words = set(stopwords.words('english')) "
   ]
  },
  {
   "cell_type": "markdown",
   "metadata": {},
   "source": [
    "### to apply spilt or word_tokenize to a column , you should change it to string type using astype(str)"
   ]
  },
  {
   "cell_type": "code",
   "execution_count": 31,
   "metadata": {},
   "outputs": [],
   "source": [
    "# remove the stops words from Injury description column and assing it back to general_df\n",
    "\n",
    "general_df['AccidentDescription'] = general_df['AccidentDescription'].astype(str).apply(lambda x: ' '.join([word for word in x.split() if word not in (stop_words)]))"
   ]
  },
  {
   "cell_type": "markdown",
   "metadata": {},
   "source": [
    "### - predict causes of loss one by one\n",
    "## - mute and unmute one at a time"
   ]
  },
  {
   "cell_type": "code",
   "execution_count": 32,
   "metadata": {},
   "outputs": [],
   "source": [
    "# insured vehicle rear end claimant vehicle\n",
    "general_df['losscause'] = np.where(general_df['LossCauseName']=='IV rear-end CV',1,0)\n",
    "# collision at intersection or others\n",
    "#general_df['losscause'] = np.where(general_df['LossCauseName']=='Collision in an intersection',1,0)\n",
    "# if the cause is 'Collision with motor vehicle'\n",
    "#general_df['losscause'] = np.where(general_df['LossCauseName']=='Collision with motor vehicle',1,0)"
   ]
  },
  {
   "cell_type": "code",
   "execution_count": 33,
   "metadata": {},
   "outputs": [],
   "source": [
    "# map severity levels to numeric\n",
    "            \n",
    "##general_df['LossCauseName']=general_df.SeverityTypeName.map({'Death':0,'Life-threatening':1,'Major (hospitalization 3+ days or ICU)':2,'Minor':3,'Moderate':4})\n"
   ]
  },
  {
   "cell_type": "code",
   "execution_count": 34,
   "metadata": {},
   "outputs": [
    {
     "data": {
      "text/plain": [
       "ClaimID_RGEN               0\n",
       "ExposureID_RGEN            0\n",
       "ClaimLevelBody             0\n",
       "ExposureLevelBody       9458\n",
       "AccidentDescription        0\n",
       "InjuryDescription         38\n",
       "DamageDescription          0\n",
       "SeverityTypeName       32958\n",
       "ClaimGroup                15\n",
       "FaultRatingName            1\n",
       "LossCauseName              0\n",
       "CCCreateTime               0\n",
       "CloseDate              21046\n",
       "StateName                  0\n",
       "losscause                  0\n",
       "dtype: int64"
      ]
     },
     "execution_count": 34,
     "metadata": {},
     "output_type": "execute_result"
    }
   ],
   "source": [
    "general_df.isna().sum()"
   ]
  },
  {
   "cell_type": "code",
   "execution_count": 35,
   "metadata": {},
   "outputs": [],
   "source": [
    "# Define X and Y\n",
    "\n",
    "X=general_df['AccidentDescription']\n",
    "y=general_df['losscause']\n",
    "\n",
    "\n",
    "X_train, X_test, y_train, y_test = train_test_split(X,y,test_size=0.30,random_state=42)"
   ]
  },
  {
   "cell_type": "code",
   "execution_count": 36,
   "metadata": {},
   "outputs": [],
   "source": [
    "from sklearn.feature_extraction.text import CountVectorizer\n",
    "from sklearn.naive_bayes import MultinomialNB\n",
    "from sklearn.metrics import confusion_matrix\n",
    "from sklearn.metrics import roc_auc_score\n",
    "\n",
    "from sklearn.metrics import classification_report\n",
    "\n",
    "#from sklearn.metrics import Score\n",
    "#Train and evaluate the model\n",
    "# fit CountVectorizer to X_train data\n",
    "vect = CountVectorizer().fit(X_train)\n",
    "# transform X_train data\n",
    "X_train_vectorized = vect.transform(X_train)"
   ]
  },
  {
   "cell_type": "code",
   "execution_count": 37,
   "metadata": {},
   "outputs": [],
   "source": [
    "# Naive Bayes model\n",
    "clfrNB = MultinomialNB(alpha = 0.1)\n",
    "# fit the model on vectorized data\n",
    "clfrNB.fit(X_train_vectorized, y_train)\n",
    "# predict loss cause\n",
    "pred = clfrNB.predict(vect.transform(X_test))\n",
    "# calculate score\n",
    "score = metrics.accuracy_score(y_test,pred)"
   ]
  },
  {
   "cell_type": "markdown",
   "metadata": {},
   "source": [
    "### Actually IV-rear-end-cv, but predcited not(FN)=1335\n",
    "### Actually not IV-rear-end-cv, but predicted as iv-rear-end-cv(FP)=4485\n",
    "### Actually iv-rear-end-cv, but predicted as iv-rear-end-cv(TP)=7899"
   ]
  },
  {
   "cell_type": "code",
   "execution_count": 38,
   "metadata": {},
   "outputs": [
    {
     "name": "stdout",
     "output_type": "stream",
     "text": [
      "precision 0.64\n",
      "recall 0.86\n",
      "accuracy_score 0.84\n"
     ]
    }
   ],
   "source": [
    "# proportion of correct prediction to total prediction of IV-rear-end-cv \n",
    "# (i.e how much of the those identified as positives were actually positives)\n",
    "TP=7899\n",
    "FP=4485\n",
    "precision=TP/(TP+FP)\n",
    "print('precision',round((precision),2))\n",
    "\n",
    "\n",
    "FN=1335\n",
    "TN=22479  \n",
    "# recall is how much iv-rear-end-cv was correctly predicted (i.e how much of positives were correctly identified as positives)\n",
    "recall=TP/(TP+FN)\n",
    "print('recall',round((recall),2))\n",
    "\n",
    "# accuracy is the diagonal part\n",
    "# cp=correct prediction\n",
    "#wp=wrong prediction\n",
    "#TotP=Total Predictions\n",
    "cp=(22479  + 7899)\n",
    "wp= (1335 +4485)\n",
    "TotP=cp+wp\n",
    "accuracy_score=cp/TotP\n",
    "print('accuracy_score',round((accuracy_score),2))"
   ]
  },
  {
   "cell_type": "code",
   "execution_count": 39,
   "metadata": {
    "scrolled": true
   },
   "outputs": [
    {
     "name": "stdout",
     "output_type": "stream",
     "text": [
      "accuracy 0.84\n",
      "[[22479  4485]\n",
      " [ 1335  7899]]\n",
      "AUC 0.84\n",
      "             precision    recall  f1-score   support\n",
      "\n",
      "          0       0.94      0.83      0.89     26964\n",
      "          1       0.64      0.86      0.73      9234\n",
      "\n",
      "avg / total       0.87      0.84      0.85     36198\n",
      "\n"
     ]
    }
   ],
   "source": [
    "print('accuracy',round((score),2))\n",
    "cm=confusion_matrix(y_test, pred)\n",
    "print(cm)\n",
    "\n",
    "auc = roc_auc_score(y_test, pred)\n",
    "print('AUC',round((auc),2))\n",
    "\n",
    "print(classification_report(y_test,pred))"
   ]
  },
  {
   "cell_type": "code",
   "execution_count": 40,
   "metadata": {},
   "outputs": [],
   "source": [
    "from sklearn.utils.multiclass import unique_labels"
   ]
  },
  {
   "cell_type": "code",
   "execution_count": 41,
   "metadata": {},
   "outputs": [
    {
     "name": "stdout",
     "output_type": "stream",
     "text": [
      "Predicted      0     1\n",
      "Actual                \n",
      "0          22479  4485\n",
      "1           1335  7899\n",
      "Predicted         0         1\n",
      "Actual                       \n",
      "0          0.833667  0.485705\n",
      "1          0.049510  0.855426\n"
     ]
    }
   ],
   "source": [
    "# create dataframe of confusion matrix\n",
    "df_confusion = pd.crosstab(y_test, pred, rownames=['Actual'], colnames=['Predicted'], margins=False)\n",
    "print(df_confusion)\n",
    "# normalized confusion matrix\n",
    "df_conf_norm = df_confusion / df_confusion.sum(axis=1)\n",
    "print(df_conf_norm)"
   ]
  },
  {
   "cell_type": "code",
   "execution_count": 42,
   "metadata": {},
   "outputs": [
    {
     "data": {
      "image/png": "[encoded data removed]",
      "text/plain": [
       "<Figure size 288x288 with 2 Axes>"
      ]
     },
     "metadata": {
      "needs_background": "light"
     },
     "output_type": "display_data"
    }
   ],
   "source": [
    "def plot_confusion_matrix(df_confusion, title='Confusion matrix', cmap=plt.cm.gray_r):\n",
    "    plt.matshow(df_confusion, cmap=cmap) # imshow\n",
    "    \n",
    "    \n",
    "     #plt.title(title)\n",
    "    plt.colorbar()\n",
    "    tick_marks = np.arange(len(df_confusion.columns))\n",
    "    plt.xticks(tick_marks, df_confusion.columns, rotation=45)\n",
    "    plt.yticks(tick_marks, df_confusion.index)\n",
    "    \n",
    "    \n",
    "    plt.ylabel(df_confusion.index.name)\n",
    "    plt.xlabel(df_confusion.columns.name)\n",
    "\n",
    "plot_confusion_matrix(df_confusion)"
   ]
  },
  {
   "cell_type": "code",
   "execution_count": 45,
   "metadata": {},
   "outputs": [],
   "source": [
    "general_df['InjuryDescription_tokens']=general_df['InjuryDescription'].astype(str).apply(nltk.word_tokenize)"
   ]
  },
  {
   "cell_type": "code",
   "execution_count": 46,
   "metadata": {},
   "outputs": [
    {
     "data": {
      "text/plain": [
       "0      [neckback]\n",
       "1          [pain]\n",
       "2        [strain]\n",
       "3          [back]\n",
       "4    [neck, back]\n",
       "Name: InjuryDescription_tokens, dtype: object"
      ]
     },
     "execution_count": 46,
     "metadata": {},
     "output_type": "execute_result"
    }
   ],
   "source": [
    "general_df['InjuryDescription_tokens'].head()"
   ]
  },
  {
   "cell_type": "code",
   "execution_count": 47,
   "metadata": {},
   "outputs": [],
   "source": [
    "## test['tweet'].apply(lambda x: [item for item in x if item not in stop])"
   ]
  },
  {
   "cell_type": "code",
   "execution_count": 48,
   "metadata": {},
   "outputs": [],
   "source": [
    "from collections import Counter"
   ]
  },
  {
   "cell_type": "code",
   "execution_count": 49,
   "metadata": {},
   "outputs": [],
   "source": [
    "general_df['word_counts_InjuryDescr'] = [dict(Counter(doc)) for doc in general_df['InjuryDescription_tokens']]"
   ]
  },
  {
   "cell_type": "code",
   "execution_count": 50,
   "metadata": {},
   "outputs": [
    {
     "data": {
      "text/plain": [
       "0           {'neckback': 1}\n",
       "1               {'pain': 1}\n",
       "2             {'strain': 1}\n",
       "3               {'back': 1}\n",
       "4    {'neck': 1, 'back': 1}\n",
       "Name: word_counts_InjuryDescr, dtype: object"
      ]
     },
     "execution_count": 50,
     "metadata": {},
     "output_type": "execute_result"
    }
   ],
   "source": [
    "general_df['word_counts_InjuryDescr'].head()"
   ]
  },
  {
   "cell_type": "code",
   "execution_count": 55,
   "metadata": {},
   "outputs": [],
   "source": [
    "from gensim.corpora.dictionary import Dictionary "
   ]
  },
  {
   "cell_type": "code",
   "execution_count": 56,
   "metadata": {},
   "outputs": [],
   "source": [
    "#dictionary = Dictionary(general_df['InjuryDescription_tokens'])\n",
    "#print(dictionary.token2id)"
   ]
  },
  {
   "cell_type": "code",
   "execution_count": 57,
   "metadata": {},
   "outputs": [],
   "source": [
    "#corpus = [dictionary.doc2bow(doc) for doc in general_df['InjuryDescription_tokens']]"
   ]
  },
  {
   "cell_type": "code",
   "execution_count": 58,
   "metadata": {},
   "outputs": [],
   "source": [
    "#corpus"
   ]
  },
  {
   "cell_type": "code",
   "execution_count": 59,
   "metadata": {},
   "outputs": [],
   "source": [
    "# import Tfidf model from gensim.models.tfidfmodel\n",
    "\n",
    "#from gensim.models.tfidfmodel import TfidfModel"
   ]
  },
  {
   "cell_type": "code",
   "execution_count": 60,
   "metadata": {},
   "outputs": [],
   "source": [
    "# give weights to  tokens infifth line in my documents \n",
    "#tfidf=TfidfModel(corpus)\n",
    "# calculate tfidf weights by passing corpus to tfidf\n",
    "#tfidf[corpus[4]]"
   ]
  },
  {
   "cell_type": "code",
   "execution_count": 61,
   "metadata": {},
   "outputs": [
    {
     "name": "stdout",
     "output_type": "stream",
     "text": [
      "                                       count\n",
      "LossCauseName                               \n",
      "CV rear-end IV                          9927\n",
      "Collision in an intersection           19367\n",
      "Collision while backing                 3150\n",
      "Collision while merging / lane change  10694\n",
      "Collision while turning left            7634\n",
      "Collision with a parked car             1358\n",
      "Collision with bicycle / motorcycle      832\n",
      "Collision with fixed object             5960\n",
      "Collision with motor vehicle           17548\n",
      "Collision with pedestrian               2406\n",
      "Collision with train or bus              107\n",
      "Damage in loading / unloading             27\n",
      "Falling or moving object                 312\n",
      "Fire                                      48\n",
      "Glass breakage                            21\n",
      "Hail                                       1\n",
      "Hazardous Condition                      864\n",
      "Hit and Run                             2699\n",
      "IV Repossessed                             6\n",
      "IV rear-end CV                         30669\n",
      "IV struck by or struck animal            517\n",
      "IV struck while parked                   390\n",
      "IV theft                                 139\n",
      "Malicious mischief and vandalism          83\n",
      "Rear-end collision                      4526\n",
      "Riot and civil commotion                  45\n",
      "Rollover                                1278\n",
      "Tornado                                    4\n",
      "Tow only                                  21\n",
      "Unlawfully Parked                          4\n",
      "Water / Flood                             20\n"
     ]
    },
    {
     "data": {
      "text/plain": [
       "<matplotlib.axes._subplots.AxesSubplot at 0x26d5f2a1208>"
      ]
     },
     "execution_count": 61,
     "metadata": {},
     "output_type": "execute_result"
    },
    {
     "data": {
      "image/png": "[encoded data removed]",
      "text/plain": [
       "<Figure size 432x288 with 1 Axes>"
      ]
     },
     "metadata": {
      "needs_background": "light"
     },
     "output_type": "display_data"
    }
   ],
   "source": [
    "# cause of accidents \n",
    "cause_df=general_df[['ClaimID_RGEN','LossCauseName']].groupby('LossCauseName').count()\n",
    "# rename columns and then plot\n",
    "cause_df.rename(columns={'ClaimID_RGEN':'count'},inplace=True)\n",
    "print(cause_df)\n",
    "cause_df.plot(kind='bar')"
   ]
  },
  {
   "cell_type": "code",
   "execution_count": 62,
   "metadata": {},
   "outputs": [],
   "source": [
    "cause_df['cause_share']=(cause_df['count'])/(len(general_df))\n",
    "cause_df=cause_df.drop('count',axis=1).sort_values('cause_share',ascending=False)\n"
   ]
  },
  {
   "cell_type": "code",
   "execution_count": 63,
   "metadata": {},
   "outputs": [
    {
     "data": {
      "text/html": [
       "<div>\n",
       "<style scoped>\n",
       "    .dataframe tbody tr th:only-of-type {\n",
       "        vertical-align: middle;\n",
       "    }\n",
       "\n",
       "    .dataframe tbody tr th {\n",
       "        vertical-align: top;\n",
       "    }\n",
       "\n",
       "    .dataframe thead th {\n",
       "        text-align: right;\n",
       "    }\n",
       "</style>\n",
       "<table border=\"1\" class=\"dataframe\">\n",
       "  <thead>\n",
       "    <tr style=\"text-align: right;\">\n",
       "      <th></th>\n",
       "      <th>cause_share</th>\n",
       "    </tr>\n",
       "    <tr>\n",
       "      <th>LossCauseName</th>\n",
       "      <th></th>\n",
       "    </tr>\n",
       "  </thead>\n",
       "  <tbody>\n",
       "    <tr>\n",
       "      <th>IV rear-end CV</th>\n",
       "      <td>0.254183</td>\n",
       "    </tr>\n",
       "    <tr>\n",
       "      <th>Collision in an intersection</th>\n",
       "      <td>0.160513</td>\n",
       "    </tr>\n",
       "    <tr>\n",
       "      <th>Collision with motor vehicle</th>\n",
       "      <td>0.145437</td>\n",
       "    </tr>\n",
       "    <tr>\n",
       "      <th>Collision while merging / lane change</th>\n",
       "      <td>0.088631</td>\n",
       "    </tr>\n",
       "    <tr>\n",
       "      <th>CV rear-end IV</th>\n",
       "      <td>0.082275</td>\n",
       "    </tr>\n",
       "  </tbody>\n",
       "</table>\n",
       "</div>"
      ],
      "text/plain": [
       "                                       cause_share\n",
       "LossCauseName                                     \n",
       "IV rear-end CV                            0.254183\n",
       "Collision in an intersection              0.160513\n",
       "Collision with motor vehicle              0.145437\n",
       "Collision while merging / lane change     0.088631\n",
       "CV rear-end IV                            0.082275"
      ]
     },
     "execution_count": 63,
     "metadata": {},
     "output_type": "execute_result"
    }
   ],
   "source": [
    "cause_df=cause_df.head(10)\n",
    "cause_df.head()"
   ]
  },
  {
   "cell_type": "code",
   "execution_count": 64,
   "metadata": {},
   "outputs": [
    {
     "data": {
      "text/plain": [
       "Text(0.5,1,'Percentage Share of Accident Causes')"
      ]
     },
     "execution_count": 64,
     "metadata": {},
     "output_type": "execute_result"
    },
    {
     "data": {
      "image/png": "[encoded data removed]",
      "text/plain": [
       "<Figure size 432x288 with 1 Axes>"
      ]
     },
     "metadata": {
      "needs_background": "light"
     },
     "output_type": "display_data"
    }
   ],
   "source": [
    "cause_df.plot(kind='bar')\n",
    "plt.ylabel('Percentage')\n",
    "plt.xlabel('')\n",
    "plt.title(\"Percentage Share of Accident Causes\")"
   ]
  },
  {
   "cell_type": "code",
   "execution_count": 65,
   "metadata": {},
   "outputs": [
    {
     "data": {
      "text/plain": [
       "120657"
      ]
     },
     "execution_count": 65,
     "metadata": {},
     "output_type": "execute_result"
    }
   ],
   "source": [
    "len(general_df)"
   ]
  },
  {
   "cell_type": "code",
   "execution_count": 66,
   "metadata": {},
   "outputs": [],
   "source": [
    "general_df['LossCauseName']=general_df.LossCauseName.map"
   ]
  },
  {
   "cell_type": "code",
   "execution_count": 67,
   "metadata": {},
   "outputs": [
    {
     "name": "stdout",
     "output_type": "stream",
     "text": [
      "[nltk_data] Downloading package punkt to\n",
      "[nltk_data]     C:\\Users\\fevty\\AppData\\Roaming\\nltk_data...\n",
      "[nltk_data]   Package punkt is already up-to-date!\n"
     ]
    },
    {
     "data": {
      "text/plain": [
       "True"
      ]
     },
     "execution_count": 67,
     "metadata": {},
     "output_type": "execute_result"
    }
   ],
   "source": [
    "nltk.download('punkt')"
   ]
  },
  {
   "cell_type": "code",
   "execution_count": 68,
   "metadata": {},
   "outputs": [
    {
     "data": {
      "text/plain": [
       "<matplotlib.axes._subplots.AxesSubplot at 0x26d5f3e1278>"
      ]
     },
     "execution_count": 68,
     "metadata": {},
     "output_type": "execute_result"
    },
    {
     "data": {
      "image/png": "[encoded data removed]",
      "text/plain": [
       "<Figure size 432x288 with 1 Axes>"
      ]
     },
     "metadata": {
      "needs_background": "light"
     },
     "output_type": "display_data"
    }
   ],
   "source": [
    "# who was at fault\n",
    "fualts=general_df[['ClaimID_RGEN','FaultRatingName']].groupby('FaultRatingName').count()\n",
    "#.rename(columns=('ClaimID_RGEN':'count',inplace=True)\n",
    "fualts.rename(columns={'ClaimID_RGEN':'count'},inplace=True)\n",
    "fualts.plot(kind='bar')"
   ]
  }
 ],
 "metadata": {
  "kernelspec": {
   "display_name": "Python 3",
   "language": "python",
   "name": "python3"
  },
  "language_info": {
   "codemirror_mode": {
    "name": "ipython",
    "version": 3
   },
   "file_extension": ".py",
   "mimetype": "text/x-python",
   "name": "python",
   "nbconvert_exporter": "python",
   "pygments_lexer": "ipython3",
   "version": "3.6.4"
  }
 },
 "nbformat": 4,
 "nbformat_minor": 2
}

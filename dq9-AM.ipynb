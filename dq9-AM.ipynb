{
 "cells": [
  {
   "cell_type": "markdown",
   "metadata": {},
   "source": [
    "# The General Claims Data\n",
    "- Primary question of interest: Who was at fault?\n",
    "<br> <br>\n",
    "- Secondary questions of interest:\n",
    "    - What Claim Group should the claim be routed to?\n",
    "    - Can we predict severity type (minor, moderate, major, life threatening, death)\n",
    "    - What was the cause of the loss?"
   ]
  },
  {
   "cell_type": "code",
   "execution_count": 1,
   "metadata": {},
   "outputs": [],
   "source": [
    "import pandas as pd\n",
    "import numpy as np\n",
    "import spacy\n",
    "import en_core_web_lg"
   ]
  },
  {
   "cell_type": "code",
   "execution_count": 120,
   "metadata": {},
   "outputs": [],
   "source": [
    "import matplotlib.pyplot as plt\n",
    "\n",
    "%matplotlib inline\n",
    "# Increasing default figure size of the notebook\n",
    "plt.rcParams['figure.figsize'] = [12, 8]\n",
    "plt.rcParams['font.size'] = 18"
   ]
  },
  {
   "cell_type": "code",
   "execution_count": 2,
   "metadata": {},
   "outputs": [],
   "source": [
    "import nltk\n",
    "from nltk import word_tokenize"
   ]
  },
  {
   "cell_type": "code",
   "execution_count": 3,
   "metadata": {},
   "outputs": [],
   "source": [
    "from nltk.corpus import stopwords\n",
    "# stop = stopwords.words('english')"
   ]
  },
  {
   "cell_type": "code",
   "execution_count": 4,
   "metadata": {},
   "outputs": [],
   "source": [
    "stop = ['ourselves', 'hers', 'between', 'yourself', 'but', 'again', 'there', 'about', 'once', 'during', 'out', \n",
    " 'very', 'having', 'with', 'they', 'own', 'an', 'be', 'some', 'for', 'do', 'its', 'yours', 'such', 'into', \n",
    " 'of', 'most', 'itself', 'other', 'off', 'is', 's', 'am', 'or', 'who', 'as', 'from', 'him', 'each', 'the', \n",
    " 'themselves', 'until', 'below', 'are', 'we', 'these', 'your', 'his', 'through', 'don', 'nor', 'me', 'were', \n",
    " 'her', 'more', 'himself', 'this', 'down', 'should', 'our', 'their', 'while', 'above', 'both', 'up', 'to', 'ours', \n",
    " 'had', 'she', 'all', 'no', 'when', 'at', 'any', 'before', 'them', 'same', 'and', 'been', 'have', 'in', 'will', \n",
    " 'on', 'does', 'yourselves', 'then', 'that', 'because', 'what', 'over', 'why', 'so', 'can', 'did', 'not', 'now', \n",
    " 'under', 'he', 'you', 'herself', 'has', 'just', 'where', 'too', 'only', 'myself', 'which', 'those', 'i', 'after', \n",
    " 'few', 'whom', 't', 'being', 'if', 'theirs', 'my', 'against', 'a', 'doing', 'it', 'how', 'further', 'was', \n",
    " 'here', 'than']"
   ]
  },
  {
   "cell_type": "code",
   "execution_count": 5,
   "metadata": {},
   "outputs": [],
   "source": [
    "import gensim"
   ]
  },
  {
   "cell_type": "code",
   "execution_count": 6,
   "metadata": {},
   "outputs": [],
   "source": [
    "# general_tokens_df = pd.read_csv('data/general_with_tokens.csv')"
   ]
  },
  {
   "cell_type": "code",
   "execution_count": 7,
   "metadata": {},
   "outputs": [],
   "source": [
    "# general_tokens_df.head()"
   ]
  },
  {
   "cell_type": "code",
   "execution_count": 8,
   "metadata": {},
   "outputs": [],
   "source": [
    "from ast import literal_eval"
   ]
  },
  {
   "cell_type": "code",
   "execution_count": 9,
   "metadata": {},
   "outputs": [],
   "source": [
    "# def join_strings(df, columns):\n",
    "#     n_df = df\n",
    "#     for col in columns:\n",
    "#         def join_col(row):\n",
    "#             claim_list = row[col]\n",
    "#             return ' '.join(claim_list)\n",
    "#         n_df[col] = n_df.apply(join_col, axis = 1)\n",
    "#     return n_df\n",
    "# convert lists from strings back to lists\n",
    "def convert_to_list(df,cols):\n",
    "    n_df = df\n",
    "    for col in cols:\n",
    "        def de_list(row):\n",
    "            list_str = row[col]\n",
    "            return literal_eval(list_str)\n",
    "        n_df[col] = n_df.apply(de_list, axis = 1)\n",
    "    return n_df"
   ]
  },
  {
   "cell_type": "code",
   "execution_count": 10,
   "metadata": {},
   "outputs": [],
   "source": [
    "# general_tokens_df = convert_to_list(general_tokens_df, ['claim_level_list', 'exposure_level_list',\n",
    "#                                                        'accident_desc_list', 'injury_desc_list',\n",
    "#                                                        'damage_desc_list'])"
   ]
  },
  {
   "cell_type": "code",
   "execution_count": 11,
   "metadata": {},
   "outputs": [],
   "source": [
    "general_df = pd.read_csv('data/general_with_word_counts.csv')\n"
   ]
  },
  {
   "cell_type": "code",
   "execution_count": 12,
   "metadata": {},
   "outputs": [
    {
     "data": {
      "text/html": [
       "<div>\n",
       "<style scoped>\n",
       "    .dataframe tbody tr th:only-of-type {\n",
       "        vertical-align: middle;\n",
       "    }\n",
       "\n",
       "    .dataframe tbody tr th {\n",
       "        vertical-align: top;\n",
       "    }\n",
       "\n",
       "    .dataframe thead th {\n",
       "        text-align: right;\n",
       "    }\n",
       "</style>\n",
       "<table border=\"1\" class=\"dataframe\">\n",
       "  <thead>\n",
       "    <tr style=\"text-align: right;\">\n",
       "      <th></th>\n",
       "      <th>ClaimID_RGEN</th>\n",
       "      <th>ExposureID_RGEN</th>\n",
       "      <th>ClaimLevelBody</th>\n",
       "      <th>ExposureLevelBody</th>\n",
       "      <th>AccidentDescription</th>\n",
       "      <th>InjuryDescription</th>\n",
       "      <th>DamageDescription</th>\n",
       "      <th>SeverityTypeName</th>\n",
       "      <th>ClaimGroup</th>\n",
       "      <th>FaultRatingName</th>\n",
       "      <th>...</th>\n",
       "      <th>insd_count</th>\n",
       "      <th>insured_count</th>\n",
       "      <th>rear_count</th>\n",
       "      <th>deployed_count</th>\n",
       "      <th>towed_count</th>\n",
       "      <th>totaled_count</th>\n",
       "      <th>head_count</th>\n",
       "      <th>ambulance_count</th>\n",
       "      <th>concussion_count</th>\n",
       "      <th>whiplash_count</th>\n",
       "    </tr>\n",
       "  </thead>\n",
       "  <tbody>\n",
       "    <tr>\n",
       "      <th>0</th>\n",
       "      <td>10000</td>\n",
       "      <td>131005</td>\n",
       "      <td>reviewed\\r\\ncoverage  sc rated policy and loss...</td>\n",
       "      <td>none none liability accepted by adverse and da...</td>\n",
       "      <td>the insured was test driving a vehicle  the ov...</td>\n",
       "      <td>neckback</td>\n",
       "      <td>front left side damages  towed collision tow i...</td>\n",
       "      <td>Moderate</td>\n",
       "      <td>Tampa Field Ops</td>\n",
       "      <td>Other party at fault</td>\n",
       "      <td>...</td>\n",
       "      <td>0</td>\n",
       "      <td>0</td>\n",
       "      <td>0</td>\n",
       "      <td>0</td>\n",
       "      <td>0</td>\n",
       "      <td>0</td>\n",
       "      <td>0</td>\n",
       "      <td>0</td>\n",
       "      <td>0</td>\n",
       "      <td>0</td>\n",
       "    </tr>\n",
       "    <tr>\n",
       "      <th>1</th>\n",
       "      <td>10001</td>\n",
       "      <td>131006</td>\n",
       "      <td>c  dol  *******\\r\\n      tol *** pm\\r\\n      v...</td>\n",
       "      <td>c  coverage\\r\\ndol *****\\r\\nfnol ***** by ni \\...</td>\n",
       "      <td>the iv was driving down the road when the ov i...</td>\n",
       "      <td>pain</td>\n",
       "      <td>front right headlight front side of bumper  dr...</td>\n",
       "      <td>Minor</td>\n",
       "      <td>Tampa Field Ops</td>\n",
       "      <td>Other party at fault</td>\n",
       "      <td>...</td>\n",
       "      <td>0</td>\n",
       "      <td>2</td>\n",
       "      <td>0</td>\n",
       "      <td>0</td>\n",
       "      <td>0</td>\n",
       "      <td>0</td>\n",
       "      <td>0</td>\n",
       "      <td>0</td>\n",
       "      <td>0</td>\n",
       "      <td>0</td>\n",
       "    </tr>\n",
       "    <tr>\n",
       "      <th>2</th>\n",
       "      <td>10002</td>\n",
       "      <td>131007</td>\n",
       "      <td>insured was in the hospital and lost service ...</td>\n",
       "      <td>none none c  coverage\\r\\ndol *****\\r\\nfnol ***...</td>\n",
       "      <td>insured was stopped at the stop light when cv ...</td>\n",
       "      <td>strain</td>\n",
       "      <td>unknown damages rear bumper trunk  right rear ...</td>\n",
       "      <td>Minor</td>\n",
       "      <td>Tampa Field Ops</td>\n",
       "      <td>Other party at fault</td>\n",
       "      <td>...</td>\n",
       "      <td>4</td>\n",
       "      <td>4</td>\n",
       "      <td>1</td>\n",
       "      <td>0</td>\n",
       "      <td>0</td>\n",
       "      <td>0</td>\n",
       "      <td>0</td>\n",
       "      <td>0</td>\n",
       "      <td>0</td>\n",
       "      <td>0</td>\n",
       "    </tr>\n",
       "    <tr>\n",
       "      <th>3</th>\n",
       "      <td>10003</td>\n",
       "      <td>131008</td>\n",
       "      <td>insured was in the hospital and lost service ...</td>\n",
       "      <td>none none hhcsi dos ****** atd for brant willi...</td>\n",
       "      <td>insured was stopped at the stop light when cv ...</td>\n",
       "      <td>back</td>\n",
       "      <td>unknown damages rear bumper trunk  right rear ...</td>\n",
       "      <td>NaN</td>\n",
       "      <td>Tampa Field Ops</td>\n",
       "      <td>Other party at fault</td>\n",
       "      <td>...</td>\n",
       "      <td>4</td>\n",
       "      <td>4</td>\n",
       "      <td>1</td>\n",
       "      <td>0</td>\n",
       "      <td>0</td>\n",
       "      <td>0</td>\n",
       "      <td>0</td>\n",
       "      <td>0</td>\n",
       "      <td>0</td>\n",
       "      <td>0</td>\n",
       "    </tr>\n",
       "    <tr>\n",
       "      <th>4</th>\n",
       "      <td>10004</td>\n",
       "      <td>131009</td>\n",
       "      <td>adjuster out of office\\r\\nreassigned adjuster ...</td>\n",
       "      <td>new pip loss received  additional action neede...</td>\n",
       "      <td>ov re host veh</td>\n",
       "      <td>neck back</td>\n",
       "      <td>none none none</td>\n",
       "      <td>Minor</td>\n",
       "      <td>Fast Track</td>\n",
       "      <td>Other party at fault</td>\n",
       "      <td>...</td>\n",
       "      <td>0</td>\n",
       "      <td>10</td>\n",
       "      <td>0</td>\n",
       "      <td>0</td>\n",
       "      <td>0</td>\n",
       "      <td>0</td>\n",
       "      <td>0</td>\n",
       "      <td>0</td>\n",
       "      <td>0</td>\n",
       "      <td>0</td>\n",
       "    </tr>\n",
       "  </tbody>\n",
       "</table>\n",
       "<p>5 rows × 47 columns</p>\n",
       "</div>"
      ],
      "text/plain": [
       "   ClaimID_RGEN  ExposureID_RGEN  \\\n",
       "0         10000           131005   \n",
       "1         10001           131006   \n",
       "2         10002           131007   \n",
       "3         10003           131008   \n",
       "4         10004           131009   \n",
       "\n",
       "                                      ClaimLevelBody  \\\n",
       "0  reviewed\\r\\ncoverage  sc rated policy and loss...   \n",
       "1  c  dol  *******\\r\\n      tol *** pm\\r\\n      v...   \n",
       "2   insured was in the hospital and lost service ...   \n",
       "3   insured was in the hospital and lost service ...   \n",
       "4  adjuster out of office\\r\\nreassigned adjuster ...   \n",
       "\n",
       "                                   ExposureLevelBody  \\\n",
       "0  none none liability accepted by adverse and da...   \n",
       "1  c  coverage\\r\\ndol *****\\r\\nfnol ***** by ni \\...   \n",
       "2  none none c  coverage\\r\\ndol *****\\r\\nfnol ***...   \n",
       "3  none none hhcsi dos ****** atd for brant willi...   \n",
       "4  new pip loss received  additional action neede...   \n",
       "\n",
       "                                 AccidentDescription InjuryDescription  \\\n",
       "0  the insured was test driving a vehicle  the ov...          neckback   \n",
       "1  the iv was driving down the road when the ov i...              pain   \n",
       "2  insured was stopped at the stop light when cv ...            strain   \n",
       "3  insured was stopped at the stop light when cv ...              back   \n",
       "4                                     ov re host veh         neck back   \n",
       "\n",
       "                                   DamageDescription SeverityTypeName  \\\n",
       "0  front left side damages  towed collision tow i...         Moderate   \n",
       "1  front right headlight front side of bumper  dr...            Minor   \n",
       "2  unknown damages rear bumper trunk  right rear ...            Minor   \n",
       "3  unknown damages rear bumper trunk  right rear ...              NaN   \n",
       "4                                     none none none            Minor   \n",
       "\n",
       "        ClaimGroup       FaultRatingName  ... insd_count insured_count  \\\n",
       "0  Tampa Field Ops  Other party at fault  ...          0             0   \n",
       "1  Tampa Field Ops  Other party at fault  ...          0             2   \n",
       "2  Tampa Field Ops  Other party at fault  ...          4             4   \n",
       "3  Tampa Field Ops  Other party at fault  ...          4             4   \n",
       "4       Fast Track  Other party at fault  ...          0            10   \n",
       "\n",
       "  rear_count deployed_count towed_count totaled_count head_count  \\\n",
       "0          0              0           0             0          0   \n",
       "1          0              0           0             0          0   \n",
       "2          1              0           0             0          0   \n",
       "3          1              0           0             0          0   \n",
       "4          0              0           0             0          0   \n",
       "\n",
       "  ambulance_count concussion_count whiplash_count  \n",
       "0               0                0              0  \n",
       "1               0                0              0  \n",
       "2               0                0              0  \n",
       "3               0                0              0  \n",
       "4               0                0              0  \n",
       "\n",
       "[5 rows x 47 columns]"
      ]
     },
     "execution_count": 12,
     "metadata": {},
     "output_type": "execute_result"
    }
   ],
   "source": [
    "general_df.head()"
   ]
  },
  {
   "cell_type": "code",
   "execution_count": 144,
   "metadata": {},
   "outputs": [
    {
     "data": {
      "text/plain": [
       "0    reviewed coverage sc rated policy loss effecti...\n",
       "1    c dol tol pm venue fl location jacksonville fl...\n",
       "2    insured hospital lost service middle claim ins...\n",
       "3    insured hospital lost service middle claim ins...\n",
       "4    adjuster office reassigned adjuster office rea...\n",
       "Name: claim_level_list, dtype: object"
      ]
     },
     "execution_count": 144,
     "metadata": {},
     "output_type": "execute_result"
    }
   ],
   "source": [
    "general_df.claim_level_list.head()"
   ]
  },
  {
   "cell_type": "code",
   "execution_count": 13,
   "metadata": {},
   "outputs": [
    {
     "name": "stdout",
     "output_type": "stream",
     "text": [
      "<class 'pandas.core.frame.DataFrame'>\n",
      "RangeIndex: 119272 entries, 0 to 119271\n",
      "Data columns (total 47 columns):\n",
      "ClaimID_RGEN                      119272 non-null int64\n",
      "ExposureID_RGEN                   119272 non-null int64\n",
      "ClaimLevelBody                    119272 non-null object\n",
      "ExposureLevelBody                 119272 non-null object\n",
      "AccidentDescription               119272 non-null object\n",
      "InjuryDescription                 119272 non-null object\n",
      "DamageDescription                 119272 non-null object\n",
      "SeverityTypeName                  86721 non-null object\n",
      "ClaimGroup                        119257 non-null object\n",
      "FaultRatingName                   119271 non-null object\n",
      "LossCauseName                     119272 non-null object\n",
      "CCCreateTime                      119272 non-null object\n",
      "CloseDate                         99601 non-null object\n",
      "StateName                         119272 non-null object\n",
      "ClaimLevelBody_preprocess         119272 non-null object\n",
      "ExposureLevelBody_preprocess      119272 non-null object\n",
      "AccidentDescription_preprocess    119272 non-null object\n",
      "InjuryDescription_preprocess      119272 non-null object\n",
      "DamageDescription_preprocess      119272 non-null object\n",
      "claim_level_list                  119272 non-null object\n",
      "exposure_level_list               119272 non-null object\n",
      "accident_desc_list                119272 non-null object\n",
      "injury_desc_list                  119272 non-null object\n",
      "damage_desc_list                  119272 non-null object\n",
      "claim_level_word_count            119272 non-null int64\n",
      "exposure_word_count               119272 non-null int64\n",
      "accident_desc_word_count          119272 non-null int64\n",
      "injury_desc_word_count            119272 non-null int64\n",
      "damage_desc_word_count            119272 non-null int64\n",
      "iv_count                          119272 non-null int64\n",
      "liability_count                   119272 non-null int64\n",
      "dcv_count                         119272 non-null int64\n",
      "inj_count                         119272 non-null int64\n",
      "vnop_count                        119272 non-null int64\n",
      "ac_count                          119272 non-null int64\n",
      "cv_count                          119272 non-null int64\n",
      "div_count                         119272 non-null int64\n",
      "insd_count                        119272 non-null int64\n",
      "insured_count                     119272 non-null int64\n",
      "rear_count                        119272 non-null int64\n",
      "deployed_count                    119272 non-null int64\n",
      "towed_count                       119272 non-null int64\n",
      "totaled_count                     119272 non-null int64\n",
      "head_count                        119272 non-null int64\n",
      "ambulance_count                   119272 non-null int64\n",
      "concussion_count                  119272 non-null int64\n",
      "whiplash_count                    119272 non-null int64\n",
      "dtypes: int64(25), object(22)\n",
      "memory usage: 42.8+ MB\n"
     ]
    }
   ],
   "source": [
    "general_df.info()"
   ]
  },
  {
   "cell_type": "code",
   "execution_count": 14,
   "metadata": {},
   "outputs": [],
   "source": [
    "# general_no_unknown = general_df.loc[general_df.loc[:,'FaultRatingName'] != 'Fault unknown',:].reset_index(drop=True)"
   ]
  },
  {
   "cell_type": "code",
   "execution_count": 15,
   "metadata": {},
   "outputs": [],
   "source": [
    "general_df = general_df.fillna({'exposure_level_list':' ', 'injury_desc_list':' ', 'damage_desc_list': ' '})"
   ]
  },
  {
   "cell_type": "code",
   "execution_count": 16,
   "metadata": {},
   "outputs": [],
   "source": [
    "# general_no_unknown.info()"
   ]
  },
  {
   "cell_type": "code",
   "execution_count": 17,
   "metadata": {},
   "outputs": [],
   "source": [
    "# nlp = en_core_web_lg.load()"
   ]
  },
  {
   "cell_type": "code",
   "execution_count": 18,
   "metadata": {},
   "outputs": [],
   "source": [
    "def column_to_list_text(df, col_name):\n",
    "    return df[col_name].tolist()"
   ]
  },
  {
   "cell_type": "code",
   "execution_count": 19,
   "metadata": {},
   "outputs": [],
   "source": [
    "def lower_columns(df, col_list):\n",
    "    n_df = df\n",
    "    for col_name in col_list:\n",
    "        n_col = col_name + '_preprocess'\n",
    "        n_df[n_col] = n_df[col_name].str.lower()\n",
    "    return n_df"
   ]
  },
  {
   "cell_type": "code",
   "execution_count": 20,
   "metadata": {},
   "outputs": [],
   "source": [
    "# lowered_df = lower_columns(general_df, ['ClaimLevelBody', 'ExposureLevelBody', 'AccidentDescription', \n",
    "#                                         'InjuryDescription', 'DamageDescription'])"
   ]
  },
  {
   "cell_type": "code",
   "execution_count": 21,
   "metadata": {},
   "outputs": [],
   "source": [
    "# lowered_df.head()"
   ]
  },
  {
   "cell_type": "code",
   "execution_count": 22,
   "metadata": {},
   "outputs": [],
   "source": [
    "def tokenize_claim_level(row):\n",
    "#     list_cols = [['ClaimLevelBody_preprocess', 'ExposureLevelBody_preprocess', 'AccidentDescription_preprocess', \n",
    "#                                         'InjuryDescription_preprocess', 'DamageDescription_preprocess']]\n",
    "    text = row['ClaimLevelBody_preprocess']\n",
    "    text_tokenize = [token for token in word_tokenize(text) if token.isalpha() and token not in stop]\n",
    "    return text_tokenize\n",
    "        \n",
    "def pre_process(df, col_list):\n",
    "    for col in col_list:\n",
    "        df[col] = df.apply(lambda x: tokenize(x, col), axis=1)\n",
    "    return df"
   ]
  },
  {
   "cell_type": "code",
   "execution_count": 23,
   "metadata": {},
   "outputs": [],
   "source": [
    "#lowered_df['ClaimLevelBody_preprocess'] = lowered_df.apply(tokenize_claim_level, axis = 1)"
   ]
  },
  {
   "cell_type": "code",
   "execution_count": 24,
   "metadata": {},
   "outputs": [],
   "source": [
    "#out_df.head()"
   ]
  },
  {
   "cell_type": "code",
   "execution_count": 25,
   "metadata": {},
   "outputs": [
    {
     "data": {
      "text/plain": [
       "'reviewed coverage sc rated policy loss effective dates coverage ni operating vnop vehicle appears loaner veh policy set cx non payment reinstated without lapse send ror citing definition covered auto insuring agreement section liability coverage liability modified compneg state need statements police report complete lia investigation based report loss driver pulled nis row exposure driver appears allstate lets confirm rule umpdumbi exposure appears pd rule injuries clmnt driver determine severity nis injuries secure uim rejection form action plan send ror complete vnop investigation statements confirm ownership veh insurance infomation vnop confirm driver lia coverage rule umpdumbi complete liability investigation statementspolice reportset appraisal needed rule serious injuries secure uim rejection form needed recovery applicable reviewed coverage sc rated policy loss effective dates coverage ni operating vnop vehicle appears loaner veh policy set cx non payment reinstated without lapse send ror citing definition covered auto insuring agreement section liability coverage liability modified compneg state need statements police report complete lia investigation based report loss driver pulled nis row exposure driver appears allstate lets confirm rule umpdumbi exposure appears pd rule injuries clmnt driver determine severity nis injuries secure uim rejection form action plan send ror complete vnop investigation statements confirm ownership veh insurance infomation vnop confirm driver lia coverage rule umpdumbi complete liability investigation statementspolice reportset appraisal needed rule serious injuries secure uim rejection form needed recovery applicable caller id ov sharon lentz allstate ins policy photos witnesses per caller caller id ov sharon lentz allstate ins policy photos witnesses per caller coverage policy period pol state sc eff date dol loss state sc mod comp dop y brian cashion vop n unknwn covg vop totoya camry col none pd bi pip none mp none umbi umpd n prior clms n billing amt due noi pymnt credit card ror vnop sent date coverage policy period pol state sc eff date dol loss state sc mod comp dop y brian cashion vop n unknwn covg vop totoya camry col none pd bi pip none mp none umbi umpd n prior clms n billing amt due noi pymnt credit card ror vnop sent date attempted contact wdiv ansno vm attempted contact wdiv lm attempted contact wcaller listed notes msg indicates vm set upno option lm ni contact phs sent contact ltr date attempted contact wdiv ansno vm attempted contact wdiv lm attempted contact wcaller listed notes msg indicates vm set upno option lm ni contact phs sent contact ltr date attempted contact wcaller id captured qrm note msg indicates vm set upno option lm attempted contact wcaller id captured qrm note msg indicates vm set upno option lm attempted contact wdcv msg indicates magic jack ph asgnd customerno option lm attempted contact wdcv lm vm howard caller id contacted previously appears connected sharon lentz contact ltr sent date attempted contact wdcv msg indicates magic jack ph asgnd customerno option lm attempted contact wdcv lm vm howard caller id contacted previously appears connected sharon lentz contact ltr sent date call ac allstate medpay adj james wells liability adj asgnd phunknwn addr po box columbia sc agt spoke wtj gilmore adv clm reported today fol reported by agt intersection accidentno addtl info inj james wells medpay adj file states unknwn inj reported dcv by agt tx confirmed damages specific damage info recvd info cv loc cv safe drive clm need rssnd liability adj limits unable disclose call agt office spoke wstephanie fol states dcv pulled pl struck by iv traveling improper speed cv loc unknwn col avail cv stephanie email call ac allstate medpay adj james wells liability adj asgnd phunknwn addr po box columbia sc agt spoke wtj gilmore adv clm reported today fol reported by agt intersection accidentno addtl info inj james wells medpay adj file states unknwn inj reported dcv by agt tx confirmed damages specific damage info recvd info cv loc cv safe drive clm need rssnd liability adj limits unable disclose call agt office spoke wstephanie fol states dcv pulled pl struck by iv traveling improper speed cv loc unknwn col avail cv stephanie email spoke wdiv secured ri name brian cashion addr wasson way simpsonville sc long addr parties wife rachel dob sc iv cadillac escalade oiv crown nissan greenville todd thayre cadillac escalade loaner veh ni looking purchase veh replace toyota camry listed pol ni pu loaner veh iv repair issues iv looking trade iv dealer allowed ni drive escalade finance pw complete ni states dealership sent incorrect pw chevy tahoe lh ni ok finance wrong veh dealer resend pw lh correct veh states today tomorrow would day signed pw escalade ni states signed loaner agreement prior taking escalade property ni states sign bos purchase escalade pivsdiv inj y div sore back div went er by amb scene back spasms tx xrayexamrx pain muscle relaxer via iv fu n health ins n cv honda car pcvsdcv inj y went er scene dol tol loc fairview south st div coming fairview lane turning rt onto south st lane dcv coming pl iv rt turning lt onto south st sl traffic control n div bearing rt onto south fairview dcv pulling pl implied stop obstructions n div traveling apx div states traveled apx south st prior impact wcv ad states going town traveling fairview south st div states came dcv pulled front iv div apx cv dcv pulled div struck cv div states unable brake attempt swerve rt avoid poi iv front bumpergrille nondrivable bc iv went erdiv thinks iv drivable cv lt doors nondrivable bc rear tire pr y simpsonville dcv found fault unknwn cited wits y women ni states call adv vnop ni states going add vnop policy purchased ni states dealership took ins card camry expl clms process adv covg issue col covg listed veh adv medpay pol adv need loaner agmnt ni states fax ni states vnop moved crown nissan ni states addrph dealer spoke wdiv secured ri name brian cashion addr wasson way simpsonville sc long addr parties wife rachel dob sc iv cadillac escalade oiv crown nissan greenville todd thayre cadillac escalade loaner veh ni looking purchase veh replace toyota camry listed pol ni pu loaner veh iv repair issues iv looking trade iv dealer allowed ni drive escalade finance pw complete ni states dealership sent incorrect pw chevy tahoe lh ni ok finance wrong veh dealer resend pw lh correct veh states today tomorrow would day signed pw escalade ni states signed loaner agreement prior taking escalade property ni states sign bos purchase escalade pivsdiv inj y div sore back div went er by amb scene back spasms tx xrayexamrx pain muscle relaxer via iv fu n health ins n cv honda car pcvsdcv inj y went er scene dol tol loc fairview south st div coming fairview lane turning rt onto south st lane dcv coming pl iv rt turning lt onto south st sl traffic control n div bearing rt onto south fairview dcv pulling pl implied stop obstructions n div traveling apx div states traveled apx south st prior impact wcv ad states going town traveling fairview south st div states came dcv pulled front iv div apx cv dcv pulled div struck cv div states unable brake attempt swerve rt avoid poi iv front bumpergrille nondrivable bc iv went erdiv thinks iv drivable cv lt doors nondrivable bc rear tire pr y simpsonville dcv found fault unknwn cited wits y women ni states call adv vnop ni states going add vnop policy purchased ni states dealership took ins card camry expl clms process adv covg issue col covg listed veh adv medpay pol adv need loaner agmnt ni states fax ni states vnop moved crown nissan ni states addrph dealer attempted contact wdcv lm alt ph loc iso search attempted contact wdcv lm alt ph loc iso search call crown nissan laurens rd greenville sc spoke wtodd thayre states ni signed loaner agrmnt bos states need confirm handling clm dealer cb confirmed vnop property unable make asgn time vnop inspect due new system constraints call crown nissan laurens rd greenville sc spoke wtodd thayre states ni signed loaner agrmnt bos states need confirm handling clm dealer cb confirmed vnop property unable make asgn time vnop inspect due new system constraints recvd forwarded b woody respond updated dcv ph recvd forwarded b woody respond updated dcv ph liability pending per div report loss dcv pulled pl make lt turn ftyrow iv liability appears maj adverse dcv ftyrow per div ri liability pending dcv ri pr mod comp venue bars recovery liability pending per div report loss dcv pulled pl make lt turn ftyrow iv liability appears maj adverse dcv ftyrow per div ri liability pending dcv ri pr mod comp venue bars recovery investigation per div report loss div driving loaner veh dealer dcv pulled pl struck by iv coverage see prior note vnop ror sent liability pending appears adverse dcv ftyrow damages iv fe nondrive loc dealershipno col avail cv lt side doors nondrive unknwn loccol avail allstate injuries div neckback appears soft tissue nature dcv unknwn inj completed actions div ri forwarded ror sent req dealership pw ownership vnop dealer contact made dcv contact attempt made mitigation ltr sent cv ac contacted confirm covg dcv ri asgn iv inspect secure dealer pw ownership vnop review covg secure pr confirm loss loc finalize liability paydeny appropriate subro unlikely col cv appears maj liable loss investigation per div report loss div driving loaner veh dealer dcv pulled pl struck by iv coverage see prior note vnop ror sent liability pending appears adverse dcv ftyrow damages iv fe nondrive loc dealershipno col avail cv lt side doors nondrive unknwn loccol avail allstate injuries div neckback appears soft tissue nature dcv unknwn inj completed actions div ri forwarded ror sent req dealership pw ownership vnop dealer contact made dcv contact attempt made mitigation ltr sent cv ac contacted confirm covg dcv ri asgn iv inspect secure dealer pw ownership vnop review covg secure pr confirm loss loc finalize liability paydeny appropriate subro unlikely col cv appears maj liable loss attempted contact wdcv msg indicates mailbox set upno option lm attempted contact wdcv msg indicates mailbox set upno option lm made asgn vnop inspect dealership auto damage appraisers sc independent appraiser columbia ave columbia sc south carolina united states phone fax adaalbanyautodamageappraisersnet declined drp veh properrty dealership owns vnop made asgn vnop inspect dealership auto damage appraisers sc independent appraiser columbia ave columbia sc south carolina united states phone fax adaalbanyautodamageappraisersnet declined drp veh properrty dealership owns vnop spoke wdcv adv driver involved accident states dghtr cacey elaine letz minor yo driver involved states spoken wlocal agt ac waiting adj cb ocv states dcv inj accident trnsprtd er scene dcv xrays fu wpcp states sore accident dcv cited accident adv mitigation damages confirmed dcv pulling pl impact occurred ocv may allow dcv give stmt feeling time spoke wdcv adv driver involved accident states dghtr cacey elaine letz minor yo driver involved states spoken wlocal agt ac waiting adj cb ocv states dcv inj accident trnsprtd er scene dcv xrays fu wpcp states sore accident dcv cited accident adv mitigation damages confirmed dcv pulling pl impact occurred ocv may allow dcv give stmt feeling time reviewed continue efforts investigate coverage vnop appears owned by delearship loander veh noted appears ni test driving vehicle signed bos sign loaner agreement need secure information confirm veh meets definition covered auto ack lia appears primarily fully driver complete lia investigation well prclmnt ri poi etc reviewed continue efforts investigate coverage vnop appears owned by delearship loander veh noted appears ni test driving vehicle signed bos sign loaner agreement need secure information confirm veh meets definition covered auto ack lia appears primarily fully driver complete lia investigation well prclmnt ri poi etc call ac allstate liability adj daniel doyle confirmed liability pending div reached stmt confirmed ac believes liability maj dcv investigation incomplete ac forward cv photos review ac spoken wdcv handling damages cv tl dcv inj sorenessringing earsdcv ok missed school call ac allstate liability adj daniel doyle confirmed liability pending div reached stmt confirmed ac believes liability maj dcv investigation incomplete ac forward cv photos review ac spoken wdcv handling damages cv tl dcv inj sorenessringing earsdcv ok missed school recvd iv appr appears line wfol unable issue pymnt vnop parts body labor hrs paint labor hrs paint supplies hrs total recvd iv appr appears line wfol unable issue pymnt vnop parts body labor hrs paint labor hrs paint supplies hrs total attempted contact wdcv lm wmother states dcv avail time avail several dys due school activities attempted contact wdcv lm wmother states dcv avail time avail several dys due school activities rcvd call daniel doyle allstate asked could reach ni attempted reach ni hm cell answer daniel sts looks like fault ax worried ni injs knows ni ems requested morphine scene informed per initial contact ni ems er fu txt time daniel requested transcribed copy rs informed would fwd request ha daniels email ddoyoallstatecom rcvd call daniel doyle allstate asked could reach ni attempted reach ni hm cell answer daniel sts looks like fault ax worried ni injs knows ni ems requested morphine scene informed per initial contact ni ems er fu txt time daniel requested transcribed copy rs informed would fwd request ha daniels email ddoyoallstatecom reviewed keep working finalize coverage able secure carrier information loaner veh coll coverage policy send coll letter ack clmnt driver filed carrier umpdumbi ruled reviewed keep working finalize coverage able secure carrier information loaner veh coll coverage policy send coll letter ack clmnt driver filed carrier umpdumbi ruled attempted contact wni line rings busy attempted contact wni lm attempted contact wni line rings busy attempted contact wni lm recvd cll cvo got rs fol cvd name kacey lentz dob phone address timberjack st simpsonville sc injured neck sore lft side face air bag lft knee ringing lft ear upper back ambulance yes hill crest memorial hospital clmt stay night physician miss school miss next day work work yrmakemodel honda fit towed yes north hill towing time loss pm road trav tol fairview pointe dr lanes ln direction police dept simpsonville pd citation none weather sunny obstructions telephone pole distractions glasses yes clmt tol glasses break ni glasses fol exiting stip mall looked seen one coming proceeded fwd thats notice niv coming south st attempted avoid accident by stepping still got impacted rear driver side niv frt drv bumper conversation ni witness yes pr end rs recvd cll cvo got rs fol cvd name kacey lentz dob phone address timberjack st simpsonville sc injured neck sore lft side face air bag lft knee ringing lft ear upper back ambulance yes hill crest memorial hospital clmt stay night physician miss school miss next day work work yrmakemodel honda fit towed yes north hill towing time loss pm road trav tol fairview pointe dr lanes ln direction police dept simpsonville pd citation none weather sunny obstructions telephone pole distractions glasses yes clmt tol glasses break ni glasses fol exiting stip mall looked seen one coming proceeded fwd thats notice niv coming south st attempted avoid accident by stepping still got impacted rear driver side niv frt drv bumper conversation ni witness yes pr end rs explained clm process coverages liability advised liability pending clmt understood explained clm process coverages liability advised liability pending clmt understood file review listed driver vnop cadillac escalade policy incepted dol sc policy loss col policy vnop loaner vehicle dealer thinking trading iv one ivd loaner since fol iv making rt street cv leaving parking made rt onto street vnop allstate carrier cv poi vnop front end cv left doors citations given injury brian cashion ivd transported back pains cacey elaine cvd transported minor yo soft tissue kristen make sure col letter sent need contact dealer get claim information vehicle lets fu adverse liability decision file review listed driver vnop cadillac escalade policy incepted dol sc policy loss col policy vnop loaner vehicle dealer thinking trading iv one ivd loaner since fol iv making rt street cv leaving parking made rt onto street vnop allstate carrier cv poi vnop front end cv left doors citations given injury brian cashion ivd transported back pains cacey elaine cvd transported minor yo soft tissue kristen make sure col letter sent need contact dealer get claim information vehicle lets fu adverse liability decision attempted contact wni ansno vm attempted contact wni lm attempted contact wni ansno vm attempted contact wni lm call ac allstate liability adj daniel doyle lm req liability status call ac allstate liability adj daniel doyle lm req liability status call ac allstate liability adj daniel doyle spoke wrich confirmed liability accepted vnop damages pd call ac allstate liability adj daniel doyle spoke wrich confirmed liability accepted vnop damages pd per divdcv report loss dcv pulled pl struck iv ac accepted liability dcv liable ftyrow per divdcv report loss dcv pulled pl struck iv ac accepted liability dcv liable ftyrow completed completed'"
      ]
     },
     "execution_count": 25,
     "metadata": {},
     "output_type": "execute_result"
    }
   ],
   "source": [
    "general_df.claim_level_list[0]"
   ]
  },
  {
   "cell_type": "code",
   "execution_count": 26,
   "metadata": {},
   "outputs": [],
   "source": [
    "# lowered_df.head()"
   ]
  },
  {
   "cell_type": "code",
   "execution_count": 27,
   "metadata": {},
   "outputs": [],
   "source": [
    "fault_ratings = column_to_list_text(general_df, 'FaultRatingName')"
   ]
  },
  {
   "cell_type": "code",
   "execution_count": 28,
   "metadata": {},
   "outputs": [],
   "source": [
    "claim_level_body = column_to_list_text(general_df, 'claim_level_list')"
   ]
  },
  {
   "cell_type": "code",
   "execution_count": 29,
   "metadata": {},
   "outputs": [],
   "source": [
    "exposure_level_body = column_to_list_text(general_df, 'exposure_level_list')"
   ]
  },
  {
   "cell_type": "code",
   "execution_count": 30,
   "metadata": {},
   "outputs": [],
   "source": [
    "accident_description = column_to_list_text(general_df, 'accident_desc_list')"
   ]
  },
  {
   "cell_type": "code",
   "execution_count": 31,
   "metadata": {},
   "outputs": [],
   "source": [
    "injury_description = column_to_list_text(general_df, 'injury_desc_list')"
   ]
  },
  {
   "cell_type": "code",
   "execution_count": 32,
   "metadata": {},
   "outputs": [],
   "source": [
    "damage_description = column_to_list_text(general_df, 'damage_desc_list')"
   ]
  },
  {
   "cell_type": "code",
   "execution_count": 33,
   "metadata": {},
   "outputs": [],
   "source": [
    "# claim_level_tokenized = [[token for token in word_tokenize(doc)] \n",
    "#                            for doc in claim_level_body]\n",
    "# exposure_level_tokenized = [[token for token in word_tokenize(doc)] \n",
    "#                            for doc in exposure_level_body]\n",
    "# accident_desc_tokenized = [[token for token in word_tokenize(doc)] \n",
    "#                            for doc in accident_description]\n",
    "# injury_desc_tokenized = [[token for token in word_tokenize(doc)] \n",
    "#                            for doc in injury_description]\n",
    "# damage_desc_tokenized = [[token for token in word_tokenize(doc) ] \n",
    "#                          for doc in damage_description]\n",
    "\n",
    "# [token for token in word_tokenize(damage_description) if token.isalpha()]"
   ]
  },
  {
   "cell_type": "code",
   "execution_count": 34,
   "metadata": {},
   "outputs": [],
   "source": [
    "from collections import Counter"
   ]
  },
  {
   "cell_type": "code",
   "execution_count": 35,
   "metadata": {
    "scrolled": true
   },
   "outputs": [],
   "source": [
    "# exposure_level_tokenized[4]"
   ]
  },
  {
   "cell_type": "code",
   "execution_count": 36,
   "metadata": {},
   "outputs": [],
   "source": [
    "# word_counts_claim = [dict(Counter(doc)) for doc in claim_level_tokenized]\n",
    "# word_counts_exposure = [dict(Counter(doc)) for doc in exposure_level_tokenized]\n",
    "# word_counts_accident = [dict(Counter(doc)) for doc in accident_desc_tokenized]\n",
    "# word_counts_injury = [dict(Counter(doc)) for doc in injury_desc_tokenized]\n",
    "# word_counts_damage = [dict(Counter(doc)) for doc in damage_desc_tokenized]"
   ]
  },
  {
   "cell_type": "code",
   "execution_count": 37,
   "metadata": {
    "scrolled": true
   },
   "outputs": [],
   "source": [
    "# word_counts_accident[30052]"
   ]
  },
  {
   "cell_type": "code",
   "execution_count": 38,
   "metadata": {},
   "outputs": [],
   "source": [
    "# claim_word_counts = [len(doc) for doc in claim_level_tokenized]\n",
    "# exposure_word_counts = [len(doc) for doc in exposure_level_tokenized]\n",
    "# accident_word_counts = [len(doc) for doc in accident_desc_tokenized]\n",
    "# injury_word_counts = [len(doc) for doc in injury_desc_tokenized]\n",
    "# damage_word_counts = [len(doc) for doc in damage_desc_tokenized]\n"
   ]
  },
  {
   "cell_type": "code",
   "execution_count": 39,
   "metadata": {},
   "outputs": [],
   "source": [
    "# iv_list = [0] * len(word_counts_claim)\n",
    "# liability_list = [0] * len(word_counts_claim)\n",
    "# dcv_list = [0] * len(word_counts_claim)\n",
    "# inj_list = [0] * len(word_counts_claim)\n",
    "# vnop_list = [0] * len(word_counts_claim)\n",
    "# ac_list = [0] * len(word_counts_claim)\n",
    "# cv_list = [0] * len(word_counts_claim)\n",
    "# div_list = [0] * len(word_counts_claim)\n",
    "# insd_list = [0] * len(word_counts_claim)\n",
    "# insured_list = [0] * len(word_counts_claim)\n",
    "# clmt_list = [0] * len(word_counts_claim)"
   ]
  },
  {
   "cell_type": "code",
   "execution_count": 40,
   "metadata": {},
   "outputs": [],
   "source": [
    "# head_list = [0] * len(word_counts_injury)\n",
    "# ambulance_list = [0] * len(word_counts_injury)\n",
    "# concussion_list = [0] * len(word_counts_injury)\n",
    "# whiplash_list = [0] * len(word_counts_injury)"
   ]
  },
  {
   "cell_type": "code",
   "execution_count": 41,
   "metadata": {},
   "outputs": [],
   "source": [
    "# rear_list = [0] * len(word_counts_accident)"
   ]
  },
  {
   "cell_type": "code",
   "execution_count": 42,
   "metadata": {},
   "outputs": [],
   "source": [
    "# deployed_list = [0] * len(word_counts_damage)\n",
    "# towed_list = [0] * len(word_counts_damage)\n",
    "# totaled_list = [0] * len(word_counts_damage)"
   ]
  },
  {
   "cell_type": "code",
   "execution_count": 43,
   "metadata": {},
   "outputs": [],
   "source": [
    "# for ind, count_dict in enumerate(word_counts_accident):\n",
    "#     if 'rear' in count_dict:\n",
    "#         rear_list[ind] = count_dict['rear']"
   ]
  },
  {
   "cell_type": "code",
   "execution_count": 44,
   "metadata": {},
   "outputs": [],
   "source": [
    "# for ind, count_dict in enumerate(word_counts_damage):\n",
    "#     if 'deployed' in count_dict:\n",
    "#         deployed_list[ind] = count_dict['deployed']\n",
    "#     if 'towed' in count_dict:\n",
    "#         towed_list[ind] = count_dict['towed']\n",
    "#     if 'totaled' in count_dict:\n",
    "#         totaled_list[ind] = count_dict['totaled']"
   ]
  },
  {
   "cell_type": "code",
   "execution_count": 45,
   "metadata": {},
   "outputs": [],
   "source": [
    "# for ind, count_dict in enumerate(word_counts_injury):\n",
    "#     if 'head' in count_dict:\n",
    "#         head_list[ind] = count_dict['head']\n",
    "#     if 'ambulance' in count_dict:\n",
    "#         ambulance_list[ind] = count_dict['ambulance']\n",
    "#     if 'concussion' in count_dict:\n",
    "#         concussion_list[ind] = count_dict['concussion']\n",
    "#     if 'whiplash' in count_dict:\n",
    "#         whiplash_list[ind] = count_dict['whiplash']"
   ]
  },
  {
   "cell_type": "code",
   "execution_count": 46,
   "metadata": {},
   "outputs": [],
   "source": [
    "# for ind, count_dict in enumerate(word_counts_claim):\n",
    "#     if 'iv' in count_dict:\n",
    "#         iv_list[ind] = count_dict['iv']\n",
    "#     else:\n",
    "#         iv_list[ind] = 0\n",
    "#     if 'liability' in count_dict:\n",
    "#         liability_list[ind] = count_dict['liability']\n",
    "#     else:\n",
    "#         liability_list[ind] = 0\n",
    "#     if 'dcv' in count_dict:\n",
    "#         dcv_list[ind] = count_dict['dcv']\n",
    "#     else:\n",
    "#         dcv_list[ind] = 0\n",
    "#     if 'inj' in count_dict:\n",
    "#         inj_list[ind] = count_dict['inj']\n",
    "#     else:\n",
    "#         inj_list[ind] = 0\n",
    "#     if 'vnop' in count_dict:\n",
    "#         vnop_list[ind] = count_dict['vnop']\n",
    "#     else:\n",
    "#         vnop_list[ind] = 0\n",
    "#     if 'ac' in count_dict:\n",
    "#         ac_list[ind] = count_dict['ac']\n",
    "#     else:\n",
    "#         ac_list[ind] = 0\n",
    "#     if 'cv' in count_dict:\n",
    "#         cv_list[ind] = count_dict['cv']\n",
    "#     else:\n",
    "#         cv_list[ind] = 0\n",
    "#     if 'div' in count_dict:\n",
    "#         div_list[ind] = count_dict['div']\n",
    "#     else:\n",
    "#         div_list[ind] = 0\n",
    "#     if 'insd' in count_dict:\n",
    "#         insd_list[ind] = count_dict['insd']\n",
    "#     else:\n",
    "#         insd_list[ind] = 0\n",
    "#     if 'insured' in count_dict:\n",
    "#         insured_list[ind] = count_dict['insured']\n",
    "#     else:\n",
    "#         insured_list[ind] = 0"
   ]
  },
  {
   "cell_type": "code",
   "execution_count": 47,
   "metadata": {},
   "outputs": [],
   "source": [
    "# iv_list[:10]"
   ]
  },
  {
   "cell_type": "code",
   "execution_count": 48,
   "metadata": {},
   "outputs": [],
   "source": [
    "# word_counts_claim[2]"
   ]
  },
  {
   "cell_type": "code",
   "execution_count": 49,
   "metadata": {},
   "outputs": [],
   "source": [
    "# word_cols = {'claim_level_word_count': claim_word_counts,\n",
    "#              'exposure_word_count': exposure_word_counts,\n",
    "#              'accident_desc_word_count': accident_word_counts,\n",
    "#     'injury_desc_word_count': injury_word_counts,\n",
    "#              'damage_desc_word_count': damage_word_counts,\n",
    "#     'iv_count': iv_list,\n",
    "#          'liability_count': liability_list,\n",
    "#          'dcv_count': dcv_list,\n",
    "#          'inj_count': inj_list,\n",
    "#              'vnop_count': vnop_list,\n",
    "#             'ac_count': ac_list,\n",
    "#             'cv_count': cv_list,\n",
    "#             'div_count': div_list,\n",
    "#             'insd_count': insd_list,\n",
    "#             'insured_count': insured_list,\n",
    "#             'rear_count': rear_list,\n",
    "#             'deployed_count': deployed_list,\n",
    "#             'towed_count': towed_list,\n",
    "#             'totaled_count': totaled_list,\n",
    "#             'head_count': head_list,\n",
    "#             'ambulance_count': ambulance_list,\n",
    "#             'concussion_count': concussion_list,\n",
    "#             'whiplash_count': whiplash_list}\n",
    "# df_spec_word_count = pd.DataFrame.from_dict(word_cols)"
   ]
  },
  {
   "cell_type": "code",
   "execution_count": 50,
   "metadata": {},
   "outputs": [],
   "source": [
    "# df_spec_word_count.head()"
   ]
  },
  {
   "cell_type": "code",
   "execution_count": 51,
   "metadata": {},
   "outputs": [],
   "source": [
    "# dict_cols = {'word_counts_claim': word_counts_claim,\n",
    "#          'word_counts_exposure': word_counts_exposure,\n",
    "#          'word_counts_accident': word_counts_accident,\n",
    "#          'word_counts_injury': word_counts_injury,\n",
    "#              'word_counts_damage': word_counts_damage}\n",
    "# df_word_count = pd.DataFrame.from_dict(dict_cols)"
   ]
  },
  {
   "cell_type": "code",
   "execution_count": 52,
   "metadata": {},
   "outputs": [],
   "source": [
    "# df_word_count.head()"
   ]
  },
  {
   "cell_type": "code",
   "execution_count": 53,
   "metadata": {},
   "outputs": [],
   "source": [
    "# token_cols = {'claim_level_list': claim_level_tokenized,\n",
    "#          'exposure_level_list': exposure_level_tokenized,\n",
    "#          'accident_desc_list': accident_desc_tokenized,\n",
    "#          'injury_desc_list': injury_desc_tokenized,\n",
    "#              'damage_desc_list': damage_desc_tokenized}\n",
    "# df = pd.DataFrame.from_dict(token_cols)"
   ]
  },
  {
   "cell_type": "code",
   "execution_count": 54,
   "metadata": {},
   "outputs": [],
   "source": [
    "# df.head()"
   ]
  },
  {
   "cell_type": "code",
   "execution_count": 55,
   "metadata": {},
   "outputs": [],
   "source": [
    "# len(df)"
   ]
  },
  {
   "cell_type": "code",
   "execution_count": 56,
   "metadata": {},
   "outputs": [],
   "source": [
    "# df_spec_word_counts = pd.concat([df_with_counts, df_spec_word_count], axis = 1)"
   ]
  },
  {
   "cell_type": "code",
   "execution_count": 57,
   "metadata": {},
   "outputs": [],
   "source": [
    "# df_with_tokens = pd.concat([lowered_df, df], axis = 1)"
   ]
  },
  {
   "cell_type": "code",
   "execution_count": 58,
   "metadata": {},
   "outputs": [],
   "source": [
    "# df_with_counts = pd.concat([general_df, df_spec_word_count], axis = 1)"
   ]
  },
  {
   "cell_type": "code",
   "execution_count": 59,
   "metadata": {},
   "outputs": [
    {
     "data": {
      "text/html": [
       "<div>\n",
       "<style scoped>\n",
       "    .dataframe tbody tr th:only-of-type {\n",
       "        vertical-align: middle;\n",
       "    }\n",
       "\n",
       "    .dataframe tbody tr th {\n",
       "        vertical-align: top;\n",
       "    }\n",
       "\n",
       "    .dataframe thead th {\n",
       "        text-align: right;\n",
       "    }\n",
       "</style>\n",
       "<table border=\"1\" class=\"dataframe\">\n",
       "  <thead>\n",
       "    <tr style=\"text-align: right;\">\n",
       "      <th></th>\n",
       "      <th>ClaimID_RGEN</th>\n",
       "      <th>ExposureID_RGEN</th>\n",
       "      <th>ClaimLevelBody</th>\n",
       "      <th>ExposureLevelBody</th>\n",
       "      <th>AccidentDescription</th>\n",
       "      <th>InjuryDescription</th>\n",
       "      <th>DamageDescription</th>\n",
       "      <th>SeverityTypeName</th>\n",
       "      <th>ClaimGroup</th>\n",
       "      <th>FaultRatingName</th>\n",
       "      <th>...</th>\n",
       "      <th>insd_count</th>\n",
       "      <th>insured_count</th>\n",
       "      <th>rear_count</th>\n",
       "      <th>deployed_count</th>\n",
       "      <th>towed_count</th>\n",
       "      <th>totaled_count</th>\n",
       "      <th>head_count</th>\n",
       "      <th>ambulance_count</th>\n",
       "      <th>concussion_count</th>\n",
       "      <th>whiplash_count</th>\n",
       "    </tr>\n",
       "  </thead>\n",
       "  <tbody>\n",
       "    <tr>\n",
       "      <th>0</th>\n",
       "      <td>10000</td>\n",
       "      <td>131005</td>\n",
       "      <td>reviewed\\r\\ncoverage  sc rated policy and loss...</td>\n",
       "      <td>none none liability accepted by adverse and da...</td>\n",
       "      <td>the insured was test driving a vehicle  the ov...</td>\n",
       "      <td>neckback</td>\n",
       "      <td>front left side damages  towed collision tow i...</td>\n",
       "      <td>Moderate</td>\n",
       "      <td>Tampa Field Ops</td>\n",
       "      <td>Other party at fault</td>\n",
       "      <td>...</td>\n",
       "      <td>0</td>\n",
       "      <td>0</td>\n",
       "      <td>0</td>\n",
       "      <td>0</td>\n",
       "      <td>0</td>\n",
       "      <td>0</td>\n",
       "      <td>0</td>\n",
       "      <td>0</td>\n",
       "      <td>0</td>\n",
       "      <td>0</td>\n",
       "    </tr>\n",
       "    <tr>\n",
       "      <th>1</th>\n",
       "      <td>10001</td>\n",
       "      <td>131006</td>\n",
       "      <td>c  dol  *******\\r\\n      tol *** pm\\r\\n      v...</td>\n",
       "      <td>c  coverage\\r\\ndol *****\\r\\nfnol ***** by ni \\...</td>\n",
       "      <td>the iv was driving down the road when the ov i...</td>\n",
       "      <td>pain</td>\n",
       "      <td>front right headlight front side of bumper  dr...</td>\n",
       "      <td>Minor</td>\n",
       "      <td>Tampa Field Ops</td>\n",
       "      <td>Other party at fault</td>\n",
       "      <td>...</td>\n",
       "      <td>0</td>\n",
       "      <td>2</td>\n",
       "      <td>0</td>\n",
       "      <td>0</td>\n",
       "      <td>0</td>\n",
       "      <td>0</td>\n",
       "      <td>0</td>\n",
       "      <td>0</td>\n",
       "      <td>0</td>\n",
       "      <td>0</td>\n",
       "    </tr>\n",
       "    <tr>\n",
       "      <th>2</th>\n",
       "      <td>10002</td>\n",
       "      <td>131007</td>\n",
       "      <td>insured was in the hospital and lost service ...</td>\n",
       "      <td>none none c  coverage\\r\\ndol *****\\r\\nfnol ***...</td>\n",
       "      <td>insured was stopped at the stop light when cv ...</td>\n",
       "      <td>strain</td>\n",
       "      <td>unknown damages rear bumper trunk  right rear ...</td>\n",
       "      <td>Minor</td>\n",
       "      <td>Tampa Field Ops</td>\n",
       "      <td>Other party at fault</td>\n",
       "      <td>...</td>\n",
       "      <td>4</td>\n",
       "      <td>4</td>\n",
       "      <td>1</td>\n",
       "      <td>0</td>\n",
       "      <td>0</td>\n",
       "      <td>0</td>\n",
       "      <td>0</td>\n",
       "      <td>0</td>\n",
       "      <td>0</td>\n",
       "      <td>0</td>\n",
       "    </tr>\n",
       "    <tr>\n",
       "      <th>3</th>\n",
       "      <td>10003</td>\n",
       "      <td>131008</td>\n",
       "      <td>insured was in the hospital and lost service ...</td>\n",
       "      <td>none none hhcsi dos ****** atd for brant willi...</td>\n",
       "      <td>insured was stopped at the stop light when cv ...</td>\n",
       "      <td>back</td>\n",
       "      <td>unknown damages rear bumper trunk  right rear ...</td>\n",
       "      <td>NaN</td>\n",
       "      <td>Tampa Field Ops</td>\n",
       "      <td>Other party at fault</td>\n",
       "      <td>...</td>\n",
       "      <td>4</td>\n",
       "      <td>4</td>\n",
       "      <td>1</td>\n",
       "      <td>0</td>\n",
       "      <td>0</td>\n",
       "      <td>0</td>\n",
       "      <td>0</td>\n",
       "      <td>0</td>\n",
       "      <td>0</td>\n",
       "      <td>0</td>\n",
       "    </tr>\n",
       "    <tr>\n",
       "      <th>4</th>\n",
       "      <td>10004</td>\n",
       "      <td>131009</td>\n",
       "      <td>adjuster out of office\\r\\nreassigned adjuster ...</td>\n",
       "      <td>new pip loss received  additional action neede...</td>\n",
       "      <td>ov re host veh</td>\n",
       "      <td>neck back</td>\n",
       "      <td>none none none</td>\n",
       "      <td>Minor</td>\n",
       "      <td>Fast Track</td>\n",
       "      <td>Other party at fault</td>\n",
       "      <td>...</td>\n",
       "      <td>0</td>\n",
       "      <td>10</td>\n",
       "      <td>0</td>\n",
       "      <td>0</td>\n",
       "      <td>0</td>\n",
       "      <td>0</td>\n",
       "      <td>0</td>\n",
       "      <td>0</td>\n",
       "      <td>0</td>\n",
       "      <td>0</td>\n",
       "    </tr>\n",
       "  </tbody>\n",
       "</table>\n",
       "<p>5 rows × 47 columns</p>\n",
       "</div>"
      ],
      "text/plain": [
       "   ClaimID_RGEN  ExposureID_RGEN  \\\n",
       "0         10000           131005   \n",
       "1         10001           131006   \n",
       "2         10002           131007   \n",
       "3         10003           131008   \n",
       "4         10004           131009   \n",
       "\n",
       "                                      ClaimLevelBody  \\\n",
       "0  reviewed\\r\\ncoverage  sc rated policy and loss...   \n",
       "1  c  dol  *******\\r\\n      tol *** pm\\r\\n      v...   \n",
       "2   insured was in the hospital and lost service ...   \n",
       "3   insured was in the hospital and lost service ...   \n",
       "4  adjuster out of office\\r\\nreassigned adjuster ...   \n",
       "\n",
       "                                   ExposureLevelBody  \\\n",
       "0  none none liability accepted by adverse and da...   \n",
       "1  c  coverage\\r\\ndol *****\\r\\nfnol ***** by ni \\...   \n",
       "2  none none c  coverage\\r\\ndol *****\\r\\nfnol ***...   \n",
       "3  none none hhcsi dos ****** atd for brant willi...   \n",
       "4  new pip loss received  additional action neede...   \n",
       "\n",
       "                                 AccidentDescription InjuryDescription  \\\n",
       "0  the insured was test driving a vehicle  the ov...          neckback   \n",
       "1  the iv was driving down the road when the ov i...              pain   \n",
       "2  insured was stopped at the stop light when cv ...            strain   \n",
       "3  insured was stopped at the stop light when cv ...              back   \n",
       "4                                     ov re host veh         neck back   \n",
       "\n",
       "                                   DamageDescription SeverityTypeName  \\\n",
       "0  front left side damages  towed collision tow i...         Moderate   \n",
       "1  front right headlight front side of bumper  dr...            Minor   \n",
       "2  unknown damages rear bumper trunk  right rear ...            Minor   \n",
       "3  unknown damages rear bumper trunk  right rear ...              NaN   \n",
       "4                                     none none none            Minor   \n",
       "\n",
       "        ClaimGroup       FaultRatingName  ... insd_count insured_count  \\\n",
       "0  Tampa Field Ops  Other party at fault  ...          0             0   \n",
       "1  Tampa Field Ops  Other party at fault  ...          0             2   \n",
       "2  Tampa Field Ops  Other party at fault  ...          4             4   \n",
       "3  Tampa Field Ops  Other party at fault  ...          4             4   \n",
       "4       Fast Track  Other party at fault  ...          0            10   \n",
       "\n",
       "  rear_count deployed_count towed_count totaled_count head_count  \\\n",
       "0          0              0           0             0          0   \n",
       "1          0              0           0             0          0   \n",
       "2          1              0           0             0          0   \n",
       "3          1              0           0             0          0   \n",
       "4          0              0           0             0          0   \n",
       "\n",
       "  ambulance_count concussion_count whiplash_count  \n",
       "0               0                0              0  \n",
       "1               0                0              0  \n",
       "2               0                0              0  \n",
       "3               0                0              0  \n",
       "4               0                0              0  \n",
       "\n",
       "[5 rows x 47 columns]"
      ]
     },
     "execution_count": 59,
     "metadata": {},
     "output_type": "execute_result"
    }
   ],
   "source": [
    "general_df.head()"
   ]
  },
  {
   "cell_type": "code",
   "execution_count": 60,
   "metadata": {},
   "outputs": [],
   "source": [
    "# len(df_with_tokens)"
   ]
  },
  {
   "cell_type": "code",
   "execution_count": 61,
   "metadata": {},
   "outputs": [],
   "source": [
    "# df_with_counts.to_csv('data/general_with_word_counts.csv', index = False)"
   ]
  },
  {
   "cell_type": "code",
   "execution_count": 62,
   "metadata": {},
   "outputs": [],
   "source": [
    "# lowered_df.FaultRatingName.value_counts()\n"
   ]
  },
  {
   "cell_type": "code",
   "execution_count": 63,
   "metadata": {},
   "outputs": [],
   "source": [
    "# general_tokens_df.iloc[0,22]"
   ]
  },
  {
   "cell_type": "code",
   "execution_count": 64,
   "metadata": {},
   "outputs": [],
   "source": [
    "def join_strings(df, columns):\n",
    "    n_df = df\n",
    "    for col in columns:\n",
    "        def join_col(row):\n",
    "            claim_list = row[col]\n",
    "            return ' '.join(claim_list)\n",
    "        n_df[col] = n_df.apply(join_col, axis = 1)\n",
    "    return n_df"
   ]
  },
  {
   "cell_type": "code",
   "execution_count": 65,
   "metadata": {},
   "outputs": [],
   "source": [
    "# general_full_strings = join_strings(df_with_tokens, ['claim_level_list', 'exposure_level_list',\n",
    "#                                                        'accident_desc_list', 'injury_desc_list',\n",
    "#                                                        'damage_desc_list'])"
   ]
  },
  {
   "cell_type": "code",
   "execution_count": 66,
   "metadata": {},
   "outputs": [],
   "source": [
    "# general_full_strings.head()"
   ]
  },
  {
   "cell_type": "code",
   "execution_count": 67,
   "metadata": {},
   "outputs": [
    {
     "data": {
      "text/plain": [
       "Index(['ClaimID_RGEN', 'ExposureID_RGEN', 'ClaimLevelBody',\n",
       "       'ExposureLevelBody', 'AccidentDescription', 'InjuryDescription',\n",
       "       'DamageDescription', 'SeverityTypeName', 'ClaimGroup',\n",
       "       'FaultRatingName', 'LossCauseName', 'CCCreateTime', 'CloseDate',\n",
       "       'StateName', 'ClaimLevelBody_preprocess',\n",
       "       'ExposureLevelBody_preprocess', 'AccidentDescription_preprocess',\n",
       "       'InjuryDescription_preprocess', 'DamageDescription_preprocess',\n",
       "       'claim_level_list', 'exposure_level_list', 'accident_desc_list',\n",
       "       'injury_desc_list', 'damage_desc_list', 'claim_level_word_count',\n",
       "       'exposure_word_count', 'accident_desc_word_count',\n",
       "       'injury_desc_word_count', 'damage_desc_word_count', 'iv_count',\n",
       "       'liability_count', 'dcv_count', 'inj_count', 'vnop_count', 'ac_count',\n",
       "       'cv_count', 'div_count', 'insd_count', 'insured_count', 'rear_count',\n",
       "       'deployed_count', 'towed_count', 'totaled_count', 'head_count',\n",
       "       'ambulance_count', 'concussion_count', 'whiplash_count'],\n",
       "      dtype='object')"
      ]
     },
     "execution_count": 67,
     "metadata": {},
     "output_type": "execute_result"
    }
   ],
   "source": [
    "general_df.columns"
   ]
  },
  {
   "cell_type": "markdown",
   "metadata": {},
   "source": [
    "## Model using the word counts for certain words"
   ]
  },
  {
   "cell_type": "code",
   "execution_count": 68,
   "metadata": {},
   "outputs": [
    {
     "data": {
      "text/html": [
       "<div>\n",
       "<style scoped>\n",
       "    .dataframe tbody tr th:only-of-type {\n",
       "        vertical-align: middle;\n",
       "    }\n",
       "\n",
       "    .dataframe tbody tr th {\n",
       "        vertical-align: top;\n",
       "    }\n",
       "\n",
       "    .dataframe thead th {\n",
       "        text-align: right;\n",
       "    }\n",
       "</style>\n",
       "<table border=\"1\" class=\"dataframe\">\n",
       "  <thead>\n",
       "    <tr style=\"text-align: right;\">\n",
       "      <th></th>\n",
       "      <th>claim_level_word_count</th>\n",
       "      <th>exposure_word_count</th>\n",
       "      <th>accident_desc_word_count</th>\n",
       "      <th>injury_desc_word_count</th>\n",
       "      <th>damage_desc_word_count</th>\n",
       "      <th>iv_count</th>\n",
       "      <th>liability_count</th>\n",
       "      <th>dcv_count</th>\n",
       "      <th>inj_count</th>\n",
       "      <th>vnop_count</th>\n",
       "      <th>...</th>\n",
       "      <th>insd_count</th>\n",
       "      <th>insured_count</th>\n",
       "      <th>rear_count</th>\n",
       "      <th>deployed_count</th>\n",
       "      <th>towed_count</th>\n",
       "      <th>totaled_count</th>\n",
       "      <th>head_count</th>\n",
       "      <th>ambulance_count</th>\n",
       "      <th>concussion_count</th>\n",
       "      <th>whiplash_count</th>\n",
       "    </tr>\n",
       "  </thead>\n",
       "  <tbody>\n",
       "    <tr>\n",
       "      <th>0</th>\n",
       "      <td>2832</td>\n",
       "      <td>14</td>\n",
       "      <td>10</td>\n",
       "      <td>1</td>\n",
       "      <td>16</td>\n",
       "      <td>38</td>\n",
       "      <td>42</td>\n",
       "      <td>52</td>\n",
       "      <td>14</td>\n",
       "      <td>42</td>\n",
       "      <td>...</td>\n",
       "      <td>0</td>\n",
       "      <td>0</td>\n",
       "      <td>0</td>\n",
       "      <td>0</td>\n",
       "      <td>0</td>\n",
       "      <td>0</td>\n",
       "      <td>0</td>\n",
       "      <td>0</td>\n",
       "      <td>0</td>\n",
       "      <td>0</td>\n",
       "    </tr>\n",
       "    <tr>\n",
       "      <th>1</th>\n",
       "      <td>1170</td>\n",
       "      <td>670</td>\n",
       "      <td>12</td>\n",
       "      <td>1</td>\n",
       "      <td>24</td>\n",
       "      <td>6</td>\n",
       "      <td>8</td>\n",
       "      <td>0</td>\n",
       "      <td>0</td>\n",
       "      <td>0</td>\n",
       "      <td>...</td>\n",
       "      <td>0</td>\n",
       "      <td>2</td>\n",
       "      <td>0</td>\n",
       "      <td>0</td>\n",
       "      <td>0</td>\n",
       "      <td>0</td>\n",
       "      <td>0</td>\n",
       "      <td>0</td>\n",
       "      <td>0</td>\n",
       "      <td>0</td>\n",
       "    </tr>\n",
       "    <tr>\n",
       "      <th>2</th>\n",
       "      <td>1665</td>\n",
       "      <td>422</td>\n",
       "      <td>8</td>\n",
       "      <td>1</td>\n",
       "      <td>8</td>\n",
       "      <td>32</td>\n",
       "      <td>30</td>\n",
       "      <td>0</td>\n",
       "      <td>0</td>\n",
       "      <td>0</td>\n",
       "      <td>...</td>\n",
       "      <td>4</td>\n",
       "      <td>4</td>\n",
       "      <td>1</td>\n",
       "      <td>0</td>\n",
       "      <td>0</td>\n",
       "      <td>0</td>\n",
       "      <td>0</td>\n",
       "      <td>0</td>\n",
       "      <td>0</td>\n",
       "      <td>0</td>\n",
       "    </tr>\n",
       "    <tr>\n",
       "      <th>3</th>\n",
       "      <td>1665</td>\n",
       "      <td>13</td>\n",
       "      <td>8</td>\n",
       "      <td>1</td>\n",
       "      <td>8</td>\n",
       "      <td>32</td>\n",
       "      <td>30</td>\n",
       "      <td>0</td>\n",
       "      <td>0</td>\n",
       "      <td>0</td>\n",
       "      <td>...</td>\n",
       "      <td>4</td>\n",
       "      <td>4</td>\n",
       "      <td>1</td>\n",
       "      <td>0</td>\n",
       "      <td>0</td>\n",
       "      <td>0</td>\n",
       "      <td>0</td>\n",
       "      <td>0</td>\n",
       "      <td>0</td>\n",
       "      <td>0</td>\n",
       "    </tr>\n",
       "    <tr>\n",
       "      <th>4</th>\n",
       "      <td>2447</td>\n",
       "      <td>944</td>\n",
       "      <td>4</td>\n",
       "      <td>2</td>\n",
       "      <td>3</td>\n",
       "      <td>3</td>\n",
       "      <td>14</td>\n",
       "      <td>6</td>\n",
       "      <td>6</td>\n",
       "      <td>3</td>\n",
       "      <td>...</td>\n",
       "      <td>0</td>\n",
       "      <td>10</td>\n",
       "      <td>0</td>\n",
       "      <td>0</td>\n",
       "      <td>0</td>\n",
       "      <td>0</td>\n",
       "      <td>0</td>\n",
       "      <td>0</td>\n",
       "      <td>0</td>\n",
       "      <td>0</td>\n",
       "    </tr>\n",
       "  </tbody>\n",
       "</table>\n",
       "<p>5 rows × 23 columns</p>\n",
       "</div>"
      ],
      "text/plain": [
       "   claim_level_word_count  exposure_word_count  accident_desc_word_count  \\\n",
       "0                    2832                   14                        10   \n",
       "1                    1170                  670                        12   \n",
       "2                    1665                  422                         8   \n",
       "3                    1665                   13                         8   \n",
       "4                    2447                  944                         4   \n",
       "\n",
       "   injury_desc_word_count  damage_desc_word_count  iv_count  liability_count  \\\n",
       "0                       1                      16        38               42   \n",
       "1                       1                      24         6                8   \n",
       "2                       1                       8        32               30   \n",
       "3                       1                       8        32               30   \n",
       "4                       2                       3         3               14   \n",
       "\n",
       "   dcv_count  inj_count  vnop_count  ...  insd_count  insured_count  \\\n",
       "0         52         14          42  ...           0              0   \n",
       "1          0          0           0  ...           0              2   \n",
       "2          0          0           0  ...           4              4   \n",
       "3          0          0           0  ...           4              4   \n",
       "4          6          6           3  ...           0             10   \n",
       "\n",
       "   rear_count  deployed_count  towed_count  totaled_count  head_count  \\\n",
       "0           0               0            0              0           0   \n",
       "1           0               0            0              0           0   \n",
       "2           1               0            0              0           0   \n",
       "3           1               0            0              0           0   \n",
       "4           0               0            0              0           0   \n",
       "\n",
       "   ambulance_count  concussion_count  whiplash_count  \n",
       "0                0                 0               0  \n",
       "1                0                 0               0  \n",
       "2                0                 0               0  \n",
       "3                0                 0               0  \n",
       "4                0                 0               0  \n",
       "\n",
       "[5 rows x 23 columns]"
      ]
     },
     "execution_count": 68,
     "metadata": {},
     "output_type": "execute_result"
    }
   ],
   "source": [
    "general_df.loc[:,'claim_level_word_count':].head()"
   ]
  },
  {
   "cell_type": "code",
   "execution_count": 69,
   "metadata": {},
   "outputs": [],
   "source": [
    "general_with_dummies = pd.concat([general_df.loc[:,'claim_level_word_count':], \n",
    "                                  pd.get_dummies(general_df['FaultRatingName'])], axis=1)"
   ]
  },
  {
   "cell_type": "code",
   "execution_count": 70,
   "metadata": {},
   "outputs": [
    {
     "data": {
      "text/html": [
       "<div>\n",
       "<style scoped>\n",
       "    .dataframe tbody tr th:only-of-type {\n",
       "        vertical-align: middle;\n",
       "    }\n",
       "\n",
       "    .dataframe tbody tr th {\n",
       "        vertical-align: top;\n",
       "    }\n",
       "\n",
       "    .dataframe thead th {\n",
       "        text-align: right;\n",
       "    }\n",
       "</style>\n",
       "<table border=\"1\" class=\"dataframe\">\n",
       "  <thead>\n",
       "    <tr style=\"text-align: right;\">\n",
       "      <th></th>\n",
       "      <th>claim_level_word_count</th>\n",
       "      <th>exposure_word_count</th>\n",
       "      <th>accident_desc_word_count</th>\n",
       "      <th>injury_desc_word_count</th>\n",
       "      <th>damage_desc_word_count</th>\n",
       "      <th>iv_count</th>\n",
       "      <th>liability_count</th>\n",
       "      <th>dcv_count</th>\n",
       "      <th>inj_count</th>\n",
       "      <th>vnop_count</th>\n",
       "      <th>...</th>\n",
       "      <th>towed_count</th>\n",
       "      <th>totaled_count</th>\n",
       "      <th>head_count</th>\n",
       "      <th>ambulance_count</th>\n",
       "      <th>concussion_count</th>\n",
       "      <th>whiplash_count</th>\n",
       "      <th>Comparative Negligence</th>\n",
       "      <th>Insured at fault</th>\n",
       "      <th>No fault</th>\n",
       "      <th>Other party at fault</th>\n",
       "    </tr>\n",
       "  </thead>\n",
       "  <tbody>\n",
       "    <tr>\n",
       "      <th>0</th>\n",
       "      <td>2832</td>\n",
       "      <td>14</td>\n",
       "      <td>10</td>\n",
       "      <td>1</td>\n",
       "      <td>16</td>\n",
       "      <td>38</td>\n",
       "      <td>42</td>\n",
       "      <td>52</td>\n",
       "      <td>14</td>\n",
       "      <td>42</td>\n",
       "      <td>...</td>\n",
       "      <td>0</td>\n",
       "      <td>0</td>\n",
       "      <td>0</td>\n",
       "      <td>0</td>\n",
       "      <td>0</td>\n",
       "      <td>0</td>\n",
       "      <td>0</td>\n",
       "      <td>0</td>\n",
       "      <td>0</td>\n",
       "      <td>1</td>\n",
       "    </tr>\n",
       "    <tr>\n",
       "      <th>1</th>\n",
       "      <td>1170</td>\n",
       "      <td>670</td>\n",
       "      <td>12</td>\n",
       "      <td>1</td>\n",
       "      <td>24</td>\n",
       "      <td>6</td>\n",
       "      <td>8</td>\n",
       "      <td>0</td>\n",
       "      <td>0</td>\n",
       "      <td>0</td>\n",
       "      <td>...</td>\n",
       "      <td>0</td>\n",
       "      <td>0</td>\n",
       "      <td>0</td>\n",
       "      <td>0</td>\n",
       "      <td>0</td>\n",
       "      <td>0</td>\n",
       "      <td>0</td>\n",
       "      <td>0</td>\n",
       "      <td>0</td>\n",
       "      <td>1</td>\n",
       "    </tr>\n",
       "    <tr>\n",
       "      <th>2</th>\n",
       "      <td>1665</td>\n",
       "      <td>422</td>\n",
       "      <td>8</td>\n",
       "      <td>1</td>\n",
       "      <td>8</td>\n",
       "      <td>32</td>\n",
       "      <td>30</td>\n",
       "      <td>0</td>\n",
       "      <td>0</td>\n",
       "      <td>0</td>\n",
       "      <td>...</td>\n",
       "      <td>0</td>\n",
       "      <td>0</td>\n",
       "      <td>0</td>\n",
       "      <td>0</td>\n",
       "      <td>0</td>\n",
       "      <td>0</td>\n",
       "      <td>0</td>\n",
       "      <td>0</td>\n",
       "      <td>0</td>\n",
       "      <td>1</td>\n",
       "    </tr>\n",
       "    <tr>\n",
       "      <th>3</th>\n",
       "      <td>1665</td>\n",
       "      <td>13</td>\n",
       "      <td>8</td>\n",
       "      <td>1</td>\n",
       "      <td>8</td>\n",
       "      <td>32</td>\n",
       "      <td>30</td>\n",
       "      <td>0</td>\n",
       "      <td>0</td>\n",
       "      <td>0</td>\n",
       "      <td>...</td>\n",
       "      <td>0</td>\n",
       "      <td>0</td>\n",
       "      <td>0</td>\n",
       "      <td>0</td>\n",
       "      <td>0</td>\n",
       "      <td>0</td>\n",
       "      <td>0</td>\n",
       "      <td>0</td>\n",
       "      <td>0</td>\n",
       "      <td>1</td>\n",
       "    </tr>\n",
       "    <tr>\n",
       "      <th>4</th>\n",
       "      <td>2447</td>\n",
       "      <td>944</td>\n",
       "      <td>4</td>\n",
       "      <td>2</td>\n",
       "      <td>3</td>\n",
       "      <td>3</td>\n",
       "      <td>14</td>\n",
       "      <td>6</td>\n",
       "      <td>6</td>\n",
       "      <td>3</td>\n",
       "      <td>...</td>\n",
       "      <td>0</td>\n",
       "      <td>0</td>\n",
       "      <td>0</td>\n",
       "      <td>0</td>\n",
       "      <td>0</td>\n",
       "      <td>0</td>\n",
       "      <td>0</td>\n",
       "      <td>0</td>\n",
       "      <td>0</td>\n",
       "      <td>1</td>\n",
       "    </tr>\n",
       "  </tbody>\n",
       "</table>\n",
       "<p>5 rows × 27 columns</p>\n",
       "</div>"
      ],
      "text/plain": [
       "   claim_level_word_count  exposure_word_count  accident_desc_word_count  \\\n",
       "0                    2832                   14                        10   \n",
       "1                    1170                  670                        12   \n",
       "2                    1665                  422                         8   \n",
       "3                    1665                   13                         8   \n",
       "4                    2447                  944                         4   \n",
       "\n",
       "   injury_desc_word_count  damage_desc_word_count  iv_count  liability_count  \\\n",
       "0                       1                      16        38               42   \n",
       "1                       1                      24         6                8   \n",
       "2                       1                       8        32               30   \n",
       "3                       1                       8        32               30   \n",
       "4                       2                       3         3               14   \n",
       "\n",
       "   dcv_count  inj_count  vnop_count  ...  towed_count  totaled_count  \\\n",
       "0         52         14          42  ...            0              0   \n",
       "1          0          0           0  ...            0              0   \n",
       "2          0          0           0  ...            0              0   \n",
       "3          0          0           0  ...            0              0   \n",
       "4          6          6           3  ...            0              0   \n",
       "\n",
       "   head_count  ambulance_count  concussion_count  whiplash_count  \\\n",
       "0           0                0                 0               0   \n",
       "1           0                0                 0               0   \n",
       "2           0                0                 0               0   \n",
       "3           0                0                 0               0   \n",
       "4           0                0                 0               0   \n",
       "\n",
       "   Comparative Negligence  Insured at fault  No fault  Other party at fault  \n",
       "0                       0                 0         0                     1  \n",
       "1                       0                 0         0                     1  \n",
       "2                       0                 0         0                     1  \n",
       "3                       0                 0         0                     1  \n",
       "4                       0                 0         0                     1  \n",
       "\n",
       "[5 rows x 27 columns]"
      ]
     },
     "execution_count": 70,
     "metadata": {},
     "output_type": "execute_result"
    }
   ],
   "source": [
    "general_with_dummies.head()"
   ]
  },
  {
   "cell_type": "code",
   "execution_count": 71,
   "metadata": {},
   "outputs": [
    {
     "data": {
      "text/plain": [
       "Insured at fault          74304\n",
       "Other party at fault      29394\n",
       "Comparative Negligence     8178\n",
       "No fault                   7395\n",
       "Name: FaultRatingName, dtype: int64"
      ]
     },
     "execution_count": 71,
     "metadata": {},
     "output_type": "execute_result"
    }
   ],
   "source": [
    "general_df.FaultRatingName.value_counts()"
   ]
  },
  {
   "cell_type": "code",
   "execution_count": 72,
   "metadata": {},
   "outputs": [
    {
     "data": {
      "text/plain": [
       "1    74304\n",
       "0    44968\n",
       "Name: Insured at fault, dtype: int64"
      ]
     },
     "execution_count": 72,
     "metadata": {},
     "output_type": "execute_result"
    }
   ],
   "source": [
    "general_with_dummies['Insured at fault'].value_counts()"
   ]
  },
  {
   "cell_type": "code",
   "execution_count": 73,
   "metadata": {},
   "outputs": [
    {
     "data": {
      "text/plain": [
       "0    89878\n",
       "1    29394\n",
       "Name: Other party at fault, dtype: int64"
      ]
     },
     "execution_count": 73,
     "metadata": {},
     "output_type": "execute_result"
    }
   ],
   "source": [
    "general_with_dummies['Other party at fault'].value_counts()"
   ]
  },
  {
   "cell_type": "code",
   "execution_count": 74,
   "metadata": {},
   "outputs": [],
   "source": [
    "import numpy as np\n",
    "from sklearn.model_selection import train_test_split\n",
    "from sklearn.pipeline import Pipeline\n",
    "from sklearn.model_selection import GridSearchCV\n",
    "from sklearn.feature_extraction.text import TfidfTransformer\n",
    "from sklearn.feature_extraction.text import CountVectorizer\n",
    "from sklearn.naive_bayes import MultinomialNB\n",
    "from sklearn.decomposition import PCA\n",
    "from sklearn.linear_model import SGDClassifier\n",
    "from sklearn.model_selection import ParameterGrid\n",
    "from sklearn.linear_model import LogisticRegression\n",
    "from sklearn.metrics import roc_auc_score\n",
    "from sklearn.metrics import confusion_matrix\n",
    "from sklearn.metrics import accuracy_score"
   ]
  },
  {
   "cell_type": "code",
   "execution_count": 75,
   "metadata": {},
   "outputs": [],
   "source": [
    "import parfit.parfit as pf"
   ]
  },
  {
   "cell_type": "code",
   "execution_count": 76,
   "metadata": {},
   "outputs": [],
   "source": []
  },
  {
   "cell_type": "code",
   "execution_count": 77,
   "metadata": {},
   "outputs": [],
   "source": [
    "logistic = SGDClassifier(loss='log', penalty='l2', early_stopping=True,\n",
    "                         max_iter=10000, tol=1e-5, random_state=0)\n",
    "pca = PCA()\n",
    "pipe = Pipeline(steps=[('pca', pca), ('logistic', logistic)])"
   ]
  },
  {
   "cell_type": "code",
   "execution_count": 78,
   "metadata": {},
   "outputs": [],
   "source": [
    "X = general_with_dummies.loc[:,'claim_level_word_count':'whiplash_count']\n",
    "y = general_with_dummies['Other party at fault']"
   ]
  },
  {
   "cell_type": "code",
   "execution_count": 79,
   "metadata": {},
   "outputs": [],
   "source": [
    "X_train, X_test, y_train, y_test = train_test_split(X, y, \n",
    "                                                    test_size=0.25, random_state=42)"
   ]
  },
  {
   "cell_type": "code",
   "execution_count": 80,
   "metadata": {},
   "outputs": [],
   "source": [
    "param_grid = {\n",
    "    'pca__n_components': [2, 5, 10, 15, 20, 23],\n",
    "    'logistic__alpha': np.logspace(-4, 4, 5),\n",
    "}\n",
    "search = GridSearchCV(pipe, param_grid, iid=False, cv=5,\n",
    "                      return_train_score=False)"
   ]
  },
  {
   "cell_type": "code",
   "execution_count": 81,
   "metadata": {},
   "outputs": [
    {
     "name": "stdout",
     "output_type": "stream",
     "text": [
      "Best parameter (CV score=0.688):\n",
      "{'logistic__alpha': 0.01, 'pca__n_components': 20}\n"
     ]
    }
   ],
   "source": [
    "search.fit(X_train, y_train)\n",
    "print(\"Best parameter (CV score=%0.3f):\" % search.best_score_)\n",
    "print(search.best_params_)\n"
   ]
  },
  {
   "cell_type": "code",
   "execution_count": 82,
   "metadata": {},
   "outputs": [],
   "source": [
    "grid = {\n",
    "    'alpha': [1e-4, 1e-3, 1e-2, 1e-1, 1e0, 1e1, 1e2, 1e3], # learning rate\n",
    "    'n_iter': [1000], # number of epochs\n",
    "    'loss': ['log'], # logistic regression,\n",
    "    'penalty': ['l2'],\n",
    "    'n_jobs': [-1]\n",
    "}\n",
    "paramGrid = ParameterGrid(grid)"
   ]
  },
  {
   "cell_type": "code",
   "execution_count": 83,
   "metadata": {},
   "outputs": [
    {
     "name": "stdout",
     "output_type": "stream",
     "text": [
      "-------------FITTING MODELS-------------\n"
     ]
    },
    {
     "name": "stderr",
     "output_type": "stream",
     "text": [
      "[Parallel(n_jobs=-1)]: Using backend LokyBackend with 4 concurrent workers.\n",
      "[Parallel(n_jobs=-1)]: Done   2 out of   8 | elapsed:   31.1s remaining:  1.6min\n",
      "[Parallel(n_jobs=-1)]: Done   3 out of   8 | elapsed:   32.5s remaining:   54.2s\n",
      "[Parallel(n_jobs=-1)]: Done   4 out of   8 | elapsed:   32.9s remaining:   32.9s\n",
      "[Parallel(n_jobs=-1)]: Done   5 out of   8 | elapsed:   53.6s remaining:   32.1s\n",
      "[Parallel(n_jobs=-1)]: Done   6 out of   8 | elapsed:   54.7s remaining:   18.2s\n",
      "[Parallel(n_jobs=-1)]: Done   8 out of   8 | elapsed:   55.9s remaining:    0.0s\n",
      "[Parallel(n_jobs=-1)]: Done   8 out of   8 | elapsed:   55.9s finished\n",
      "[Parallel(n_jobs=-1)]: Using backend LokyBackend with 4 concurrent workers.\n",
      "[Parallel(n_jobs=-1)]: Done   8 out of   8 | elapsed:    0.1s finished\n"
     ]
    },
    {
     "name": "stdout",
     "output_type": "stream",
     "text": [
      "-------------SCORING MODELS-------------\n"
     ]
    },
    {
     "data": {
      "image/png": "[encoded data removed]",
      "text/plain": [
       "<Figure size 432x432 with 1 Axes>"
      ]
     },
     "metadata": {
      "needs_background": "light"
     },
     "output_type": "display_data"
    },
    {
     "name": "stdout",
     "output_type": "stream",
     "text": [
      "SGDClassifier(alpha=0.1, average=False, class_weight=None,\n",
      "       early_stopping=False, epsilon=0.1, eta0=0.0, fit_intercept=True,\n",
      "       l1_ratio=0.15, learning_rate='optimal', loss='log', max_iter=None,\n",
      "       n_iter=1000, n_iter_no_change=5, n_jobs=-1, penalty='l2',\n",
      "       power_t=0.5, random_state=None, shuffle=True, tol=None,\n",
      "       validation_fraction=0.1, verbose=0, warm_start=False) 0.6998070438805777\n"
     ]
    }
   ],
   "source": [
    "bestModel, bestScore, allModels, allScores = pf.bestFit(SGDClassifier, paramGrid,\n",
    "           X_train, y_train, X_test, y_test, \n",
    "           metric = roc_auc_score, greater_is_better=True,\n",
    "           scoreLabel = \"AUC\")\n",
    "print(bestModel, bestScore)"
   ]
  },
  {
   "cell_type": "code",
   "execution_count": 84,
   "metadata": {},
   "outputs": [],
   "source": [
    "model = SGDClassifier(alpha=1.0, average=False, class_weight=None,\n",
    "       early_stopping=False, epsilon=0.1, eta0=0.0, fit_intercept=True,\n",
    "       l1_ratio=0.15, learning_rate='optimal', loss='log', max_iter=None,\n",
    "       n_iter=1000, n_iter_no_change=5, n_jobs=-1, penalty='l2',\n",
    "       power_t=0.5, random_state=None, shuffle=True, tol=None,\n",
    "       validation_fraction=0.1, verbose=0, warm_start=False)"
   ]
  },
  {
   "cell_type": "code",
   "execution_count": 85,
   "metadata": {},
   "outputs": [
    {
     "data": {
      "text/plain": [
       "SGDClassifier(alpha=1.0, average=False, class_weight=None,\n",
       "       early_stopping=False, epsilon=0.1, eta0=0.0, fit_intercept=True,\n",
       "       l1_ratio=0.15, learning_rate='optimal', loss='log', max_iter=None,\n",
       "       n_iter=1000, n_iter_no_change=5, n_jobs=-1, penalty='l2',\n",
       "       power_t=0.5, random_state=None, shuffle=True, tol=None,\n",
       "       validation_fraction=0.1, verbose=0, warm_start=False)"
      ]
     },
     "execution_count": 85,
     "metadata": {},
     "output_type": "execute_result"
    }
   ],
   "source": [
    "model.fit(X_train, y_train)"
   ]
  },
  {
   "cell_type": "code",
   "execution_count": 86,
   "metadata": {},
   "outputs": [],
   "source": [
    "predicted_SGD = model.predict(X_test)"
   ]
  },
  {
   "cell_type": "code",
   "execution_count": 87,
   "metadata": {},
   "outputs": [
    {
     "data": {
      "text/plain": [
       "0.7542759407069556"
      ]
     },
     "execution_count": 87,
     "metadata": {},
     "output_type": "execute_result"
    }
   ],
   "source": [
    "np.mean(predicted_SGD == y_test)"
   ]
  },
  {
   "cell_type": "code",
   "execution_count": 88,
   "metadata": {},
   "outputs": [
    {
     "data": {
      "text/plain": [
       "0.7542759407069556"
      ]
     },
     "execution_count": 88,
     "metadata": {},
     "output_type": "execute_result"
    }
   ],
   "source": [
    "model.score(X_test, y_test)"
   ]
  },
  {
   "cell_type": "code",
   "execution_count": 89,
   "metadata": {},
   "outputs": [
    {
     "data": {
      "text/plain": [
       "array([[22043,   405],\n",
       "       [ 6922,   448]])"
      ]
     },
     "execution_count": 89,
     "metadata": {},
     "output_type": "execute_result"
    }
   ],
   "source": [
    "confusion_matrix(y_test, predicted_SGD, labels=None, sample_weight=None)"
   ]
  },
  {
   "cell_type": "markdown",
   "metadata": {},
   "source": [
    "## Random Forest"
   ]
  },
  {
   "cell_type": "code",
   "execution_count": 90,
   "metadata": {},
   "outputs": [],
   "source": [
    "from sklearn.ensemble import RandomForestClassifier\n",
    "from sklearn.metrics import classification_report"
   ]
  },
  {
   "cell_type": "code",
   "execution_count": 91,
   "metadata": {},
   "outputs": [],
   "source": [
    "clf=RandomForestClassifier(n_estimators=100)"
   ]
  },
  {
   "cell_type": "code",
   "execution_count": 92,
   "metadata": {},
   "outputs": [],
   "source": [
    "clf.fit(X_train,y_train)\n",
    "\n",
    "y_pred=clf.predict(X_test)"
   ]
  },
  {
   "cell_type": "code",
   "execution_count": 93,
   "metadata": {},
   "outputs": [
    {
     "name": "stdout",
     "output_type": "stream",
     "text": [
      "Accuracy: 0.8805084177342545\n"
     ]
    }
   ],
   "source": [
    "print(\"Accuracy:\",accuracy_score(y_test, y_pred))"
   ]
  },
  {
   "cell_type": "code",
   "execution_count": 94,
   "metadata": {},
   "outputs": [
    {
     "data": {
      "text/plain": [
       "array([[21935,   513],\n",
       "       [ 3050,  4320]])"
      ]
     },
     "execution_count": 94,
     "metadata": {},
     "output_type": "execute_result"
    }
   ],
   "source": [
    "confusion_matrix(y_test, y_pred, labels=None, sample_weight=None)"
   ]
  },
  {
   "cell_type": "code",
   "execution_count": 95,
   "metadata": {},
   "outputs": [
    {
     "data": {
      "text/html": [
       "<div>\n",
       "<style scoped>\n",
       "    .dataframe tbody tr th:only-of-type {\n",
       "        vertical-align: middle;\n",
       "    }\n",
       "\n",
       "    .dataframe tbody tr th {\n",
       "        vertical-align: top;\n",
       "    }\n",
       "\n",
       "    .dataframe thead th {\n",
       "        text-align: right;\n",
       "    }\n",
       "</style>\n",
       "<table border=\"1\" class=\"dataframe\">\n",
       "  <thead>\n",
       "    <tr style=\"text-align: right;\">\n",
       "      <th>Predicted</th>\n",
       "      <th>0</th>\n",
       "      <th>1</th>\n",
       "      <th>All</th>\n",
       "    </tr>\n",
       "    <tr>\n",
       "      <th>True</th>\n",
       "      <th></th>\n",
       "      <th></th>\n",
       "      <th></th>\n",
       "    </tr>\n",
       "  </thead>\n",
       "  <tbody>\n",
       "    <tr>\n",
       "      <th>0</th>\n",
       "      <td>21935</td>\n",
       "      <td>513</td>\n",
       "      <td>22448</td>\n",
       "    </tr>\n",
       "    <tr>\n",
       "      <th>1</th>\n",
       "      <td>3050</td>\n",
       "      <td>4320</td>\n",
       "      <td>7370</td>\n",
       "    </tr>\n",
       "    <tr>\n",
       "      <th>All</th>\n",
       "      <td>24985</td>\n",
       "      <td>4833</td>\n",
       "      <td>29818</td>\n",
       "    </tr>\n",
       "  </tbody>\n",
       "</table>\n",
       "</div>"
      ],
      "text/plain": [
       "Predicted      0     1    All\n",
       "True                         \n",
       "0          21935   513  22448\n",
       "1           3050  4320   7370\n",
       "All        24985  4833  29818"
      ]
     },
     "execution_count": 95,
     "metadata": {},
     "output_type": "execute_result"
    }
   ],
   "source": [
    "pd.crosstab(y_test, y_pred, rownames=['True'], colnames=['Predicted'], margins=True)"
   ]
  },
  {
   "cell_type": "code",
   "execution_count": 96,
   "metadata": {},
   "outputs": [
    {
     "name": "stdout",
     "output_type": "stream",
     "text": [
      "              precision    recall  f1-score   support\n",
      "\n",
      "           0       0.88      0.98      0.92     22448\n",
      "           1       0.89      0.59      0.71      7370\n",
      "\n",
      "   micro avg       0.88      0.88      0.88     29818\n",
      "   macro avg       0.89      0.78      0.82     29818\n",
      "weighted avg       0.88      0.88      0.87     29818\n",
      "\n"
     ]
    }
   ],
   "source": [
    "target_names = ['class 0', 'class 1']\n",
    "print(classification_report(y_test, y_pred))"
   ]
  },
  {
   "cell_type": "code",
   "execution_count": 97,
   "metadata": {},
   "outputs": [
    {
     "name": "stdout",
     "output_type": "stream",
     "text": [
      "{'bootstrap': True, 'class_weight': None, 'criterion': 'gini', 'max_depth': None, 'max_features': 'auto', 'max_leaf_nodes': None, 'min_impurity_decrease': 0.0, 'min_impurity_split': None, 'min_samples_leaf': 1, 'min_samples_split': 2, 'min_weight_fraction_leaf': 0.0, 'n_estimators': 100, 'n_jobs': None, 'oob_score': False, 'random_state': None, 'verbose': 0, 'warm_start': False}\n"
     ]
    }
   ],
   "source": [
    "print(clf.get_params())"
   ]
  },
  {
   "cell_type": "code",
   "execution_count": 98,
   "metadata": {},
   "outputs": [],
   "source": [
    "from sklearn.model_selection import RandomizedSearchCV\n",
    "# Number of trees in random forest\n",
    "n_estimators = [int(x) for x in np.linspace(start = 50, stop = 800, num = 20)]\n",
    "# Number of features to consider at every split\n",
    "max_features = ['auto', 'sqrt']\n",
    "# Maximum number of levels in tree\n",
    "max_depth = [int(x) for x in np.linspace(3, 20, num = 4)]\n",
    "max_depth.append(None)\n",
    "# Minimum number of samples required to split a node\n",
    "min_samples_split = [2, 5, 10]\n",
    "# Minimum number of samples required at each leaf node\n",
    "min_samples_leaf = [1, 2, 4]\n",
    "# Method of selecting samples for training each tree\n",
    "bootstrap = [True, False]\n",
    "# Create the random grid\n",
    "random_grid = {'n_estimators': n_estimators,\n",
    "               'max_features': max_features,\n",
    "               'max_depth': max_depth,\n",
    "               'min_samples_split': min_samples_split,\n",
    "               'min_samples_leaf': min_samples_leaf,\n",
    "               'bootstrap': bootstrap}"
   ]
  },
  {
   "cell_type": "code",
   "execution_count": 99,
   "metadata": {},
   "outputs": [],
   "source": [
    "from sklearn.ensemble import RandomForestRegressor"
   ]
  },
  {
   "cell_type": "code",
   "execution_count": 100,
   "metadata": {},
   "outputs": [],
   "source": [
    "# # First create the base model to tune\n",
    "# rf = RandomForestRegressor()\n",
    "# # Random search of parameters, using 3 fold cross validation, \n",
    "# # search across 100 different combinations, and use all available cores\n",
    "# rf_random = RandomizedSearchCV(estimator = rf, param_distributions = random_grid, \n",
    "#                                n_iter = 30, cv = 3, verbose=2, random_state=42, n_jobs = -1)\n",
    "# # Fit the random search model\n",
    "# rf_random.fit(X_train, y_train)"
   ]
  },
  {
   "cell_type": "code",
   "execution_count": 101,
   "metadata": {},
   "outputs": [],
   "source": [
    "# rf_random.best_params_"
   ]
  },
  {
   "cell_type": "markdown",
   "metadata": {},
   "source": [
    "## Best parameters from random grid search\n",
    "{'n_estimators': 207,\n",
    " 'min_samples_split': 5,\n",
    " 'min_samples_leaf': 1,\n",
    " 'max_features': 'sqrt',\n",
    " 'max_depth': None,\n",
    " 'bootstrap': False}"
   ]
  },
  {
   "cell_type": "code",
   "execution_count": 102,
   "metadata": {},
   "outputs": [],
   "source": [
    "clf_best=RandomForestClassifier(n_estimators = 207,\n",
    " min_samples_split = 5,\n",
    " min_samples_leaf = 1,\n",
    " max_features = 'sqrt',\n",
    " max_depth = None,\n",
    " bootstrap = False)\n",
    "clf_best.fit(X_train,y_train)\n",
    "\n",
    "y_pred_best=clf_best.predict(X_test)"
   ]
  },
  {
   "cell_type": "code",
   "execution_count": 103,
   "metadata": {},
   "outputs": [
    {
     "name": "stdout",
     "output_type": "stream",
     "text": [
      "Accuracy: 0.889026762358307\n"
     ]
    }
   ],
   "source": [
    "print(\"Accuracy:\",accuracy_score(y_test, y_pred_best))"
   ]
  },
  {
   "cell_type": "code",
   "execution_count": 104,
   "metadata": {},
   "outputs": [
    {
     "data": {
      "text/plain": [
       "array([[21928,   520],\n",
       "       [ 2789,  4581]])"
      ]
     },
     "execution_count": 104,
     "metadata": {},
     "output_type": "execute_result"
    }
   ],
   "source": [
    "confusion_matrix(y_test, y_pred_best, labels=None, sample_weight=None)"
   ]
  },
  {
   "cell_type": "markdown",
   "metadata": {},
   "source": [
    "Improved from 88.1% to 88.95% accuracy"
   ]
  },
  {
   "cell_type": "code",
   "execution_count": 105,
   "metadata": {},
   "outputs": [
    {
     "name": "stdout",
     "output_type": "stream",
     "text": [
      "              precision    recall  f1-score   support\n",
      "\n",
      "           0       0.89      0.98      0.93     22448\n",
      "           1       0.90      0.62      0.73      7370\n",
      "\n",
      "   micro avg       0.89      0.89      0.89     29818\n",
      "   macro avg       0.89      0.80      0.83     29818\n",
      "weighted avg       0.89      0.89      0.88     29818\n",
      "\n"
     ]
    }
   ],
   "source": [
    "target_names = ['class 0', 'class 1']\n",
    "print(classification_report(y_test, y_pred_best))"
   ]
  },
  {
   "cell_type": "code",
   "execution_count": 106,
   "metadata": {},
   "outputs": [
    {
     "data": {
      "text/html": [
       "<div>\n",
       "<style scoped>\n",
       "    .dataframe tbody tr th:only-of-type {\n",
       "        vertical-align: middle;\n",
       "    }\n",
       "\n",
       "    .dataframe tbody tr th {\n",
       "        vertical-align: top;\n",
       "    }\n",
       "\n",
       "    .dataframe thead th {\n",
       "        text-align: right;\n",
       "    }\n",
       "</style>\n",
       "<table border=\"1\" class=\"dataframe\">\n",
       "  <thead>\n",
       "    <tr style=\"text-align: right;\">\n",
       "      <th>Predicted</th>\n",
       "      <th>0</th>\n",
       "      <th>1</th>\n",
       "      <th>All</th>\n",
       "    </tr>\n",
       "    <tr>\n",
       "      <th>True</th>\n",
       "      <th></th>\n",
       "      <th></th>\n",
       "      <th></th>\n",
       "    </tr>\n",
       "  </thead>\n",
       "  <tbody>\n",
       "    <tr>\n",
       "      <th>0</th>\n",
       "      <td>21928</td>\n",
       "      <td>520</td>\n",
       "      <td>22448</td>\n",
       "    </tr>\n",
       "    <tr>\n",
       "      <th>1</th>\n",
       "      <td>2789</td>\n",
       "      <td>4581</td>\n",
       "      <td>7370</td>\n",
       "    </tr>\n",
       "    <tr>\n",
       "      <th>All</th>\n",
       "      <td>24717</td>\n",
       "      <td>5101</td>\n",
       "      <td>29818</td>\n",
       "    </tr>\n",
       "  </tbody>\n",
       "</table>\n",
       "</div>"
      ],
      "text/plain": [
       "Predicted      0     1    All\n",
       "True                         \n",
       "0          21928   520  22448\n",
       "1           2789  4581   7370\n",
       "All        24717  5101  29818"
      ]
     },
     "execution_count": 106,
     "metadata": {},
     "output_type": "execute_result"
    }
   ],
   "source": [
    "pd.crosstab(y_test, y_pred_best, rownames=['True'], colnames=['Predicted'], margins=True)"
   ]
  },
  {
   "cell_type": "code",
   "execution_count": 107,
   "metadata": {},
   "outputs": [],
   "source": [
    "feature_importances = pd.DataFrame(clf_best.feature_importances_,\n",
    "                                  index = X_train.columns,\n",
    "                                  columns = ['importance']).sort_values('importance', ascending = False)"
   ]
  },
  {
   "cell_type": "code",
   "execution_count": 124,
   "metadata": {},
   "outputs": [
    {
     "data": {
      "text/plain": [
       "array(['cv_count', 'claim_level_word_count', 'iv_count', 'inj_count',\n",
       "       'damage_desc_word_count', 'exposure_word_count', 'insured_count',\n",
       "       'liability_count', 'accident_desc_word_count', 'insd_count',\n",
       "       'injury_desc_word_count', 'ac_count', 'rear_count', 'vnop_count',\n",
       "       'div_count', 'head_count', 'dcv_count', 'whiplash_count',\n",
       "       'concussion_count', 'ambulance_count', 'deployed_count',\n",
       "       'towed_count', 'totaled_count'], dtype=object)"
      ]
     },
     "execution_count": 124,
     "metadata": {},
     "output_type": "execute_result"
    }
   ],
   "source": [
    "feature_importances.index.values"
   ]
  },
  {
   "cell_type": "code",
   "execution_count": 143,
   "metadata": {},
   "outputs": [
    {
     "data": {
      "image/png": "[encoded data removed]",
      "text/plain": [
       "<Figure size 864x576 with 1 Axes>"
      ]
     },
     "metadata": {
      "needs_background": "light"
     },
     "output_type": "display_data"
    }
   ],
   "source": [
    "plt.barh(feature_importances.sort_values(by = 'importance').index.values, feature_importances\\\n",
    "         .sort_values(by = 'importance').importance.values)\n",
    "plt.xlabel('Feature Importance')\n",
    "plt.ylabel('Feature')\n",
    "plt.title('Predicting Other Party at Fault');"
   ]
  },
  {
   "cell_type": "markdown",
   "metadata": {},
   "source": [
    "- cv_count: Number of times `cv` is used in Claim Level Body\n",
    "- claim_level_word_count: Number of words in Claim Level Body\n",
    "- iv_count: Number of times `iv` is used in Claim Level Body\n",
    "- inj_count: Number of times `inj` is used in Claim Level Body\n",
    "- damage_desc_word_count: Number of words in Damage Description\n",
    "- exposure_word_count: Number of words in Exposure Level Body\n",
    "- insured_count: Number of times `insured` is used in Claim Level Body\n",
    "- liability_count: Number of times `liability` is used in Claim Level Body\n",
    "- accident_desc_word_count: Number of words used in Accident Description\n",
    "- insd_count: Number of times `insd` is used in Claim Level Body\n",
    "- injury_desc_word_count: Number of words in Injury Description\n",
    "- ac_count: Number of times `ac` is used in Claim Level Body\n",
    "- rear_count: Number of times `rear` is used in Accident Description\n",
    "- vnop_count: Number of times `vnop` is used in Claim Level Body\n",
    "- div_count: Number of times `div` is used in Claim Level Body\n",
    "- head_count: Number of times `head` is used in Injury Description\n",
    "- dcv_count: Number of times `dcv` is used in Claim Level Body\n",
    "- whiplash_count: Number of times `whiplash` is used in Injury Description\n",
    "- concussion_count: Number of times `concussion` is used in Injury Description\n",
    "- ambulance_count: Number of times `ambulance` is used in Injury Description"
   ]
  },
  {
   "cell_type": "code",
   "execution_count": 108,
   "metadata": {},
   "outputs": [
    {
     "data": {
      "text/html": [
       "<div>\n",
       "<style scoped>\n",
       "    .dataframe tbody tr th:only-of-type {\n",
       "        vertical-align: middle;\n",
       "    }\n",
       "\n",
       "    .dataframe tbody tr th {\n",
       "        vertical-align: top;\n",
       "    }\n",
       "\n",
       "    .dataframe thead th {\n",
       "        text-align: right;\n",
       "    }\n",
       "</style>\n",
       "<table border=\"1\" class=\"dataframe\">\n",
       "  <thead>\n",
       "    <tr style=\"text-align: right;\">\n",
       "      <th></th>\n",
       "      <th>importance</th>\n",
       "    </tr>\n",
       "  </thead>\n",
       "  <tbody>\n",
       "    <tr>\n",
       "      <th>cv_count</th>\n",
       "      <td>0.132993</td>\n",
       "    </tr>\n",
       "    <tr>\n",
       "      <th>claim_level_word_count</th>\n",
       "      <td>0.122140</td>\n",
       "    </tr>\n",
       "    <tr>\n",
       "      <th>iv_count</th>\n",
       "      <td>0.091956</td>\n",
       "    </tr>\n",
       "    <tr>\n",
       "      <th>inj_count</th>\n",
       "      <td>0.088257</td>\n",
       "    </tr>\n",
       "    <tr>\n",
       "      <th>damage_desc_word_count</th>\n",
       "      <td>0.085552</td>\n",
       "    </tr>\n",
       "    <tr>\n",
       "      <th>exposure_word_count</th>\n",
       "      <td>0.072022</td>\n",
       "    </tr>\n",
       "    <tr>\n",
       "      <th>insured_count</th>\n",
       "      <td>0.071375</td>\n",
       "    </tr>\n",
       "    <tr>\n",
       "      <th>liability_count</th>\n",
       "      <td>0.069695</td>\n",
       "    </tr>\n",
       "    <tr>\n",
       "      <th>accident_desc_word_count</th>\n",
       "      <td>0.068549</td>\n",
       "    </tr>\n",
       "    <tr>\n",
       "      <th>insd_count</th>\n",
       "      <td>0.059506</td>\n",
       "    </tr>\n",
       "    <tr>\n",
       "      <th>injury_desc_word_count</th>\n",
       "      <td>0.041439</td>\n",
       "    </tr>\n",
       "    <tr>\n",
       "      <th>ac_count</th>\n",
       "      <td>0.023018</td>\n",
       "    </tr>\n",
       "    <tr>\n",
       "      <th>rear_count</th>\n",
       "      <td>0.021373</td>\n",
       "    </tr>\n",
       "    <tr>\n",
       "      <th>vnop_count</th>\n",
       "      <td>0.018483</td>\n",
       "    </tr>\n",
       "    <tr>\n",
       "      <th>div_count</th>\n",
       "      <td>0.010873</td>\n",
       "    </tr>\n",
       "    <tr>\n",
       "      <th>head_count</th>\n",
       "      <td>0.007231</td>\n",
       "    </tr>\n",
       "    <tr>\n",
       "      <th>dcv_count</th>\n",
       "      <td>0.007217</td>\n",
       "    </tr>\n",
       "    <tr>\n",
       "      <th>whiplash_count</th>\n",
       "      <td>0.003608</td>\n",
       "    </tr>\n",
       "    <tr>\n",
       "      <th>concussion_count</th>\n",
       "      <td>0.003035</td>\n",
       "    </tr>\n",
       "    <tr>\n",
       "      <th>ambulance_count</th>\n",
       "      <td>0.001678</td>\n",
       "    </tr>\n",
       "    <tr>\n",
       "      <th>deployed_count</th>\n",
       "      <td>0.000000</td>\n",
       "    </tr>\n",
       "    <tr>\n",
       "      <th>towed_count</th>\n",
       "      <td>0.000000</td>\n",
       "    </tr>\n",
       "    <tr>\n",
       "      <th>totaled_count</th>\n",
       "      <td>0.000000</td>\n",
       "    </tr>\n",
       "  </tbody>\n",
       "</table>\n",
       "</div>"
      ],
      "text/plain": [
       "                          importance\n",
       "cv_count                    0.132993\n",
       "claim_level_word_count      0.122140\n",
       "iv_count                    0.091956\n",
       "inj_count                   0.088257\n",
       "damage_desc_word_count      0.085552\n",
       "exposure_word_count         0.072022\n",
       "insured_count               0.071375\n",
       "liability_count             0.069695\n",
       "accident_desc_word_count    0.068549\n",
       "insd_count                  0.059506\n",
       "injury_desc_word_count      0.041439\n",
       "ac_count                    0.023018\n",
       "rear_count                  0.021373\n",
       "vnop_count                  0.018483\n",
       "div_count                   0.010873\n",
       "head_count                  0.007231\n",
       "dcv_count                   0.007217\n",
       "whiplash_count              0.003608\n",
       "concussion_count            0.003035\n",
       "ambulance_count             0.001678\n",
       "deployed_count              0.000000\n",
       "towed_count                 0.000000\n",
       "totaled_count               0.000000"
      ]
     },
     "execution_count": 108,
     "metadata": {},
     "output_type": "execute_result"
    }
   ],
   "source": [
    "feature_importances"
   ]
  },
  {
   "cell_type": "markdown",
   "metadata": {},
   "source": [
    "## Random Forest Insured at Fault"
   ]
  },
  {
   "cell_type": "code",
   "execution_count": 133,
   "metadata": {},
   "outputs": [],
   "source": [
    "X_insured = general_with_dummies.loc[:,'claim_level_word_count':'whiplash_count']\n",
    "y_insured = general_with_dummies['Insured at fault']"
   ]
  },
  {
   "cell_type": "code",
   "execution_count": 134,
   "metadata": {},
   "outputs": [],
   "source": [
    "X_train_i, X_test_i, y_train_i, y_test_i = train_test_split(X_insured, y_insured, \n",
    "                                                    test_size=0.25, random_state=42)"
   ]
  },
  {
   "cell_type": "code",
   "execution_count": 135,
   "metadata": {},
   "outputs": [],
   "source": [
    "clf_i=RandomForestClassifier(n_estimators=150)"
   ]
  },
  {
   "cell_type": "code",
   "execution_count": 136,
   "metadata": {},
   "outputs": [],
   "source": [
    "clf_i.fit(X_train_i,y_train_i)\n",
    "\n",
    "y_pred_i=clf.predict(X_test_i)"
   ]
  },
  {
   "cell_type": "code",
   "execution_count": 137,
   "metadata": {},
   "outputs": [
    {
     "name": "stdout",
     "output_type": "stream",
     "text": [
      "Accuracy: 0.2380105976255953\n"
     ]
    }
   ],
   "source": [
    "print(\"Accuracy:\",accuracy_score(y_test_i, y_pred_i))"
   ]
  },
  {
   "cell_type": "code",
   "execution_count": 138,
   "metadata": {},
   "outputs": [
    {
     "data": {
      "text/plain": [
       "array([[ 6724,  4460],\n",
       "       [18261,   373]])"
      ]
     },
     "execution_count": 138,
     "metadata": {},
     "output_type": "execute_result"
    }
   ],
   "source": [
    "confusion_matrix(y_test_i, y_pred_i, labels=None, sample_weight=None)"
   ]
  },
  {
   "cell_type": "code",
   "execution_count": 139,
   "metadata": {},
   "outputs": [
    {
     "name": "stdout",
     "output_type": "stream",
     "text": [
      "              precision    recall  f1-score   support\n",
      "\n",
      "           0       0.27      0.60      0.37     11184\n",
      "           1       0.08      0.02      0.03     18634\n",
      "\n",
      "   micro avg       0.24      0.24      0.24     29818\n",
      "   macro avg       0.17      0.31      0.20     29818\n",
      "weighted avg       0.15      0.24      0.16     29818\n",
      "\n"
     ]
    }
   ],
   "source": [
    "target_names = ['class 0', 'class 1']\n",
    "print(classification_report(y_test_i, y_pred_i))"
   ]
  },
  {
   "cell_type": "markdown",
   "metadata": {},
   "source": [
    "## Sci-kit Learn Model"
   ]
  },
  {
   "cell_type": "code",
   "execution_count": 146,
   "metadata": {},
   "outputs": [
    {
     "data": {
      "text/plain": [
       "Index(['claim_level_word_count', 'exposure_word_count',\n",
       "       'accident_desc_word_count', 'injury_desc_word_count',\n",
       "       'damage_desc_word_count', 'iv_count', 'liability_count', 'dcv_count',\n",
       "       'inj_count', 'vnop_count', 'ac_count', 'cv_count', 'div_count',\n",
       "       'insd_count', 'insured_count', 'rear_count', 'deployed_count',\n",
       "       'towed_count', 'totaled_count', 'head_count', 'ambulance_count',\n",
       "       'concussion_count', 'whiplash_count', 'Comparative Negligence',\n",
       "       'Insured at fault', 'No fault', 'Other party at fault'],\n",
       "      dtype='object')"
      ]
     },
     "execution_count": 146,
     "metadata": {},
     "output_type": "execute_result"
    }
   ],
   "source": [
    "general_with_dummies.columns"
   ]
  },
  {
   "cell_type": "code",
   "execution_count": 147,
   "metadata": {},
   "outputs": [],
   "source": [
    "X_sk = general_df.loc[:,'claim_level_list']\n",
    "y_sk = general_with_dummies['Insured at fault']"
   ]
  },
  {
   "cell_type": "code",
   "execution_count": 148,
   "metadata": {},
   "outputs": [],
   "source": [
    "X_train_sk, X_test_sk, y_train_sk, y_test_sk = train_test_split(X_sk, y_sk, \n",
    "                                                    test_size=0.25, random_state=42)"
   ]
  },
  {
   "cell_type": "code",
   "execution_count": 150,
   "metadata": {},
   "outputs": [],
   "source": [
    "from sklearn.feature_extraction.text import TfidfVectorizer"
   ]
  },
  {
   "cell_type": "code",
   "execution_count": null,
   "metadata": {},
   "outputs": [],
   "source": [
    "text_clf = Pipeline([('vect', CountVectorizer()),\n",
    "                     ('tfidf', TfidfTransformer()),\n",
    "                     ('clf', MultinomialNB()),\n",
    "                    ])"
   ]
  },
  {
   "cell_type": "code",
   "execution_count": 151,
   "metadata": {},
   "outputs": [],
   "source": [
    "clf_vec = TfidfVectorizer()"
   ]
  },
  {
   "cell_type": "code",
   "execution_count": 153,
   "metadata": {},
   "outputs": [],
   "source": [
    "model = clf_vec.fit(X_train_sk, y_train_sk)"
   ]
  },
  {
   "cell_type": "code",
   "execution_count": 154,
   "metadata": {},
   "outputs": [
    {
     "ename": "AttributeError",
     "evalue": "'TfidfVectorizer' object has no attribute 'predict'",
     "output_type": "error",
     "traceback": [
      "\u001b[0;31m---------------------------------------------------------------------------\u001b[0m",
      "\u001b[0;31mAttributeError\u001b[0m                            Traceback (most recent call last)",
      "\u001b[0;32m<ipython-input-154-81067efc2c04>\u001b[0m in \u001b[0;36m<module>\u001b[0;34m\u001b[0m\n\u001b[0;32m----> 1\u001b[0;31m \u001b[0my_pred\u001b[0m \u001b[0;34m=\u001b[0m \u001b[0mmodel\u001b[0m\u001b[0;34m.\u001b[0m\u001b[0mpredict\u001b[0m\u001b[0;34m(\u001b[0m\u001b[0mX_test_sk\u001b[0m\u001b[0;34m)\u001b[0m\u001b[0;34m\u001b[0m\u001b[0;34m\u001b[0m\u001b[0m\n\u001b[0m",
      "\u001b[0;31mAttributeError\u001b[0m: 'TfidfVectorizer' object has no attribute 'predict'"
     ]
    }
   ],
   "source": [
    "y_pred = model.predict(X_test_sk)"
   ]
  },
  {
   "cell_type": "code",
   "execution_count": 116,
   "metadata": {},
   "outputs": [],
   "source": [
    "# model = text_clf.fit(X_train, y_train)"
   ]
  },
  {
   "cell_type": "code",
   "execution_count": 117,
   "metadata": {},
   "outputs": [],
   "source": [
    "# predicted_MNB = text_clf.predict(X_test)"
   ]
  },
  {
   "cell_type": "code",
   "execution_count": 89,
   "metadata": {},
   "outputs": [],
   "source": [
    "# predicted_MNB[:5]"
   ]
  },
  {
   "cell_type": "code",
   "execution_count": 90,
   "metadata": {},
   "outputs": [],
   "source": [
    "# np.mean(predicted_MNB == y_test)"
   ]
  },
  {
   "cell_type": "code",
   "execution_count": 91,
   "metadata": {},
   "outputs": [],
   "source": [
    "# len(predicted_MNB)"
   ]
  },
  {
   "cell_type": "code",
   "execution_count": 92,
   "metadata": {},
   "outputs": [],
   "source": [
    "# text_clf.score(X_test, y_test)"
   ]
  },
  {
   "cell_type": "code",
   "execution_count": 93,
   "metadata": {},
   "outputs": [],
   "source": [
    "# from collections import Counter"
   ]
  },
  {
   "cell_type": "code",
   "execution_count": 94,
   "metadata": {},
   "outputs": [],
   "source": [
    "# Counter(predicted_MNB)"
   ]
  },
  {
   "cell_type": "code",
   "execution_count": 95,
   "metadata": {},
   "outputs": [],
   "source": [
    "# 28402/29818"
   ]
  },
  {
   "cell_type": "code",
   "execution_count": null,
   "metadata": {},
   "outputs": [],
   "source": [
    "from sklearn.feature_extraction.text import TfidfVectorizer\n",
    "tfidf = TfidfVectorizer(sublinear_tf=True, min_df=5, norm='l2', encoding='latin-1', ngram_range=(1, 2), stop_words='english')\n",
    "features = tfidf.fit_transform(general_df.claim_level_list).toarray()\n",
    "labels = general_df.FaultRatingName\n",
    "features.shape"
   ]
  },
  {
   "cell_type": "code",
   "execution_count": null,
   "metadata": {},
   "outputs": [],
   "source": [
    "from sklearn.model_selection import train_test_split\n",
    "from sklearn.feature_extraction.text import CountVectorizer\n",
    "from sklearn.feature_extraction.text import TfidfTransformer\n",
    "from sklearn.naive_bayes import MultinomialNB\n",
    "X_train, X_test, y_train, y_test = train_test_split(df['Consumer_complaint_narrative'], df['Product'], \n",
    "                                                    random_state = 0)\n",
    "count_vect = CountVectorizer()\n",
    "X_train_counts = count_vect.fit_transform(X_train)\n",
    "tfidf_transformer = TfidfTransformer()\n",
    "X_train_tfidf = tfidf_transformer.fit_transform(X_train_counts)\n",
    "clf = MultinomialNB().fit(X_train_tfidf, y_train)"
   ]
  }
 ],
 "metadata": {
  "kernelspec": {
   "display_name": "Python 3",
   "language": "python",
   "name": "python3"
  },
  "language_info": {
   "codemirror_mode": {
    "name": "ipython",
    "version": 3
   },
   "file_extension": ".py",
   "mimetype": "text/x-python",
   "name": "python",
   "nbconvert_exporter": "python",
   "pygments_lexer": "ipython3",
   "version": "3.6.8"
  }
 },
 "nbformat": 4,
 "nbformat_minor": 2
}

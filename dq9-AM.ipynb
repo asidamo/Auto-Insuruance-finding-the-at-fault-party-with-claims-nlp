{
 "cells": [
  {
   "cell_type": "markdown",
   "metadata": {},
   "source": [
    "# The General Claims Data\n",
    "- Primary question of interest: Who was at fault?\n",
    "<br> <br>\n",
    "- Secondary questions of interest:\n",
    "    - What Claim Group should the claim be routed to?\n",
    "    - Can we predict severity type (minor, moderate, major, life threatening, death)\n",
    "    - What was the cause of the loss?"
   ]
  },
  {
   "cell_type": "code",
   "execution_count": 1,
   "metadata": {},
   "outputs": [],
   "source": [
    "import pandas as pd\n",
    "import numpy as np\n",
    "import spacy\n",
    "import en_core_web_lg"
   ]
  },
  {
   "cell_type": "code",
   "execution_count": 2,
   "metadata": {},
   "outputs": [],
   "source": [
    "import nltk\n",
    "from nltk import word_tokenize"
   ]
  },
  {
   "cell_type": "code",
   "execution_count": 3,
   "metadata": {},
   "outputs": [],
   "source": [
    "from nltk.corpus import stopwords\n",
    "# stop = stopwords.words('english')"
   ]
  },
  {
   "cell_type": "code",
   "execution_count": 4,
   "metadata": {},
   "outputs": [],
   "source": [
    "stop = ['ourselves', 'hers', 'between', 'yourself', 'but', 'again', 'there', 'about', 'once', 'during', 'out', \n",
    " 'very', 'having', 'with', 'they', 'own', 'an', 'be', 'some', 'for', 'do', 'its', 'yours', 'such', 'into', \n",
    " 'of', 'most', 'itself', 'other', 'off', 'is', 's', 'am', 'or', 'who', 'as', 'from', 'him', 'each', 'the', \n",
    " 'themselves', 'until', 'below', 'are', 'we', 'these', 'your', 'his', 'through', 'don', 'nor', 'me', 'were', \n",
    " 'her', 'more', 'himself', 'this', 'down', 'should', 'our', 'their', 'while', 'above', 'both', 'up', 'to', 'ours', \n",
    " 'had', 'she', 'all', 'no', 'when', 'at', 'any', 'before', 'them', 'same', 'and', 'been', 'have', 'in', 'will', \n",
    " 'on', 'does', 'yourselves', 'then', 'that', 'because', 'what', 'over', 'why', 'so', 'can', 'did', 'not', 'now', \n",
    " 'under', 'he', 'you', 'herself', 'has', 'just', 'where', 'too', 'only', 'myself', 'which', 'those', 'i', 'after', \n",
    " 'few', 'whom', 't', 'being', 'if', 'theirs', 'my', 'against', 'a', 'doing', 'it', 'how', 'further', 'was', \n",
    " 'here', 'than']"
   ]
  },
  {
   "cell_type": "code",
   "execution_count": 5,
   "metadata": {},
   "outputs": [],
   "source": [
    "import gensim"
   ]
  },
  {
   "cell_type": "code",
   "execution_count": 6,
   "metadata": {},
   "outputs": [],
   "source": [
    "# general_tokens_df = pd.read_csv('data/general_with_tokens.csv')"
   ]
  },
  {
   "cell_type": "code",
   "execution_count": 7,
   "metadata": {},
   "outputs": [],
   "source": [
    "# general_tokens_df.head()"
   ]
  },
  {
   "cell_type": "code",
   "execution_count": 8,
   "metadata": {},
   "outputs": [],
   "source": [
    "from ast import literal_eval"
   ]
  },
  {
   "cell_type": "code",
   "execution_count": 9,
   "metadata": {},
   "outputs": [],
   "source": [
    "# def join_strings(df, columns):\n",
    "#     n_df = df\n",
    "#     for col in columns:\n",
    "#         def join_col(row):\n",
    "#             claim_list = row[col]\n",
    "#             return ' '.join(claim_list)\n",
    "#         n_df[col] = n_df.apply(join_col, axis = 1)\n",
    "#     return n_df\n",
    "# convert lists from strings back to lists\n",
    "def convert_to_list(df,cols):\n",
    "    n_df = df\n",
    "    for col in cols:\n",
    "        def de_list(row):\n",
    "            list_str = row[col]\n",
    "            return literal_eval(list_str)\n",
    "        n_df[col] = n_df.apply(de_list, axis = 1)\n",
    "    return n_df"
   ]
  },
  {
   "cell_type": "code",
   "execution_count": 10,
   "metadata": {},
   "outputs": [],
   "source": [
    "# general_tokens_df = convert_to_list(general_tokens_df, ['claim_level_list', 'exposure_level_list',\n",
    "#                                                        'accident_desc_list', 'injury_desc_list',\n",
    "#                                                        'damage_desc_list'])"
   ]
  },
  {
   "cell_type": "code",
   "execution_count": 11,
   "metadata": {},
   "outputs": [],
   "source": [
    "general_df = pd.read_csv('data/general_with_word_counts.csv')\n"
   ]
  },
  {
   "cell_type": "code",
   "execution_count": 12,
   "metadata": {},
   "outputs": [
    {
     "data": {
      "text/html": [
       "<div>\n",
       "<style scoped>\n",
       "    .dataframe tbody tr th:only-of-type {\n",
       "        vertical-align: middle;\n",
       "    }\n",
       "\n",
       "    .dataframe tbody tr th {\n",
       "        vertical-align: top;\n",
       "    }\n",
       "\n",
       "    .dataframe thead th {\n",
       "        text-align: right;\n",
       "    }\n",
       "</style>\n",
       "<table border=\"1\" class=\"dataframe\">\n",
       "  <thead>\n",
       "    <tr style=\"text-align: right;\">\n",
       "      <th></th>\n",
       "      <th>ClaimID_RGEN</th>\n",
       "      <th>ExposureID_RGEN</th>\n",
       "      <th>ClaimLevelBody</th>\n",
       "      <th>ExposureLevelBody</th>\n",
       "      <th>AccidentDescription</th>\n",
       "      <th>InjuryDescription</th>\n",
       "      <th>DamageDescription</th>\n",
       "      <th>SeverityTypeName</th>\n",
       "      <th>ClaimGroup</th>\n",
       "      <th>FaultRatingName</th>\n",
       "      <th>...</th>\n",
       "      <th>insd_count</th>\n",
       "      <th>insured_count</th>\n",
       "      <th>rear_count</th>\n",
       "      <th>deployed_count</th>\n",
       "      <th>towed_count</th>\n",
       "      <th>totaled_count</th>\n",
       "      <th>head_count</th>\n",
       "      <th>ambulance_count</th>\n",
       "      <th>concussion_count</th>\n",
       "      <th>whiplash_count</th>\n",
       "    </tr>\n",
       "  </thead>\n",
       "  <tbody>\n",
       "    <tr>\n",
       "      <th>0</th>\n",
       "      <td>10000</td>\n",
       "      <td>131005</td>\n",
       "      <td>reviewed\\r\\ncoverage  sc rated policy and loss...</td>\n",
       "      <td>none none liability accepted by adverse and da...</td>\n",
       "      <td>the insured was test driving a vehicle  the ov...</td>\n",
       "      <td>neckback</td>\n",
       "      <td>front left side damages  towed collision tow i...</td>\n",
       "      <td>Moderate</td>\n",
       "      <td>Tampa Field Ops</td>\n",
       "      <td>Other party at fault</td>\n",
       "      <td>...</td>\n",
       "      <td>0</td>\n",
       "      <td>0</td>\n",
       "      <td>0</td>\n",
       "      <td>0</td>\n",
       "      <td>0</td>\n",
       "      <td>0</td>\n",
       "      <td>0</td>\n",
       "      <td>0</td>\n",
       "      <td>0</td>\n",
       "      <td>0</td>\n",
       "    </tr>\n",
       "    <tr>\n",
       "      <th>1</th>\n",
       "      <td>10001</td>\n",
       "      <td>131006</td>\n",
       "      <td>c  dol  *******\\r\\n      tol *** pm\\r\\n      v...</td>\n",
       "      <td>c  coverage\\r\\ndol *****\\r\\nfnol ***** by ni \\...</td>\n",
       "      <td>the iv was driving down the road when the ov i...</td>\n",
       "      <td>pain</td>\n",
       "      <td>front right headlight front side of bumper  dr...</td>\n",
       "      <td>Minor</td>\n",
       "      <td>Tampa Field Ops</td>\n",
       "      <td>Other party at fault</td>\n",
       "      <td>...</td>\n",
       "      <td>0</td>\n",
       "      <td>2</td>\n",
       "      <td>0</td>\n",
       "      <td>0</td>\n",
       "      <td>0</td>\n",
       "      <td>0</td>\n",
       "      <td>0</td>\n",
       "      <td>0</td>\n",
       "      <td>0</td>\n",
       "      <td>0</td>\n",
       "    </tr>\n",
       "    <tr>\n",
       "      <th>2</th>\n",
       "      <td>10002</td>\n",
       "      <td>131007</td>\n",
       "      <td>insured was in the hospital and lost service ...</td>\n",
       "      <td>none none c  coverage\\r\\ndol *****\\r\\nfnol ***...</td>\n",
       "      <td>insured was stopped at the stop light when cv ...</td>\n",
       "      <td>strain</td>\n",
       "      <td>unknown damages rear bumper trunk  right rear ...</td>\n",
       "      <td>Minor</td>\n",
       "      <td>Tampa Field Ops</td>\n",
       "      <td>Other party at fault</td>\n",
       "      <td>...</td>\n",
       "      <td>4</td>\n",
       "      <td>4</td>\n",
       "      <td>1</td>\n",
       "      <td>0</td>\n",
       "      <td>0</td>\n",
       "      <td>0</td>\n",
       "      <td>0</td>\n",
       "      <td>0</td>\n",
       "      <td>0</td>\n",
       "      <td>0</td>\n",
       "    </tr>\n",
       "    <tr>\n",
       "      <th>3</th>\n",
       "      <td>10003</td>\n",
       "      <td>131008</td>\n",
       "      <td>insured was in the hospital and lost service ...</td>\n",
       "      <td>none none hhcsi dos ****** atd for brant willi...</td>\n",
       "      <td>insured was stopped at the stop light when cv ...</td>\n",
       "      <td>back</td>\n",
       "      <td>unknown damages rear bumper trunk  right rear ...</td>\n",
       "      <td>NaN</td>\n",
       "      <td>Tampa Field Ops</td>\n",
       "      <td>Other party at fault</td>\n",
       "      <td>...</td>\n",
       "      <td>4</td>\n",
       "      <td>4</td>\n",
       "      <td>1</td>\n",
       "      <td>0</td>\n",
       "      <td>0</td>\n",
       "      <td>0</td>\n",
       "      <td>0</td>\n",
       "      <td>0</td>\n",
       "      <td>0</td>\n",
       "      <td>0</td>\n",
       "    </tr>\n",
       "    <tr>\n",
       "      <th>4</th>\n",
       "      <td>10004</td>\n",
       "      <td>131009</td>\n",
       "      <td>adjuster out of office\\r\\nreassigned adjuster ...</td>\n",
       "      <td>new pip loss received  additional action neede...</td>\n",
       "      <td>ov re host veh</td>\n",
       "      <td>neck back</td>\n",
       "      <td>none none none</td>\n",
       "      <td>Minor</td>\n",
       "      <td>Fast Track</td>\n",
       "      <td>Other party at fault</td>\n",
       "      <td>...</td>\n",
       "      <td>0</td>\n",
       "      <td>10</td>\n",
       "      <td>0</td>\n",
       "      <td>0</td>\n",
       "      <td>0</td>\n",
       "      <td>0</td>\n",
       "      <td>0</td>\n",
       "      <td>0</td>\n",
       "      <td>0</td>\n",
       "      <td>0</td>\n",
       "    </tr>\n",
       "  </tbody>\n",
       "</table>\n",
       "<p>5 rows × 47 columns</p>\n",
       "</div>"
      ],
      "text/plain": [
       "   ClaimID_RGEN  ExposureID_RGEN  \\\n",
       "0         10000           131005   \n",
       "1         10001           131006   \n",
       "2         10002           131007   \n",
       "3         10003           131008   \n",
       "4         10004           131009   \n",
       "\n",
       "                                      ClaimLevelBody  \\\n",
       "0  reviewed\\r\\ncoverage  sc rated policy and loss...   \n",
       "1  c  dol  *******\\r\\n      tol *** pm\\r\\n      v...   \n",
       "2   insured was in the hospital and lost service ...   \n",
       "3   insured was in the hospital and lost service ...   \n",
       "4  adjuster out of office\\r\\nreassigned adjuster ...   \n",
       "\n",
       "                                   ExposureLevelBody  \\\n",
       "0  none none liability accepted by adverse and da...   \n",
       "1  c  coverage\\r\\ndol *****\\r\\nfnol ***** by ni \\...   \n",
       "2  none none c  coverage\\r\\ndol *****\\r\\nfnol ***...   \n",
       "3  none none hhcsi dos ****** atd for brant willi...   \n",
       "4  new pip loss received  additional action neede...   \n",
       "\n",
       "                                 AccidentDescription InjuryDescription  \\\n",
       "0  the insured was test driving a vehicle  the ov...          neckback   \n",
       "1  the iv was driving down the road when the ov i...              pain   \n",
       "2  insured was stopped at the stop light when cv ...            strain   \n",
       "3  insured was stopped at the stop light when cv ...              back   \n",
       "4                                     ov re host veh         neck back   \n",
       "\n",
       "                                   DamageDescription SeverityTypeName  \\\n",
       "0  front left side damages  towed collision tow i...         Moderate   \n",
       "1  front right headlight front side of bumper  dr...            Minor   \n",
       "2  unknown damages rear bumper trunk  right rear ...            Minor   \n",
       "3  unknown damages rear bumper trunk  right rear ...              NaN   \n",
       "4                                     none none none            Minor   \n",
       "\n",
       "        ClaimGroup       FaultRatingName  ... insd_count insured_count  \\\n",
       "0  Tampa Field Ops  Other party at fault  ...          0             0   \n",
       "1  Tampa Field Ops  Other party at fault  ...          0             2   \n",
       "2  Tampa Field Ops  Other party at fault  ...          4             4   \n",
       "3  Tampa Field Ops  Other party at fault  ...          4             4   \n",
       "4       Fast Track  Other party at fault  ...          0            10   \n",
       "\n",
       "  rear_count deployed_count towed_count totaled_count head_count  \\\n",
       "0          0              0           0             0          0   \n",
       "1          0              0           0             0          0   \n",
       "2          1              0           0             0          0   \n",
       "3          1              0           0             0          0   \n",
       "4          0              0           0             0          0   \n",
       "\n",
       "  ambulance_count concussion_count whiplash_count  \n",
       "0               0                0              0  \n",
       "1               0                0              0  \n",
       "2               0                0              0  \n",
       "3               0                0              0  \n",
       "4               0                0              0  \n",
       "\n",
       "[5 rows x 47 columns]"
      ]
     },
     "execution_count": 12,
     "metadata": {},
     "output_type": "execute_result"
    }
   ],
   "source": [
    "general_df.head()"
   ]
  },
  {
   "cell_type": "code",
   "execution_count": 13,
   "metadata": {},
   "outputs": [
    {
     "name": "stdout",
     "output_type": "stream",
     "text": [
      "<class 'pandas.core.frame.DataFrame'>\n",
      "RangeIndex: 119272 entries, 0 to 119271\n",
      "Data columns (total 47 columns):\n",
      "ClaimID_RGEN                      119272 non-null int64\n",
      "ExposureID_RGEN                   119272 non-null int64\n",
      "ClaimLevelBody                    119272 non-null object\n",
      "ExposureLevelBody                 119272 non-null object\n",
      "AccidentDescription               119272 non-null object\n",
      "InjuryDescription                 119272 non-null object\n",
      "DamageDescription                 119272 non-null object\n",
      "SeverityTypeName                  86721 non-null object\n",
      "ClaimGroup                        119257 non-null object\n",
      "FaultRatingName                   119271 non-null object\n",
      "LossCauseName                     119272 non-null object\n",
      "CCCreateTime                      119272 non-null object\n",
      "CloseDate                         99601 non-null object\n",
      "StateName                         119272 non-null object\n",
      "ClaimLevelBody_preprocess         119272 non-null object\n",
      "ExposureLevelBody_preprocess      119272 non-null object\n",
      "AccidentDescription_preprocess    119272 non-null object\n",
      "InjuryDescription_preprocess      119272 non-null object\n",
      "DamageDescription_preprocess      119272 non-null object\n",
      "claim_level_list                  119272 non-null object\n",
      "exposure_level_list               119272 non-null object\n",
      "accident_desc_list                119272 non-null object\n",
      "injury_desc_list                  119272 non-null object\n",
      "damage_desc_list                  119272 non-null object\n",
      "claim_level_word_count            119272 non-null int64\n",
      "exposure_word_count               119272 non-null int64\n",
      "accident_desc_word_count          119272 non-null int64\n",
      "injury_desc_word_count            119272 non-null int64\n",
      "damage_desc_word_count            119272 non-null int64\n",
      "iv_count                          119272 non-null int64\n",
      "liability_count                   119272 non-null int64\n",
      "dcv_count                         119272 non-null int64\n",
      "inj_count                         119272 non-null int64\n",
      "vnop_count                        119272 non-null int64\n",
      "ac_count                          119272 non-null int64\n",
      "cv_count                          119272 non-null int64\n",
      "div_count                         119272 non-null int64\n",
      "insd_count                        119272 non-null int64\n",
      "insured_count                     119272 non-null int64\n",
      "rear_count                        119272 non-null int64\n",
      "deployed_count                    119272 non-null int64\n",
      "towed_count                       119272 non-null int64\n",
      "totaled_count                     119272 non-null int64\n",
      "head_count                        119272 non-null int64\n",
      "ambulance_count                   119272 non-null int64\n",
      "concussion_count                  119272 non-null int64\n",
      "whiplash_count                    119272 non-null int64\n",
      "dtypes: int64(25), object(22)\n",
      "memory usage: 42.8+ MB\n"
     ]
    }
   ],
   "source": [
    "general_df.info()"
   ]
  },
  {
   "cell_type": "code",
   "execution_count": 14,
   "metadata": {},
   "outputs": [],
   "source": [
    "# general_no_unknown = general_df.loc[general_df.loc[:,'FaultRatingName'] != 'Fault unknown',:].reset_index(drop=True)"
   ]
  },
  {
   "cell_type": "code",
   "execution_count": 15,
   "metadata": {},
   "outputs": [],
   "source": [
    "general_df = general_df.fillna({'exposure_level_list':' ', 'injury_desc_list':' ', 'damage_desc_list': ' '})"
   ]
  },
  {
   "cell_type": "code",
   "execution_count": 16,
   "metadata": {},
   "outputs": [],
   "source": [
    "# general_no_unknown.info()"
   ]
  },
  {
   "cell_type": "code",
   "execution_count": 17,
   "metadata": {},
   "outputs": [],
   "source": [
    "nlp = en_core_web_lg.load()"
   ]
  },
  {
   "cell_type": "code",
   "execution_count": 18,
   "metadata": {},
   "outputs": [],
   "source": [
    "def column_to_list_text(df, col_name):\n",
    "    return df[col_name].tolist()"
   ]
  },
  {
   "cell_type": "code",
   "execution_count": 19,
   "metadata": {},
   "outputs": [],
   "source": [
    "def lower_columns(df, col_list):\n",
    "    n_df = df\n",
    "    for col_name in col_list:\n",
    "        n_col = col_name + '_preprocess'\n",
    "        n_df[n_col] = n_df[col_name].str.lower()\n",
    "    return n_df"
   ]
  },
  {
   "cell_type": "code",
   "execution_count": 20,
   "metadata": {},
   "outputs": [],
   "source": [
    "# lowered_df = lower_columns(general_df, ['ClaimLevelBody', 'ExposureLevelBody', 'AccidentDescription', \n",
    "#                                         'InjuryDescription', 'DamageDescription'])"
   ]
  },
  {
   "cell_type": "code",
   "execution_count": 21,
   "metadata": {},
   "outputs": [],
   "source": [
    "# lowered_df.head()"
   ]
  },
  {
   "cell_type": "code",
   "execution_count": 22,
   "metadata": {},
   "outputs": [],
   "source": [
    "def tokenize_claim_level(row):\n",
    "#     list_cols = [['ClaimLevelBody_preprocess', 'ExposureLevelBody_preprocess', 'AccidentDescription_preprocess', \n",
    "#                                         'InjuryDescription_preprocess', 'DamageDescription_preprocess']]\n",
    "    text = row['ClaimLevelBody_preprocess']\n",
    "    text_tokenize = [token for token in word_tokenize(text) if token.isalpha() and token not in stop]\n",
    "    return text_tokenize\n",
    "        \n",
    "def pre_process(df, col_list):\n",
    "    for col in col_list:\n",
    "        df[col] = df.apply(lambda x: tokenize(x, col), axis=1)\n",
    "    return df"
   ]
  },
  {
   "cell_type": "code",
   "execution_count": 23,
   "metadata": {},
   "outputs": [],
   "source": [
    "#lowered_df['ClaimLevelBody_preprocess'] = lowered_df.apply(tokenize_claim_level, axis = 1)"
   ]
  },
  {
   "cell_type": "code",
   "execution_count": 24,
   "metadata": {},
   "outputs": [],
   "source": [
    "#out_df.head()"
   ]
  },
  {
   "cell_type": "code",
   "execution_count": 25,
   "metadata": {},
   "outputs": [
    {
     "data": {
      "text/plain": [
       "'reviewed coverage sc rated policy loss effective dates coverage ni operating vnop vehicle appears loaner veh policy set cx non payment reinstated without lapse send ror citing definition covered auto insuring agreement section liability coverage liability modified compneg state need statements police report complete lia investigation based report loss driver pulled nis row exposure driver appears allstate lets confirm rule umpdumbi exposure appears pd rule injuries clmnt driver determine severity nis injuries secure uim rejection form action plan send ror complete vnop investigation statements confirm ownership veh insurance infomation vnop confirm driver lia coverage rule umpdumbi complete liability investigation statementspolice reportset appraisal needed rule serious injuries secure uim rejection form needed recovery applicable reviewed coverage sc rated policy loss effective dates coverage ni operating vnop vehicle appears loaner veh policy set cx non payment reinstated without lapse send ror citing definition covered auto insuring agreement section liability coverage liability modified compneg state need statements police report complete lia investigation based report loss driver pulled nis row exposure driver appears allstate lets confirm rule umpdumbi exposure appears pd rule injuries clmnt driver determine severity nis injuries secure uim rejection form action plan send ror complete vnop investigation statements confirm ownership veh insurance infomation vnop confirm driver lia coverage rule umpdumbi complete liability investigation statementspolice reportset appraisal needed rule serious injuries secure uim rejection form needed recovery applicable caller id ov sharon lentz allstate ins policy photos witnesses per caller caller id ov sharon lentz allstate ins policy photos witnesses per caller coverage policy period pol state sc eff date dol loss state sc mod comp dop y brian cashion vop n unknwn covg vop totoya camry col none pd bi pip none mp none umbi umpd n prior clms n billing amt due noi pymnt credit card ror vnop sent date coverage policy period pol state sc eff date dol loss state sc mod comp dop y brian cashion vop n unknwn covg vop totoya camry col none pd bi pip none mp none umbi umpd n prior clms n billing amt due noi pymnt credit card ror vnop sent date attempted contact wdiv ansno vm attempted contact wdiv lm attempted contact wcaller listed notes msg indicates vm set upno option lm ni contact phs sent contact ltr date attempted contact wdiv ansno vm attempted contact wdiv lm attempted contact wcaller listed notes msg indicates vm set upno option lm ni contact phs sent contact ltr date attempted contact wcaller id captured qrm note msg indicates vm set upno option lm attempted contact wcaller id captured qrm note msg indicates vm set upno option lm attempted contact wdcv msg indicates magic jack ph asgnd customerno option lm attempted contact wdcv lm vm howard caller id contacted previously appears connected sharon lentz contact ltr sent date attempted contact wdcv msg indicates magic jack ph asgnd customerno option lm attempted contact wdcv lm vm howard caller id contacted previously appears connected sharon lentz contact ltr sent date call ac allstate medpay adj james wells liability adj asgnd phunknwn addr po box columbia sc agt spoke wtj gilmore adv clm reported today fol reported by agt intersection accidentno addtl info inj james wells medpay adj file states unknwn inj reported dcv by agt tx confirmed damages specific damage info recvd info cv loc cv safe drive clm need rssnd liability adj limits unable disclose call agt office spoke wstephanie fol states dcv pulled pl struck by iv traveling improper speed cv loc unknwn col avail cv stephanie email call ac allstate medpay adj james wells liability adj asgnd phunknwn addr po box columbia sc agt spoke wtj gilmore adv clm reported today fol reported by agt intersection accidentno addtl info inj james wells medpay adj file states unknwn inj reported dcv by agt tx confirmed damages specific damage info recvd info cv loc cv safe drive clm need rssnd liability adj limits unable disclose call agt office spoke wstephanie fol states dcv pulled pl struck by iv traveling improper speed cv loc unknwn col avail cv stephanie email spoke wdiv secured ri name brian cashion addr wasson way simpsonville sc long addr parties wife rachel dob sc iv cadillac escalade oiv crown nissan greenville todd thayre cadillac escalade loaner veh ni looking purchase veh replace toyota camry listed pol ni pu loaner veh iv repair issues iv looking trade iv dealer allowed ni drive escalade finance pw complete ni states dealership sent incorrect pw chevy tahoe lh ni ok finance wrong veh dealer resend pw lh correct veh states today tomorrow would day signed pw escalade ni states signed loaner agreement prior taking escalade property ni states sign bos purchase escalade pivsdiv inj y div sore back div went er by amb scene back spasms tx xrayexamrx pain muscle relaxer via iv fu n health ins n cv honda car pcvsdcv inj y went er scene dol tol loc fairview south st div coming fairview lane turning rt onto south st lane dcv coming pl iv rt turning lt onto south st sl traffic control n div bearing rt onto south fairview dcv pulling pl implied stop obstructions n div traveling apx div states traveled apx south st prior impact wcv ad states going town traveling fairview south st div states came dcv pulled front iv div apx cv dcv pulled div struck cv div states unable brake attempt swerve rt avoid poi iv front bumpergrille nondrivable bc iv went erdiv thinks iv drivable cv lt doors nondrivable bc rear tire pr y simpsonville dcv found fault unknwn cited wits y women ni states call adv vnop ni states going add vnop policy purchased ni states dealership took ins card camry expl clms process adv covg issue col covg listed veh adv medpay pol adv need loaner agmnt ni states fax ni states vnop moved crown nissan ni states addrph dealer spoke wdiv secured ri name brian cashion addr wasson way simpsonville sc long addr parties wife rachel dob sc iv cadillac escalade oiv crown nissan greenville todd thayre cadillac escalade loaner veh ni looking purchase veh replace toyota camry listed pol ni pu loaner veh iv repair issues iv looking trade iv dealer allowed ni drive escalade finance pw complete ni states dealership sent incorrect pw chevy tahoe lh ni ok finance wrong veh dealer resend pw lh correct veh states today tomorrow would day signed pw escalade ni states signed loaner agreement prior taking escalade property ni states sign bos purchase escalade pivsdiv inj y div sore back div went er by amb scene back spasms tx xrayexamrx pain muscle relaxer via iv fu n health ins n cv honda car pcvsdcv inj y went er scene dol tol loc fairview south st div coming fairview lane turning rt onto south st lane dcv coming pl iv rt turning lt onto south st sl traffic control n div bearing rt onto south fairview dcv pulling pl implied stop obstructions n div traveling apx div states traveled apx south st prior impact wcv ad states going town traveling fairview south st div states came dcv pulled front iv div apx cv dcv pulled div struck cv div states unable brake attempt swerve rt avoid poi iv front bumpergrille nondrivable bc iv went erdiv thinks iv drivable cv lt doors nondrivable bc rear tire pr y simpsonville dcv found fault unknwn cited wits y women ni states call adv vnop ni states going add vnop policy purchased ni states dealership took ins card camry expl clms process adv covg issue col covg listed veh adv medpay pol adv need loaner agmnt ni states fax ni states vnop moved crown nissan ni states addrph dealer attempted contact wdcv lm alt ph loc iso search attempted contact wdcv lm alt ph loc iso search call crown nissan laurens rd greenville sc spoke wtodd thayre states ni signed loaner agrmnt bos states need confirm handling clm dealer cb confirmed vnop property unable make asgn time vnop inspect due new system constraints call crown nissan laurens rd greenville sc spoke wtodd thayre states ni signed loaner agrmnt bos states need confirm handling clm dealer cb confirmed vnop property unable make asgn time vnop inspect due new system constraints recvd forwarded b woody respond updated dcv ph recvd forwarded b woody respond updated dcv ph liability pending per div report loss dcv pulled pl make lt turn ftyrow iv liability appears maj adverse dcv ftyrow per div ri liability pending dcv ri pr mod comp venue bars recovery liability pending per div report loss dcv pulled pl make lt turn ftyrow iv liability appears maj adverse dcv ftyrow per div ri liability pending dcv ri pr mod comp venue bars recovery investigation per div report loss div driving loaner veh dealer dcv pulled pl struck by iv coverage see prior note vnop ror sent liability pending appears adverse dcv ftyrow damages iv fe nondrive loc dealershipno col avail cv lt side doors nondrive unknwn loccol avail allstate injuries div neckback appears soft tissue nature dcv unknwn inj completed actions div ri forwarded ror sent req dealership pw ownership vnop dealer contact made dcv contact attempt made mitigation ltr sent cv ac contacted confirm covg dcv ri asgn iv inspect secure dealer pw ownership vnop review covg secure pr confirm loss loc finalize liability paydeny appropriate subro unlikely col cv appears maj liable loss investigation per div report loss div driving loaner veh dealer dcv pulled pl struck by iv coverage see prior note vnop ror sent liability pending appears adverse dcv ftyrow damages iv fe nondrive loc dealershipno col avail cv lt side doors nondrive unknwn loccol avail allstate injuries div neckback appears soft tissue nature dcv unknwn inj completed actions div ri forwarded ror sent req dealership pw ownership vnop dealer contact made dcv contact attempt made mitigation ltr sent cv ac contacted confirm covg dcv ri asgn iv inspect secure dealer pw ownership vnop review covg secure pr confirm loss loc finalize liability paydeny appropriate subro unlikely col cv appears maj liable loss attempted contact wdcv msg indicates mailbox set upno option lm attempted contact wdcv msg indicates mailbox set upno option lm made asgn vnop inspect dealership auto damage appraisers sc independent appraiser columbia ave columbia sc south carolina united states phone fax adaalbanyautodamageappraisersnet declined drp veh properrty dealership owns vnop made asgn vnop inspect dealership auto damage appraisers sc independent appraiser columbia ave columbia sc south carolina united states phone fax adaalbanyautodamageappraisersnet declined drp veh properrty dealership owns vnop spoke wdcv adv driver involved accident states dghtr cacey elaine letz minor yo driver involved states spoken wlocal agt ac waiting adj cb ocv states dcv inj accident trnsprtd er scene dcv xrays fu wpcp states sore accident dcv cited accident adv mitigation damages confirmed dcv pulling pl impact occurred ocv may allow dcv give stmt feeling time spoke wdcv adv driver involved accident states dghtr cacey elaine letz minor yo driver involved states spoken wlocal agt ac waiting adj cb ocv states dcv inj accident trnsprtd er scene dcv xrays fu wpcp states sore accident dcv cited accident adv mitigation damages confirmed dcv pulling pl impact occurred ocv may allow dcv give stmt feeling time reviewed continue efforts investigate coverage vnop appears owned by delearship loander veh noted appears ni test driving vehicle signed bos sign loaner agreement need secure information confirm veh meets definition covered auto ack lia appears primarily fully driver complete lia investigation well prclmnt ri poi etc reviewed continue efforts investigate coverage vnop appears owned by delearship loander veh noted appears ni test driving vehicle signed bos sign loaner agreement need secure information confirm veh meets definition covered auto ack lia appears primarily fully driver complete lia investigation well prclmnt ri poi etc call ac allstate liability adj daniel doyle confirmed liability pending div reached stmt confirmed ac believes liability maj dcv investigation incomplete ac forward cv photos review ac spoken wdcv handling damages cv tl dcv inj sorenessringing earsdcv ok missed school call ac allstate liability adj daniel doyle confirmed liability pending div reached stmt confirmed ac believes liability maj dcv investigation incomplete ac forward cv photos review ac spoken wdcv handling damages cv tl dcv inj sorenessringing earsdcv ok missed school recvd iv appr appears line wfol unable issue pymnt vnop parts body labor hrs paint labor hrs paint supplies hrs total recvd iv appr appears line wfol unable issue pymnt vnop parts body labor hrs paint labor hrs paint supplies hrs total attempted contact wdcv lm wmother states dcv avail time avail several dys due school activities attempted contact wdcv lm wmother states dcv avail time avail several dys due school activities rcvd call daniel doyle allstate asked could reach ni attempted reach ni hm cell answer daniel sts looks like fault ax worried ni injs knows ni ems requested morphine scene informed per initial contact ni ems er fu txt time daniel requested transcribed copy rs informed would fwd request ha daniels email ddoyoallstatecom rcvd call daniel doyle allstate asked could reach ni attempted reach ni hm cell answer daniel sts looks like fault ax worried ni injs knows ni ems requested morphine scene informed per initial contact ni ems er fu txt time daniel requested transcribed copy rs informed would fwd request ha daniels email ddoyoallstatecom reviewed keep working finalize coverage able secure carrier information loaner veh coll coverage policy send coll letter ack clmnt driver filed carrier umpdumbi ruled reviewed keep working finalize coverage able secure carrier information loaner veh coll coverage policy send coll letter ack clmnt driver filed carrier umpdumbi ruled attempted contact wni line rings busy attempted contact wni lm attempted contact wni line rings busy attempted contact wni lm recvd cll cvo got rs fol cvd name kacey lentz dob phone address timberjack st simpsonville sc injured neck sore lft side face air bag lft knee ringing lft ear upper back ambulance yes hill crest memorial hospital clmt stay night physician miss school miss next day work work yrmakemodel honda fit towed yes north hill towing time loss pm road trav tol fairview pointe dr lanes ln direction police dept simpsonville pd citation none weather sunny obstructions telephone pole distractions glasses yes clmt tol glasses break ni glasses fol exiting stip mall looked seen one coming proceeded fwd thats notice niv coming south st attempted avoid accident by stepping still got impacted rear driver side niv frt drv bumper conversation ni witness yes pr end rs recvd cll cvo got rs fol cvd name kacey lentz dob phone address timberjack st simpsonville sc injured neck sore lft side face air bag lft knee ringing lft ear upper back ambulance yes hill crest memorial hospital clmt stay night physician miss school miss next day work work yrmakemodel honda fit towed yes north hill towing time loss pm road trav tol fairview pointe dr lanes ln direction police dept simpsonville pd citation none weather sunny obstructions telephone pole distractions glasses yes clmt tol glasses break ni glasses fol exiting stip mall looked seen one coming proceeded fwd thats notice niv coming south st attempted avoid accident by stepping still got impacted rear driver side niv frt drv bumper conversation ni witness yes pr end rs explained clm process coverages liability advised liability pending clmt understood explained clm process coverages liability advised liability pending clmt understood file review listed driver vnop cadillac escalade policy incepted dol sc policy loss col policy vnop loaner vehicle dealer thinking trading iv one ivd loaner since fol iv making rt street cv leaving parking made rt onto street vnop allstate carrier cv poi vnop front end cv left doors citations given injury brian cashion ivd transported back pains cacey elaine cvd transported minor yo soft tissue kristen make sure col letter sent need contact dealer get claim information vehicle lets fu adverse liability decision file review listed driver vnop cadillac escalade policy incepted dol sc policy loss col policy vnop loaner vehicle dealer thinking trading iv one ivd loaner since fol iv making rt street cv leaving parking made rt onto street vnop allstate carrier cv poi vnop front end cv left doors citations given injury brian cashion ivd transported back pains cacey elaine cvd transported minor yo soft tissue kristen make sure col letter sent need contact dealer get claim information vehicle lets fu adverse liability decision attempted contact wni ansno vm attempted contact wni lm attempted contact wni ansno vm attempted contact wni lm call ac allstate liability adj daniel doyle lm req liability status call ac allstate liability adj daniel doyle lm req liability status call ac allstate liability adj daniel doyle spoke wrich confirmed liability accepted vnop damages pd call ac allstate liability adj daniel doyle spoke wrich confirmed liability accepted vnop damages pd per divdcv report loss dcv pulled pl struck iv ac accepted liability dcv liable ftyrow per divdcv report loss dcv pulled pl struck iv ac accepted liability dcv liable ftyrow completed completed'"
      ]
     },
     "execution_count": 25,
     "metadata": {},
     "output_type": "execute_result"
    }
   ],
   "source": [
    "general_df.claim_level_list[0]"
   ]
  },
  {
   "cell_type": "code",
   "execution_count": 26,
   "metadata": {},
   "outputs": [],
   "source": [
    "# lowered_df.head()"
   ]
  },
  {
   "cell_type": "code",
   "execution_count": 27,
   "metadata": {},
   "outputs": [],
   "source": [
    "fault_ratings = column_to_list_text(general_df, 'FaultRatingName')"
   ]
  },
  {
   "cell_type": "code",
   "execution_count": 28,
   "metadata": {},
   "outputs": [],
   "source": [
    "claim_level_body = column_to_list_text(general_df, 'claim_level_list')"
   ]
  },
  {
   "cell_type": "code",
   "execution_count": 29,
   "metadata": {},
   "outputs": [],
   "source": [
    "exposure_level_body = column_to_list_text(general_df, 'exposure_level_list')"
   ]
  },
  {
   "cell_type": "code",
   "execution_count": 30,
   "metadata": {},
   "outputs": [],
   "source": [
    "accident_description = column_to_list_text(general_df, 'accident_desc_list')"
   ]
  },
  {
   "cell_type": "code",
   "execution_count": 31,
   "metadata": {},
   "outputs": [],
   "source": [
    "injury_description = column_to_list_text(general_df, 'injury_desc_list')"
   ]
  },
  {
   "cell_type": "code",
   "execution_count": 32,
   "metadata": {},
   "outputs": [],
   "source": [
    "damage_description = column_to_list_text(general_df, 'damage_desc_list')"
   ]
  },
  {
   "cell_type": "code",
   "execution_count": 33,
   "metadata": {},
   "outputs": [],
   "source": [
    "# claim_level_tokenized = [[token for token in word_tokenize(doc)] \n",
    "#                            for doc in claim_level_body]\n",
    "# exposure_level_tokenized = [[token for token in word_tokenize(doc)] \n",
    "#                            for doc in exposure_level_body]\n",
    "# accident_desc_tokenized = [[token for token in word_tokenize(doc)] \n",
    "#                            for doc in accident_description]\n",
    "# injury_desc_tokenized = [[token for token in word_tokenize(doc)] \n",
    "#                            for doc in injury_description]\n",
    "# damage_desc_tokenized = [[token for token in word_tokenize(doc) ] \n",
    "#                          for doc in damage_description]\n",
    "\n",
    "# [token for token in word_tokenize(damage_description) if token.isalpha()]"
   ]
  },
  {
   "cell_type": "code",
   "execution_count": 34,
   "metadata": {},
   "outputs": [],
   "source": [
    "from collections import Counter"
   ]
  },
  {
   "cell_type": "code",
   "execution_count": 35,
   "metadata": {
    "scrolled": true
   },
   "outputs": [],
   "source": [
    "# exposure_level_tokenized[4]"
   ]
  },
  {
   "cell_type": "code",
   "execution_count": 36,
   "metadata": {},
   "outputs": [],
   "source": [
    "# word_counts_claim = [dict(Counter(doc)) for doc in claim_level_tokenized]\n",
    "# word_counts_exposure = [dict(Counter(doc)) for doc in exposure_level_tokenized]\n",
    "# word_counts_accident = [dict(Counter(doc)) for doc in accident_desc_tokenized]\n",
    "# word_counts_injury = [dict(Counter(doc)) for doc in injury_desc_tokenized]\n",
    "# word_counts_damage = [dict(Counter(doc)) for doc in damage_desc_tokenized]"
   ]
  },
  {
   "cell_type": "code",
   "execution_count": 37,
   "metadata": {
    "scrolled": true
   },
   "outputs": [],
   "source": [
    "# word_counts_accident[30052]"
   ]
  },
  {
   "cell_type": "code",
   "execution_count": 38,
   "metadata": {},
   "outputs": [],
   "source": [
    "# claim_word_counts = [len(doc) for doc in claim_level_tokenized]\n",
    "# exposure_word_counts = [len(doc) for doc in exposure_level_tokenized]\n",
    "# accident_word_counts = [len(doc) for doc in accident_desc_tokenized]\n",
    "# injury_word_counts = [len(doc) for doc in injury_desc_tokenized]\n",
    "# damage_word_counts = [len(doc) for doc in damage_desc_tokenized]\n"
   ]
  },
  {
   "cell_type": "code",
   "execution_count": 40,
   "metadata": {},
   "outputs": [],
   "source": [
    "# iv_list = [0] * len(word_counts_claim)\n",
    "# liability_list = [0] * len(word_counts_claim)\n",
    "# dcv_list = [0] * len(word_counts_claim)\n",
    "# inj_list = [0] * len(word_counts_claim)\n",
    "# vnop_list = [0] * len(word_counts_claim)\n",
    "# ac_list = [0] * len(word_counts_claim)\n",
    "# cv_list = [0] * len(word_counts_claim)\n",
    "# div_list = [0] * len(word_counts_claim)\n",
    "# insd_list = [0] * len(word_counts_claim)\n",
    "# insured_list = [0] * len(word_counts_claim)\n",
    "# clmt_list = [0] * len(word_counts_claim)"
   ]
  },
  {
   "cell_type": "code",
   "execution_count": 42,
   "metadata": {},
   "outputs": [],
   "source": [
    "# head_list = [0] * len(word_counts_injury)\n",
    "# ambulance_list = [0] * len(word_counts_injury)\n",
    "# concussion_list = [0] * len(word_counts_injury)\n",
    "# whiplash_list = [0] * len(word_counts_injury)"
   ]
  },
  {
   "cell_type": "code",
   "execution_count": 43,
   "metadata": {},
   "outputs": [],
   "source": [
    "# rear_list = [0] * len(word_counts_accident)"
   ]
  },
  {
   "cell_type": "code",
   "execution_count": 44,
   "metadata": {},
   "outputs": [],
   "source": [
    "# deployed_list = [0] * len(word_counts_damage)\n",
    "# towed_list = [0] * len(word_counts_damage)\n",
    "# totaled_list = [0] * len(word_counts_damage)"
   ]
  },
  {
   "cell_type": "code",
   "execution_count": 45,
   "metadata": {},
   "outputs": [],
   "source": [
    "# for ind, count_dict in enumerate(word_counts_accident):\n",
    "#     if 'rear' in count_dict:\n",
    "#         rear_list[ind] = count_dict['rear']"
   ]
  },
  {
   "cell_type": "code",
   "execution_count": 46,
   "metadata": {},
   "outputs": [],
   "source": [
    "# for ind, count_dict in enumerate(word_counts_damage):\n",
    "#     if 'deployed' in count_dict:\n",
    "#         deployed_list[ind] = count_dict['deployed']\n",
    "#     if 'towed' in count_dict:\n",
    "#         towed_list[ind] = count_dict['towed']\n",
    "#     if 'totaled' in count_dict:\n",
    "#         totaled_list[ind] = count_dict['totaled']"
   ]
  },
  {
   "cell_type": "code",
   "execution_count": 47,
   "metadata": {},
   "outputs": [],
   "source": [
    "# for ind, count_dict in enumerate(word_counts_injury):\n",
    "#     if 'head' in count_dict:\n",
    "#         head_list[ind] = count_dict['head']\n",
    "#     if 'ambulance' in count_dict:\n",
    "#         ambulance_list[ind] = count_dict['ambulance']\n",
    "#     if 'concussion' in count_dict:\n",
    "#         concussion_list[ind] = count_dict['concussion']\n",
    "#     if 'whiplash' in count_dict:\n",
    "#         whiplash_list[ind] = count_dict['whiplash']"
   ]
  },
  {
   "cell_type": "code",
   "execution_count": 48,
   "metadata": {},
   "outputs": [],
   "source": [
    "# for ind, count_dict in enumerate(word_counts_claim):\n",
    "#     if 'iv' in count_dict:\n",
    "#         iv_list[ind] = count_dict['iv']\n",
    "#     else:\n",
    "#         iv_list[ind] = 0\n",
    "#     if 'liability' in count_dict:\n",
    "#         liability_list[ind] = count_dict['liability']\n",
    "#     else:\n",
    "#         liability_list[ind] = 0\n",
    "#     if 'dcv' in count_dict:\n",
    "#         dcv_list[ind] = count_dict['dcv']\n",
    "#     else:\n",
    "#         dcv_list[ind] = 0\n",
    "#     if 'inj' in count_dict:\n",
    "#         inj_list[ind] = count_dict['inj']\n",
    "#     else:\n",
    "#         inj_list[ind] = 0\n",
    "#     if 'vnop' in count_dict:\n",
    "#         vnop_list[ind] = count_dict['vnop']\n",
    "#     else:\n",
    "#         vnop_list[ind] = 0\n",
    "#     if 'ac' in count_dict:\n",
    "#         ac_list[ind] = count_dict['ac']\n",
    "#     else:\n",
    "#         ac_list[ind] = 0\n",
    "#     if 'cv' in count_dict:\n",
    "#         cv_list[ind] = count_dict['cv']\n",
    "#     else:\n",
    "#         cv_list[ind] = 0\n",
    "#     if 'div' in count_dict:\n",
    "#         div_list[ind] = count_dict['div']\n",
    "#     else:\n",
    "#         div_list[ind] = 0\n",
    "#     if 'insd' in count_dict:\n",
    "#         insd_list[ind] = count_dict['insd']\n",
    "#     else:\n",
    "#         insd_list[ind] = 0\n",
    "#     if 'insured' in count_dict:\n",
    "#         insured_list[ind] = count_dict['insured']\n",
    "#     else:\n",
    "#         insured_list[ind] = 0"
   ]
  },
  {
   "cell_type": "code",
   "execution_count": 49,
   "metadata": {},
   "outputs": [],
   "source": [
    "# iv_list[:10]"
   ]
  },
  {
   "cell_type": "code",
   "execution_count": 50,
   "metadata": {},
   "outputs": [],
   "source": [
    "# word_counts_claim[2]"
   ]
  },
  {
   "cell_type": "code",
   "execution_count": 51,
   "metadata": {},
   "outputs": [],
   "source": [
    "# word_cols = {'claim_level_word_count': claim_word_counts,\n",
    "#              'exposure_word_count': exposure_word_counts,\n",
    "#              'accident_desc_word_count': accident_word_counts,\n",
    "#     'injury_desc_word_count': injury_word_counts,\n",
    "#              'damage_desc_word_count': damage_word_counts,\n",
    "#     'iv_count': iv_list,\n",
    "#          'liability_count': liability_list,\n",
    "#          'dcv_count': dcv_list,\n",
    "#          'inj_count': inj_list,\n",
    "#              'vnop_count': vnop_list,\n",
    "#             'ac_count': ac_list,\n",
    "#             'cv_count': cv_list,\n",
    "#             'div_count': div_list,\n",
    "#             'insd_count': insd_list,\n",
    "#             'insured_count': insured_list,\n",
    "#             'rear_count': rear_list,\n",
    "#             'deployed_count': deployed_list,\n",
    "#             'towed_count': towed_list,\n",
    "#             'totaled_count': totaled_list,\n",
    "#             'head_count': head_list,\n",
    "#             'ambulance_count': ambulance_list,\n",
    "#             'concussion_count': concussion_list,\n",
    "#             'whiplash_count': whiplash_list}\n",
    "# df_spec_word_count = pd.DataFrame.from_dict(word_cols)"
   ]
  },
  {
   "cell_type": "code",
   "execution_count": 52,
   "metadata": {},
   "outputs": [],
   "source": [
    "# df_spec_word_count.head()"
   ]
  },
  {
   "cell_type": "code",
   "execution_count": 53,
   "metadata": {},
   "outputs": [],
   "source": [
    "# dict_cols = {'word_counts_claim': word_counts_claim,\n",
    "#          'word_counts_exposure': word_counts_exposure,\n",
    "#          'word_counts_accident': word_counts_accident,\n",
    "#          'word_counts_injury': word_counts_injury,\n",
    "#              'word_counts_damage': word_counts_damage}\n",
    "# df_word_count = pd.DataFrame.from_dict(dict_cols)"
   ]
  },
  {
   "cell_type": "code",
   "execution_count": 54,
   "metadata": {},
   "outputs": [],
   "source": [
    "# df_word_count.head()"
   ]
  },
  {
   "cell_type": "code",
   "execution_count": 56,
   "metadata": {},
   "outputs": [],
   "source": [
    "# token_cols = {'claim_level_list': claim_level_tokenized,\n",
    "#          'exposure_level_list': exposure_level_tokenized,\n",
    "#          'accident_desc_list': accident_desc_tokenized,\n",
    "#          'injury_desc_list': injury_desc_tokenized,\n",
    "#              'damage_desc_list': damage_desc_tokenized}\n",
    "# df = pd.DataFrame.from_dict(token_cols)"
   ]
  },
  {
   "cell_type": "code",
   "execution_count": 57,
   "metadata": {},
   "outputs": [],
   "source": [
    "# df.head()"
   ]
  },
  {
   "cell_type": "code",
   "execution_count": 58,
   "metadata": {},
   "outputs": [],
   "source": [
    "# len(df)"
   ]
  },
  {
   "cell_type": "code",
   "execution_count": 59,
   "metadata": {},
   "outputs": [],
   "source": [
    "# df_spec_word_counts = pd.concat([df_with_counts, df_spec_word_count], axis = 1)"
   ]
  },
  {
   "cell_type": "code",
   "execution_count": 60,
   "metadata": {},
   "outputs": [],
   "source": [
    "# df_with_tokens = pd.concat([lowered_df, df], axis = 1)"
   ]
  },
  {
   "cell_type": "code",
   "execution_count": 61,
   "metadata": {},
   "outputs": [],
   "source": [
    "# df_with_counts = pd.concat([general_df, df_spec_word_count], axis = 1)"
   ]
  },
  {
   "cell_type": "code",
   "execution_count": 62,
   "metadata": {},
   "outputs": [
    {
     "data": {
      "text/html": [
       "<div>\n",
       "<style scoped>\n",
       "    .dataframe tbody tr th:only-of-type {\n",
       "        vertical-align: middle;\n",
       "    }\n",
       "\n",
       "    .dataframe tbody tr th {\n",
       "        vertical-align: top;\n",
       "    }\n",
       "\n",
       "    .dataframe thead th {\n",
       "        text-align: right;\n",
       "    }\n",
       "</style>\n",
       "<table border=\"1\" class=\"dataframe\">\n",
       "  <thead>\n",
       "    <tr style=\"text-align: right;\">\n",
       "      <th></th>\n",
       "      <th>ClaimID_RGEN</th>\n",
       "      <th>ExposureID_RGEN</th>\n",
       "      <th>ClaimLevelBody</th>\n",
       "      <th>ExposureLevelBody</th>\n",
       "      <th>AccidentDescription</th>\n",
       "      <th>InjuryDescription</th>\n",
       "      <th>DamageDescription</th>\n",
       "      <th>SeverityTypeName</th>\n",
       "      <th>ClaimGroup</th>\n",
       "      <th>FaultRatingName</th>\n",
       "      <th>...</th>\n",
       "      <th>insd_count</th>\n",
       "      <th>insured_count</th>\n",
       "      <th>rear_count</th>\n",
       "      <th>deployed_count</th>\n",
       "      <th>towed_count</th>\n",
       "      <th>totaled_count</th>\n",
       "      <th>head_count</th>\n",
       "      <th>ambulance_count</th>\n",
       "      <th>concussion_count</th>\n",
       "      <th>whiplash_count</th>\n",
       "    </tr>\n",
       "  </thead>\n",
       "  <tbody>\n",
       "    <tr>\n",
       "      <th>0</th>\n",
       "      <td>10000</td>\n",
       "      <td>131005</td>\n",
       "      <td>reviewed\\r\\ncoverage  sc rated policy and loss...</td>\n",
       "      <td>none none liability accepted by adverse and da...</td>\n",
       "      <td>the insured was test driving a vehicle  the ov...</td>\n",
       "      <td>neckback</td>\n",
       "      <td>front left side damages  towed collision tow i...</td>\n",
       "      <td>Moderate</td>\n",
       "      <td>Tampa Field Ops</td>\n",
       "      <td>Other party at fault</td>\n",
       "      <td>...</td>\n",
       "      <td>0</td>\n",
       "      <td>0</td>\n",
       "      <td>0</td>\n",
       "      <td>0</td>\n",
       "      <td>0</td>\n",
       "      <td>0</td>\n",
       "      <td>0</td>\n",
       "      <td>0</td>\n",
       "      <td>0</td>\n",
       "      <td>0</td>\n",
       "    </tr>\n",
       "    <tr>\n",
       "      <th>1</th>\n",
       "      <td>10001</td>\n",
       "      <td>131006</td>\n",
       "      <td>c  dol  *******\\r\\n      tol *** pm\\r\\n      v...</td>\n",
       "      <td>c  coverage\\r\\ndol *****\\r\\nfnol ***** by ni \\...</td>\n",
       "      <td>the iv was driving down the road when the ov i...</td>\n",
       "      <td>pain</td>\n",
       "      <td>front right headlight front side of bumper  dr...</td>\n",
       "      <td>Minor</td>\n",
       "      <td>Tampa Field Ops</td>\n",
       "      <td>Other party at fault</td>\n",
       "      <td>...</td>\n",
       "      <td>0</td>\n",
       "      <td>2</td>\n",
       "      <td>0</td>\n",
       "      <td>0</td>\n",
       "      <td>0</td>\n",
       "      <td>0</td>\n",
       "      <td>0</td>\n",
       "      <td>0</td>\n",
       "      <td>0</td>\n",
       "      <td>0</td>\n",
       "    </tr>\n",
       "    <tr>\n",
       "      <th>2</th>\n",
       "      <td>10002</td>\n",
       "      <td>131007</td>\n",
       "      <td>insured was in the hospital and lost service ...</td>\n",
       "      <td>none none c  coverage\\r\\ndol *****\\r\\nfnol ***...</td>\n",
       "      <td>insured was stopped at the stop light when cv ...</td>\n",
       "      <td>strain</td>\n",
       "      <td>unknown damages rear bumper trunk  right rear ...</td>\n",
       "      <td>Minor</td>\n",
       "      <td>Tampa Field Ops</td>\n",
       "      <td>Other party at fault</td>\n",
       "      <td>...</td>\n",
       "      <td>4</td>\n",
       "      <td>4</td>\n",
       "      <td>1</td>\n",
       "      <td>0</td>\n",
       "      <td>0</td>\n",
       "      <td>0</td>\n",
       "      <td>0</td>\n",
       "      <td>0</td>\n",
       "      <td>0</td>\n",
       "      <td>0</td>\n",
       "    </tr>\n",
       "    <tr>\n",
       "      <th>3</th>\n",
       "      <td>10003</td>\n",
       "      <td>131008</td>\n",
       "      <td>insured was in the hospital and lost service ...</td>\n",
       "      <td>none none hhcsi dos ****** atd for brant willi...</td>\n",
       "      <td>insured was stopped at the stop light when cv ...</td>\n",
       "      <td>back</td>\n",
       "      <td>unknown damages rear bumper trunk  right rear ...</td>\n",
       "      <td>NaN</td>\n",
       "      <td>Tampa Field Ops</td>\n",
       "      <td>Other party at fault</td>\n",
       "      <td>...</td>\n",
       "      <td>4</td>\n",
       "      <td>4</td>\n",
       "      <td>1</td>\n",
       "      <td>0</td>\n",
       "      <td>0</td>\n",
       "      <td>0</td>\n",
       "      <td>0</td>\n",
       "      <td>0</td>\n",
       "      <td>0</td>\n",
       "      <td>0</td>\n",
       "    </tr>\n",
       "    <tr>\n",
       "      <th>4</th>\n",
       "      <td>10004</td>\n",
       "      <td>131009</td>\n",
       "      <td>adjuster out of office\\r\\nreassigned adjuster ...</td>\n",
       "      <td>new pip loss received  additional action neede...</td>\n",
       "      <td>ov re host veh</td>\n",
       "      <td>neck back</td>\n",
       "      <td>none none none</td>\n",
       "      <td>Minor</td>\n",
       "      <td>Fast Track</td>\n",
       "      <td>Other party at fault</td>\n",
       "      <td>...</td>\n",
       "      <td>0</td>\n",
       "      <td>10</td>\n",
       "      <td>0</td>\n",
       "      <td>0</td>\n",
       "      <td>0</td>\n",
       "      <td>0</td>\n",
       "      <td>0</td>\n",
       "      <td>0</td>\n",
       "      <td>0</td>\n",
       "      <td>0</td>\n",
       "    </tr>\n",
       "  </tbody>\n",
       "</table>\n",
       "<p>5 rows × 47 columns</p>\n",
       "</div>"
      ],
      "text/plain": [
       "   ClaimID_RGEN  ExposureID_RGEN  \\\n",
       "0         10000           131005   \n",
       "1         10001           131006   \n",
       "2         10002           131007   \n",
       "3         10003           131008   \n",
       "4         10004           131009   \n",
       "\n",
       "                                      ClaimLevelBody  \\\n",
       "0  reviewed\\r\\ncoverage  sc rated policy and loss...   \n",
       "1  c  dol  *******\\r\\n      tol *** pm\\r\\n      v...   \n",
       "2   insured was in the hospital and lost service ...   \n",
       "3   insured was in the hospital and lost service ...   \n",
       "4  adjuster out of office\\r\\nreassigned adjuster ...   \n",
       "\n",
       "                                   ExposureLevelBody  \\\n",
       "0  none none liability accepted by adverse and da...   \n",
       "1  c  coverage\\r\\ndol *****\\r\\nfnol ***** by ni \\...   \n",
       "2  none none c  coverage\\r\\ndol *****\\r\\nfnol ***...   \n",
       "3  none none hhcsi dos ****** atd for brant willi...   \n",
       "4  new pip loss received  additional action neede...   \n",
       "\n",
       "                                 AccidentDescription InjuryDescription  \\\n",
       "0  the insured was test driving a vehicle  the ov...          neckback   \n",
       "1  the iv was driving down the road when the ov i...              pain   \n",
       "2  insured was stopped at the stop light when cv ...            strain   \n",
       "3  insured was stopped at the stop light when cv ...              back   \n",
       "4                                     ov re host veh         neck back   \n",
       "\n",
       "                                   DamageDescription SeverityTypeName  \\\n",
       "0  front left side damages  towed collision tow i...         Moderate   \n",
       "1  front right headlight front side of bumper  dr...            Minor   \n",
       "2  unknown damages rear bumper trunk  right rear ...            Minor   \n",
       "3  unknown damages rear bumper trunk  right rear ...              NaN   \n",
       "4                                     none none none            Minor   \n",
       "\n",
       "        ClaimGroup       FaultRatingName  ... insd_count insured_count  \\\n",
       "0  Tampa Field Ops  Other party at fault  ...          0             0   \n",
       "1  Tampa Field Ops  Other party at fault  ...          0             2   \n",
       "2  Tampa Field Ops  Other party at fault  ...          4             4   \n",
       "3  Tampa Field Ops  Other party at fault  ...          4             4   \n",
       "4       Fast Track  Other party at fault  ...          0            10   \n",
       "\n",
       "  rear_count deployed_count towed_count totaled_count head_count  \\\n",
       "0          0              0           0             0          0   \n",
       "1          0              0           0             0          0   \n",
       "2          1              0           0             0          0   \n",
       "3          1              0           0             0          0   \n",
       "4          0              0           0             0          0   \n",
       "\n",
       "  ambulance_count concussion_count whiplash_count  \n",
       "0               0                0              0  \n",
       "1               0                0              0  \n",
       "2               0                0              0  \n",
       "3               0                0              0  \n",
       "4               0                0              0  \n",
       "\n",
       "[5 rows x 47 columns]"
      ]
     },
     "execution_count": 62,
     "metadata": {},
     "output_type": "execute_result"
    }
   ],
   "source": [
    "general_df.head()"
   ]
  },
  {
   "cell_type": "code",
   "execution_count": 63,
   "metadata": {},
   "outputs": [],
   "source": [
    "# len(df_with_tokens)"
   ]
  },
  {
   "cell_type": "code",
   "execution_count": 64,
   "metadata": {},
   "outputs": [],
   "source": [
    "# df_with_counts.to_csv('data/general_with_word_counts.csv', index = False)"
   ]
  },
  {
   "cell_type": "code",
   "execution_count": 65,
   "metadata": {},
   "outputs": [],
   "source": [
    "# lowered_df.FaultRatingName.value_counts()\n"
   ]
  },
  {
   "cell_type": "code",
   "execution_count": 66,
   "metadata": {},
   "outputs": [],
   "source": [
    "# general_tokens_df.iloc[0,22]"
   ]
  },
  {
   "cell_type": "code",
   "execution_count": 67,
   "metadata": {},
   "outputs": [],
   "source": [
    "def join_strings(df, columns):\n",
    "    n_df = df\n",
    "    for col in columns:\n",
    "        def join_col(row):\n",
    "            claim_list = row[col]\n",
    "            return ' '.join(claim_list)\n",
    "        n_df[col] = n_df.apply(join_col, axis = 1)\n",
    "    return n_df"
   ]
  },
  {
   "cell_type": "code",
   "execution_count": 68,
   "metadata": {},
   "outputs": [],
   "source": [
    "# general_full_strings = join_strings(df_with_tokens, ['claim_level_list', 'exposure_level_list',\n",
    "#                                                        'accident_desc_list', 'injury_desc_list',\n",
    "#                                                        'damage_desc_list'])"
   ]
  },
  {
   "cell_type": "code",
   "execution_count": 69,
   "metadata": {},
   "outputs": [],
   "source": [
    "# general_full_strings.head()"
   ]
  },
  {
   "cell_type": "code",
   "execution_count": 119,
   "metadata": {},
   "outputs": [],
   "source": [
    "import numpy as np\n",
    "from sklearn.model_selection import train_test_split\n",
    "from sklearn.pipeline import Pipeline\n",
    "from sklearn.model_selection import GridSearchCV\n",
    "from sklearn.feature_extraction.text import TfidfTransformer\n",
    "from sklearn.feature_extraction.text import CountVectorizer\n",
    "from sklearn.naive_bayes import MultinomialNB"
   ]
  },
  {
   "cell_type": "code",
   "execution_count": 120,
   "metadata": {},
   "outputs": [],
   "source": [
    "text_clf = Pipeline([('vect', CountVectorizer(stop_words='english')),\n",
    "                     ('tfidf', TfidfTransformer()),\n",
    "                     ('clf', MultinomialNB()),\n",
    "                    ])"
   ]
  },
  {
   "cell_type": "code",
   "execution_count": 121,
   "metadata": {},
   "outputs": [],
   "source": [
    "X_train, X_test, y_train, y_test = train_test_split(accident_description, fault_ratings, \n",
    "                                                    test_size=0.25, random_state=42)"
   ]
  },
  {
   "cell_type": "code",
   "execution_count": 122,
   "metadata": {},
   "outputs": [],
   "source": [
    "model = text_clf.fit(X_train, y_train)"
   ]
  },
  {
   "cell_type": "code",
   "execution_count": 123,
   "metadata": {},
   "outputs": [],
   "source": [
    "predicted_MNB = text_clf.predict(X_test)"
   ]
  },
  {
   "cell_type": "code",
   "execution_count": 124,
   "metadata": {},
   "outputs": [
    {
     "data": {
      "text/plain": [
       "array(['Insured at fault', 'Insured at fault', 'Insured at fault',\n",
       "       'Insured at fault', 'Insured at fault'], dtype='<U22')"
      ]
     },
     "execution_count": 124,
     "metadata": {},
     "output_type": "execute_result"
    }
   ],
   "source": [
    "predicted_MNB[:5]"
   ]
  },
  {
   "cell_type": "code",
   "execution_count": 125,
   "metadata": {},
   "outputs": [
    {
     "data": {
      "text/plain": [
       "0.6397142665504058"
      ]
     },
     "execution_count": 125,
     "metadata": {},
     "output_type": "execute_result"
    }
   ],
   "source": [
    "np.mean(predicted_MNB == y_test)"
   ]
  },
  {
   "cell_type": "code",
   "execution_count": 126,
   "metadata": {},
   "outputs": [
    {
     "data": {
      "text/plain": [
       "29818"
      ]
     },
     "execution_count": 126,
     "metadata": {},
     "output_type": "execute_result"
    }
   ],
   "source": [
    "len(predicted_MNB)"
   ]
  },
  {
   "cell_type": "code",
   "execution_count": 127,
   "metadata": {},
   "outputs": [
    {
     "data": {
      "text/plain": [
       "0.6397142665504058"
      ]
     },
     "execution_count": 127,
     "metadata": {},
     "output_type": "execute_result"
    }
   ],
   "source": [
    "text_clf.score(X_test, y_test)"
   ]
  },
  {
   "cell_type": "code",
   "execution_count": 128,
   "metadata": {},
   "outputs": [],
   "source": [
    "from collections import Counter"
   ]
  },
  {
   "cell_type": "code",
   "execution_count": 129,
   "metadata": {},
   "outputs": [
    {
     "data": {
      "text/plain": [
       "Counter({'Insured at fault': 28402,\n",
       "         'Other party at fault': 912,\n",
       "         'No fault': 404,\n",
       "         'Comparative Negligence': 100})"
      ]
     },
     "execution_count": 129,
     "metadata": {},
     "output_type": "execute_result"
    }
   ],
   "source": [
    "Counter(predicted_MNB)"
   ]
  },
  {
   "cell_type": "code",
   "execution_count": 98,
   "metadata": {},
   "outputs": [
    {
     "data": {
      "text/plain": [
       "0.9525119055603998"
      ]
     },
     "execution_count": 98,
     "metadata": {},
     "output_type": "execute_result"
    }
   ],
   "source": [
    "28402/29818"
   ]
  },
  {
   "cell_type": "code",
   "execution_count": 99,
   "metadata": {},
   "outputs": [
    {
     "data": {
      "text/plain": [
       "0.622979408411027"
      ]
     },
     "execution_count": 99,
     "metadata": {},
     "output_type": "execute_result"
    }
   ],
   "source": [
    "74304/len(general_no_unknown)"
   ]
  },
  {
   "cell_type": "code",
   "execution_count": null,
   "metadata": {},
   "outputs": [],
   "source": []
  }
 ],
 "metadata": {
  "kernelspec": {
   "display_name": "Python 3",
   "language": "python",
   "name": "python3"
  },
  "language_info": {
   "codemirror_mode": {
    "name": "ipython",
    "version": 3
   },
   "file_extension": ".py",
   "mimetype": "text/x-python",
   "name": "python",
   "nbconvert_exporter": "python",
   "pygments_lexer": "ipython3",
   "version": "3.6.8"
  }
 },
 "nbformat": 4,
 "nbformat_minor": 2
}

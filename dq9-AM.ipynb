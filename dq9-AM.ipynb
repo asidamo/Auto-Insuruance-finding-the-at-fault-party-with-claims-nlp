{
 "cells": [
  {
   "cell_type": "markdown",
   "metadata": {},
   "source": [
    "# The General Claims Data\n",
    "- Primary question of interest: Who was at fault?\n",
    "<br> <br>\n",
    "- Secondary questions of interest:\n",
    "    - What Claim Group should the claim be routed to?\n",
    "    - Can we predict severity type (minor, moderate, major, life threatening, death)\n",
    "    - What was the cause of the loss?"
   ]
  },
  {
   "cell_type": "code",
   "execution_count": 1,
   "metadata": {},
   "outputs": [],
   "source": [
    "import pandas as pd\n",
    "import numpy as np\n",
    "import spacy\n",
    "import en_core_web_lg"
   ]
  },
  {
   "cell_type": "code",
   "execution_count": 130,
   "metadata": {},
   "outputs": [],
   "source": [
    "import matplotlib.pyplot as plt\n",
    "\n",
    "%matplotlib inline\n",
    "# Increasing default figure size of the notebook\n",
    "plt.rcParams['figure.figsize'] = [12, 8]\n",
    "plt.rcParams['font.size'] = 18"
   ]
  },
  {
   "cell_type": "code",
   "execution_count": 3,
   "metadata": {},
   "outputs": [],
   "source": [
    "import nltk\n",
    "from nltk import word_tokenize"
   ]
  },
  {
   "cell_type": "code",
   "execution_count": 4,
   "metadata": {},
   "outputs": [],
   "source": [
    "from nltk.corpus import stopwords\n",
    "# stop = stopwords.words('english')"
   ]
  },
  {
   "cell_type": "code",
   "execution_count": 5,
   "metadata": {},
   "outputs": [],
   "source": [
    "stop = ['ourselves', 'hers', 'between', 'yourself', 'but', 'again', 'there', 'about', 'once', 'during', 'out', \n",
    " 'very', 'having', 'with', 'they', 'own', 'an', 'be', 'some', 'for', 'do', 'its', 'yours', 'such', 'into', \n",
    " 'of', 'most', 'itself', 'other', 'off', 'is', 's', 'am', 'or', 'who', 'as', 'from', 'him', 'each', 'the', \n",
    " 'themselves', 'until', 'below', 'are', 'we', 'these', 'your', 'his', 'through', 'don', 'nor', 'me', 'were', \n",
    " 'her', 'more', 'himself', 'this', 'down', 'should', 'our', 'their', 'while', 'above', 'both', 'up', 'to', 'ours', \n",
    " 'had', 'she', 'all', 'no', 'when', 'at', 'any', 'before', 'them', 'same', 'and', 'been', 'have', 'in', 'will', \n",
    " 'on', 'does', 'yourselves', 'then', 'that', 'because', 'what', 'over', 'why', 'so', 'can', 'did', 'not', 'now', \n",
    " 'under', 'he', 'you', 'herself', 'has', 'just', 'where', 'too', 'only', 'myself', 'which', 'those', 'i', 'after', \n",
    " 'few', 'whom', 't', 'being', 'if', 'theirs', 'my', 'against', 'a', 'doing', 'it', 'how', 'further', 'was', \n",
    " 'here', 'than']"
   ]
  },
  {
   "cell_type": "code",
   "execution_count": 6,
   "metadata": {},
   "outputs": [],
   "source": [
    "import gensim"
   ]
  },
  {
   "cell_type": "code",
   "execution_count": 7,
   "metadata": {},
   "outputs": [],
   "source": [
    "# general_tokens_df = pd.read_csv('data/general_with_tokens.csv')"
   ]
  },
  {
   "cell_type": "code",
   "execution_count": 8,
   "metadata": {},
   "outputs": [],
   "source": [
    "# general_tokens_df.head()"
   ]
  },
  {
   "cell_type": "code",
   "execution_count": 9,
   "metadata": {},
   "outputs": [],
   "source": [
    "from ast import literal_eval"
   ]
  },
  {
   "cell_type": "code",
   "execution_count": 10,
   "metadata": {},
   "outputs": [],
   "source": [
    "# def join_strings(df, columns):\n",
    "#     n_df = df\n",
    "#     for col in columns:\n",
    "#         def join_col(row):\n",
    "#             claim_list = row[col]\n",
    "#             return ' '.join(claim_list)\n",
    "#         n_df[col] = n_df.apply(join_col, axis = 1)\n",
    "#     return n_df\n",
    "# convert lists from strings back to lists\n",
    "def convert_to_list(df,cols):\n",
    "    n_df = df\n",
    "    for col in cols:\n",
    "        def de_list(row):\n",
    "            list_str = row[col]\n",
    "            return literal_eval(list_str)\n",
    "        n_df[col] = n_df.apply(de_list, axis = 1)\n",
    "    return n_df"
   ]
  },
  {
   "cell_type": "code",
   "execution_count": 11,
   "metadata": {},
   "outputs": [],
   "source": [
    "# general_tokens_df = convert_to_list(general_tokens_df, ['claim_level_list', 'exposure_level_list',\n",
    "#                                                        'accident_desc_list', 'injury_desc_list',\n",
    "#                                                        'damage_desc_list'])"
   ]
  },
  {
   "cell_type": "code",
   "execution_count": 12,
   "metadata": {},
   "outputs": [],
   "source": [
    "general_df = pd.read_csv('data/general_with_word_counts.csv')\n"
   ]
  },
  {
   "cell_type": "code",
   "execution_count": 13,
   "metadata": {},
   "outputs": [
    {
     "data": {
      "text/html": [
       "<div>\n",
       "<style scoped>\n",
       "    .dataframe tbody tr th:only-of-type {\n",
       "        vertical-align: middle;\n",
       "    }\n",
       "\n",
       "    .dataframe tbody tr th {\n",
       "        vertical-align: top;\n",
       "    }\n",
       "\n",
       "    .dataframe thead th {\n",
       "        text-align: right;\n",
       "    }\n",
       "</style>\n",
       "<table border=\"1\" class=\"dataframe\">\n",
       "  <thead>\n",
       "    <tr style=\"text-align: right;\">\n",
       "      <th></th>\n",
       "      <th>ClaimID_RGEN</th>\n",
       "      <th>ExposureID_RGEN</th>\n",
       "      <th>ClaimLevelBody</th>\n",
       "      <th>ExposureLevelBody</th>\n",
       "      <th>AccidentDescription</th>\n",
       "      <th>InjuryDescription</th>\n",
       "      <th>DamageDescription</th>\n",
       "      <th>SeverityTypeName</th>\n",
       "      <th>ClaimGroup</th>\n",
       "      <th>FaultRatingName</th>\n",
       "      <th>...</th>\n",
       "      <th>insd_count</th>\n",
       "      <th>insured_count</th>\n",
       "      <th>rear_count</th>\n",
       "      <th>deployed_count</th>\n",
       "      <th>towed_count</th>\n",
       "      <th>totaled_count</th>\n",
       "      <th>head_count</th>\n",
       "      <th>ambulance_count</th>\n",
       "      <th>concussion_count</th>\n",
       "      <th>whiplash_count</th>\n",
       "    </tr>\n",
       "  </thead>\n",
       "  <tbody>\n",
       "    <tr>\n",
       "      <th>0</th>\n",
       "      <td>10000</td>\n",
       "      <td>131005</td>\n",
       "      <td>reviewed\\r\\ncoverage  sc rated policy and loss...</td>\n",
       "      <td>none none liability accepted by adverse and da...</td>\n",
       "      <td>the insured was test driving a vehicle  the ov...</td>\n",
       "      <td>neckback</td>\n",
       "      <td>front left side damages  towed collision tow i...</td>\n",
       "      <td>Moderate</td>\n",
       "      <td>Tampa Field Ops</td>\n",
       "      <td>Other party at fault</td>\n",
       "      <td>...</td>\n",
       "      <td>0</td>\n",
       "      <td>0</td>\n",
       "      <td>0</td>\n",
       "      <td>0</td>\n",
       "      <td>0</td>\n",
       "      <td>0</td>\n",
       "      <td>0</td>\n",
       "      <td>0</td>\n",
       "      <td>0</td>\n",
       "      <td>0</td>\n",
       "    </tr>\n",
       "    <tr>\n",
       "      <th>1</th>\n",
       "      <td>10001</td>\n",
       "      <td>131006</td>\n",
       "      <td>c  dol  *******\\r\\n      tol *** pm\\r\\n      v...</td>\n",
       "      <td>c  coverage\\r\\ndol *****\\r\\nfnol ***** by ni \\...</td>\n",
       "      <td>the iv was driving down the road when the ov i...</td>\n",
       "      <td>pain</td>\n",
       "      <td>front right headlight front side of bumper  dr...</td>\n",
       "      <td>Minor</td>\n",
       "      <td>Tampa Field Ops</td>\n",
       "      <td>Other party at fault</td>\n",
       "      <td>...</td>\n",
       "      <td>0</td>\n",
       "      <td>2</td>\n",
       "      <td>0</td>\n",
       "      <td>0</td>\n",
       "      <td>0</td>\n",
       "      <td>0</td>\n",
       "      <td>0</td>\n",
       "      <td>0</td>\n",
       "      <td>0</td>\n",
       "      <td>0</td>\n",
       "    </tr>\n",
       "    <tr>\n",
       "      <th>2</th>\n",
       "      <td>10002</td>\n",
       "      <td>131007</td>\n",
       "      <td>insured was in the hospital and lost service ...</td>\n",
       "      <td>none none c  coverage\\r\\ndol *****\\r\\nfnol ***...</td>\n",
       "      <td>insured was stopped at the stop light when cv ...</td>\n",
       "      <td>strain</td>\n",
       "      <td>unknown damages rear bumper trunk  right rear ...</td>\n",
       "      <td>Minor</td>\n",
       "      <td>Tampa Field Ops</td>\n",
       "      <td>Other party at fault</td>\n",
       "      <td>...</td>\n",
       "      <td>4</td>\n",
       "      <td>4</td>\n",
       "      <td>1</td>\n",
       "      <td>0</td>\n",
       "      <td>0</td>\n",
       "      <td>0</td>\n",
       "      <td>0</td>\n",
       "      <td>0</td>\n",
       "      <td>0</td>\n",
       "      <td>0</td>\n",
       "    </tr>\n",
       "    <tr>\n",
       "      <th>3</th>\n",
       "      <td>10003</td>\n",
       "      <td>131008</td>\n",
       "      <td>insured was in the hospital and lost service ...</td>\n",
       "      <td>none none hhcsi dos ****** atd for brant willi...</td>\n",
       "      <td>insured was stopped at the stop light when cv ...</td>\n",
       "      <td>back</td>\n",
       "      <td>unknown damages rear bumper trunk  right rear ...</td>\n",
       "      <td>NaN</td>\n",
       "      <td>Tampa Field Ops</td>\n",
       "      <td>Other party at fault</td>\n",
       "      <td>...</td>\n",
       "      <td>4</td>\n",
       "      <td>4</td>\n",
       "      <td>1</td>\n",
       "      <td>0</td>\n",
       "      <td>0</td>\n",
       "      <td>0</td>\n",
       "      <td>0</td>\n",
       "      <td>0</td>\n",
       "      <td>0</td>\n",
       "      <td>0</td>\n",
       "    </tr>\n",
       "    <tr>\n",
       "      <th>4</th>\n",
       "      <td>10004</td>\n",
       "      <td>131009</td>\n",
       "      <td>adjuster out of office\\r\\nreassigned adjuster ...</td>\n",
       "      <td>new pip loss received  additional action neede...</td>\n",
       "      <td>ov re host veh</td>\n",
       "      <td>neck back</td>\n",
       "      <td>none none none</td>\n",
       "      <td>Minor</td>\n",
       "      <td>Fast Track</td>\n",
       "      <td>Other party at fault</td>\n",
       "      <td>...</td>\n",
       "      <td>0</td>\n",
       "      <td>10</td>\n",
       "      <td>0</td>\n",
       "      <td>0</td>\n",
       "      <td>0</td>\n",
       "      <td>0</td>\n",
       "      <td>0</td>\n",
       "      <td>0</td>\n",
       "      <td>0</td>\n",
       "      <td>0</td>\n",
       "    </tr>\n",
       "  </tbody>\n",
       "</table>\n",
       "<p>5 rows × 47 columns</p>\n",
       "</div>"
      ],
      "text/plain": [
       "   ClaimID_RGEN  ExposureID_RGEN  \\\n",
       "0         10000           131005   \n",
       "1         10001           131006   \n",
       "2         10002           131007   \n",
       "3         10003           131008   \n",
       "4         10004           131009   \n",
       "\n",
       "                                      ClaimLevelBody  \\\n",
       "0  reviewed\\r\\ncoverage  sc rated policy and loss...   \n",
       "1  c  dol  *******\\r\\n      tol *** pm\\r\\n      v...   \n",
       "2   insured was in the hospital and lost service ...   \n",
       "3   insured was in the hospital and lost service ...   \n",
       "4  adjuster out of office\\r\\nreassigned adjuster ...   \n",
       "\n",
       "                                   ExposureLevelBody  \\\n",
       "0  none none liability accepted by adverse and da...   \n",
       "1  c  coverage\\r\\ndol *****\\r\\nfnol ***** by ni \\...   \n",
       "2  none none c  coverage\\r\\ndol *****\\r\\nfnol ***...   \n",
       "3  none none hhcsi dos ****** atd for brant willi...   \n",
       "4  new pip loss received  additional action neede...   \n",
       "\n",
       "                                 AccidentDescription InjuryDescription  \\\n",
       "0  the insured was test driving a vehicle  the ov...          neckback   \n",
       "1  the iv was driving down the road when the ov i...              pain   \n",
       "2  insured was stopped at the stop light when cv ...            strain   \n",
       "3  insured was stopped at the stop light when cv ...              back   \n",
       "4                                     ov re host veh         neck back   \n",
       "\n",
       "                                   DamageDescription SeverityTypeName  \\\n",
       "0  front left side damages  towed collision tow i...         Moderate   \n",
       "1  front right headlight front side of bumper  dr...            Minor   \n",
       "2  unknown damages rear bumper trunk  right rear ...            Minor   \n",
       "3  unknown damages rear bumper trunk  right rear ...              NaN   \n",
       "4                                     none none none            Minor   \n",
       "\n",
       "        ClaimGroup       FaultRatingName  ... insd_count insured_count  \\\n",
       "0  Tampa Field Ops  Other party at fault  ...          0             0   \n",
       "1  Tampa Field Ops  Other party at fault  ...          0             2   \n",
       "2  Tampa Field Ops  Other party at fault  ...          4             4   \n",
       "3  Tampa Field Ops  Other party at fault  ...          4             4   \n",
       "4       Fast Track  Other party at fault  ...          0            10   \n",
       "\n",
       "  rear_count deployed_count towed_count totaled_count head_count  \\\n",
       "0          0              0           0             0          0   \n",
       "1          0              0           0             0          0   \n",
       "2          1              0           0             0          0   \n",
       "3          1              0           0             0          0   \n",
       "4          0              0           0             0          0   \n",
       "\n",
       "  ambulance_count concussion_count whiplash_count  \n",
       "0               0                0              0  \n",
       "1               0                0              0  \n",
       "2               0                0              0  \n",
       "3               0                0              0  \n",
       "4               0                0              0  \n",
       "\n",
       "[5 rows x 47 columns]"
      ]
     },
     "execution_count": 13,
     "metadata": {},
     "output_type": "execute_result"
    }
   ],
   "source": [
    "general_df.head()"
   ]
  },
  {
   "cell_type": "code",
   "execution_count": 14,
   "metadata": {},
   "outputs": [
    {
     "data": {
      "text/plain": [
       "0    reviewed coverage sc rated policy loss effecti...\n",
       "1    c dol tol pm venue fl location jacksonville fl...\n",
       "2    insured hospital lost service middle claim ins...\n",
       "3    insured hospital lost service middle claim ins...\n",
       "4    adjuster office reassigned adjuster office rea...\n",
       "Name: claim_level_list, dtype: object"
      ]
     },
     "execution_count": 14,
     "metadata": {},
     "output_type": "execute_result"
    }
   ],
   "source": [
    "general_df.claim_level_list.head()"
   ]
  },
  {
   "cell_type": "code",
   "execution_count": 15,
   "metadata": {},
   "outputs": [
    {
     "name": "stdout",
     "output_type": "stream",
     "text": [
      "<class 'pandas.core.frame.DataFrame'>\n",
      "RangeIndex: 119272 entries, 0 to 119271\n",
      "Data columns (total 47 columns):\n",
      "ClaimID_RGEN                      119272 non-null int64\n",
      "ExposureID_RGEN                   119272 non-null int64\n",
      "ClaimLevelBody                    119272 non-null object\n",
      "ExposureLevelBody                 119272 non-null object\n",
      "AccidentDescription               119272 non-null object\n",
      "InjuryDescription                 119272 non-null object\n",
      "DamageDescription                 119272 non-null object\n",
      "SeverityTypeName                  86721 non-null object\n",
      "ClaimGroup                        119257 non-null object\n",
      "FaultRatingName                   119271 non-null object\n",
      "LossCauseName                     119272 non-null object\n",
      "CCCreateTime                      119272 non-null object\n",
      "CloseDate                         99601 non-null object\n",
      "StateName                         119272 non-null object\n",
      "ClaimLevelBody_preprocess         119272 non-null object\n",
      "ExposureLevelBody_preprocess      119272 non-null object\n",
      "AccidentDescription_preprocess    119272 non-null object\n",
      "InjuryDescription_preprocess      119272 non-null object\n",
      "DamageDescription_preprocess      119272 non-null object\n",
      "claim_level_list                  119272 non-null object\n",
      "exposure_level_list               119272 non-null object\n",
      "accident_desc_list                119272 non-null object\n",
      "injury_desc_list                  119272 non-null object\n",
      "damage_desc_list                  119272 non-null object\n",
      "claim_level_word_count            119272 non-null int64\n",
      "exposure_word_count               119272 non-null int64\n",
      "accident_desc_word_count          119272 non-null int64\n",
      "injury_desc_word_count            119272 non-null int64\n",
      "damage_desc_word_count            119272 non-null int64\n",
      "iv_count                          119272 non-null int64\n",
      "liability_count                   119272 non-null int64\n",
      "dcv_count                         119272 non-null int64\n",
      "inj_count                         119272 non-null int64\n",
      "vnop_count                        119272 non-null int64\n",
      "ac_count                          119272 non-null int64\n",
      "cv_count                          119272 non-null int64\n",
      "div_count                         119272 non-null int64\n",
      "insd_count                        119272 non-null int64\n",
      "insured_count                     119272 non-null int64\n",
      "rear_count                        119272 non-null int64\n",
      "deployed_count                    119272 non-null int64\n",
      "towed_count                       119272 non-null int64\n",
      "totaled_count                     119272 non-null int64\n",
      "head_count                        119272 non-null int64\n",
      "ambulance_count                   119272 non-null int64\n",
      "concussion_count                  119272 non-null int64\n",
      "whiplash_count                    119272 non-null int64\n",
      "dtypes: int64(25), object(22)\n",
      "memory usage: 42.8+ MB\n"
     ]
    }
   ],
   "source": [
    "general_df.info()"
   ]
  },
  {
   "cell_type": "code",
   "execution_count": 16,
   "metadata": {},
   "outputs": [],
   "source": [
    "# general_no_unknown = general_df.loc[general_df.loc[:,'FaultRatingName'] != 'Fault unknown',:].reset_index(drop=True)"
   ]
  },
  {
   "cell_type": "code",
   "execution_count": 17,
   "metadata": {},
   "outputs": [],
   "source": [
    "general_df = general_df.fillna({'exposure_level_list':' ', 'injury_desc_list':' ', 'damage_desc_list': ' '})"
   ]
  },
  {
   "cell_type": "code",
   "execution_count": 18,
   "metadata": {},
   "outputs": [],
   "source": [
    "# general_no_unknown.info()"
   ]
  },
  {
   "cell_type": "code",
   "execution_count": 19,
   "metadata": {},
   "outputs": [],
   "source": [
    "# nlp = en_core_web_lg.load()"
   ]
  },
  {
   "cell_type": "code",
   "execution_count": 20,
   "metadata": {},
   "outputs": [],
   "source": [
    "def column_to_list_text(df, col_name):\n",
    "    return df[col_name].tolist()"
   ]
  },
  {
   "cell_type": "code",
   "execution_count": 21,
   "metadata": {},
   "outputs": [],
   "source": [
    "def lower_columns(df, col_list):\n",
    "    n_df = df\n",
    "    for col_name in col_list:\n",
    "        n_col = col_name + '_preprocess'\n",
    "        n_df[n_col] = n_df[col_name].str.lower()\n",
    "    return n_df"
   ]
  },
  {
   "cell_type": "code",
   "execution_count": 22,
   "metadata": {},
   "outputs": [],
   "source": [
    "# lowered_df = lower_columns(general_df, ['ClaimLevelBody', 'ExposureLevelBody', 'AccidentDescription', \n",
    "#                                         'InjuryDescription', 'DamageDescription'])"
   ]
  },
  {
   "cell_type": "code",
   "execution_count": 23,
   "metadata": {},
   "outputs": [],
   "source": [
    "# lowered_df.head()"
   ]
  },
  {
   "cell_type": "code",
   "execution_count": 24,
   "metadata": {},
   "outputs": [],
   "source": [
    "def tokenize_claim_level(row):\n",
    "#     list_cols = [['ClaimLevelBody_preprocess', 'ExposureLevelBody_preprocess', 'AccidentDescription_preprocess', \n",
    "#                                         'InjuryDescription_preprocess', 'DamageDescription_preprocess']]\n",
    "    text = row['ClaimLevelBody_preprocess']\n",
    "    text_tokenize = [token for token in word_tokenize(text) if token.isalpha() and token not in stop]\n",
    "    return text_tokenize\n",
    "        \n",
    "def pre_process(df, col_list):\n",
    "    for col in col_list:\n",
    "        df[col] = df.apply(lambda x: tokenize(x, col), axis=1)\n",
    "    return df"
   ]
  },
  {
   "cell_type": "code",
   "execution_count": 25,
   "metadata": {},
   "outputs": [],
   "source": [
    "#lowered_df['ClaimLevelBody_preprocess'] = lowered_df.apply(tokenize_claim_level, axis = 1)"
   ]
  },
  {
   "cell_type": "code",
   "execution_count": 26,
   "metadata": {},
   "outputs": [],
   "source": [
    "#out_df.head()"
   ]
  },
  {
   "cell_type": "code",
   "execution_count": 193,
   "metadata": {
    "scrolled": true
   },
   "outputs": [
    {
     "data": {
      "text/plain": [
       "'witnesses report insured doesnt info caller id claim taken by summer e dol ymm nissan sentra mother reg owner damaris delgado driver airbags none seatbelt yes passengers richard delgado ichabob trail longwood fl lol us hwy unknown cross street unfamiliar area weather clear traffic moderate fol heading back home far left lane witness said clmt coming parking lot trying beat traffic ran right insd insd vehicle went median oncoming traffic ran cinder block wall lanes direction insd far left lane south side clmt vehicle came right saw seconds tried swerve couldnt came plaza poi iv front right fender passenger doors rear qp poi cv drivers side door fenders vehicle towed iv speed limits insd traveling mph police castleberry pd clmt cited careless driving unknown second one injured left hip woke pain hasnt sought med tx going tx aaa adv coll ded pip rental policy adv option file cc contact adv pip adjuster assigned handle injury claim fault covg us ph dcv mld call letter mld call latter ivp coverage issues far liability pending rs dcv pr damages pending casselberry police department added rep assist radiology provider called richard xrays today confirmed open pip claim fl pip benefits advised richard must qualify pip claim reported erin still needs review provider mailing address send billing obc ni luis lvm wanting know ac moved vehicle advised policy cover days storage need know right away take care damages obc aaa spoke mario rob provided correct agency ph polaaa adjuster roxanne menene ext spoke roxanne stated liab pending coverage pending stated told insured go us obc ni luis lvm ni advised ac stated informed best move vehicle policy pay day storage days days could deducted settlement also mld mitigation letter coverage issues far liability pending rs dcv ivp pr damages iv tota lossneed know veh located move rcvd vm ni returning call obc lvm asking call back need move vehicle since ac advised coverage issue accurint run gp appears may possible pip source amanda last name adjuster continue ctc efforts per ctc sops secure qualification rs adj needsto ctc ni secure inj tx info relation gp know lives vehs hh secure rs gp est primacy fu nfa pr iso doc fu fld veh dmgs ro low impact medically manage file accordingly ibc nid delgado cllg coord iv rpr cc stating could days proceed accepting liab due nonctc date wtheir niid rvwd file confirmed iv est completed tow yard iv ptl winstructions consider iv moved secured tel courtesy towing nid obcc courtesy towing wnid confirm iv released sw leslie confirmed iv yet released nid need go tow yard sign auth nid agreed immedy confirmed addr iv located high st longwood requested info re charges date confirmed time another assessed thanked asst completed call wnid nid currently en route courtesy advsd coordinating iv pu tow iaa advsd remove personal fx lp confirmed addl qc thanked nid call iaa adesa drive sanford fl p stock obc ni luis regard total loss advised review file contact back florida tlv prior damage acv state tax county tax fees storage deduction deductible general retain acv salvage deduction storage deduction deductible owner retain sent authorization supv anthony reviewed total loss offer estimate appears acv mileage condition adjustments well maintained vehicle auth provided outlined rcvd pr dol tol unit ford exp owner armeta peterson driver kinitia edgecombe passenger shantez myles violationkinitia edgecombeimproper change lane unit nssn sentra owner luis delgado driver luis delgado passenger richard delgado narrative nb us hwy right lane exited home depot parking lot nb us hwy left lane quickly moved right lane theleft lane entered left lane left side hit right front went median crossed four lanes sb us hwy stopped hit small foot high brick wall fault obc dcv kinitha unabel lvm vm option mld call letter also mld call letter witnesses obc ni luis spoke luis advsied florida tlv prior damage acv state tax county tax fees storage deduction deductible general retain ni provide lienholder information ph account sent work order rcvd email mr delgado nissan motor corp stated company handle gap submit order obc dcv kinitha unable lvm option coverage issues far liability pending rs dcv pr damages iv tota losstransfer tl early subro pymnts subro fl pip clmnt stmnt pending cc coverage liab investigation progress per insrd fol heading back home far left lane witness said clmt coming parking lot trying beat traffic ran right insd insd vehicle went median oncoming traffic ran cinder block wall lanes direction insd far left lane south side clmt vehicle came right saw seconds tried swerve couldnt came plaza poi iv front right fender passenger doors rear qp poi cv drivers side door fenders police castleberry pd clmt cited careless driving unknown second one injured left hip woke pain hasnt sought med tx going tx police report clmnt owner armeta peterson driver kinitia edgecombe insrd narrative nb us hwy right lane exited home depot parking lot nb us hwy left lane quickly moved right lane theleft lane entered left lane left side hit right front went median crossed four lanes sb us hwy stopped hit small foot high brick wall fault cc roxanne menene aaa ph ext ap monitor subro rcvd vm ac obc adjuster roxanne wanted know determine liab advised appear adverse dcv stated waiting witness statement finalzing liab insured told driver merging lane advsied waiting witness well obc ni luis delgado spoke mr delgado advised issued pymt per confirmed address correct asked paid lh advised part handle by spe ok pay owner notification iaa title management kelley psalms id claim insured luis delgado claimant vehicle owner returned required documents documents reviewed by iaa title management please remit payment owner soon possible vehicle owner luis delgado trinity ct longwood fl check amount note general salvagesettlementthegeneralcom shurleyiaaicom subject claim reference vehicle nissan sentra eventoktopaylh ok pay lien holder notification attention oscar ramos kelley psalms id claim insured luis delgado claimant lien holders listed vehicle referenced returned requirement documents iaa title management documents reviewed please remit payment amount shown lien holders shown lienholder nissaninfiniti services co attn total loss po box dallas texas check amount account note questions please hesitate call thank receive separate notification authorizing payment owner indicated information provided reference authorization pay owner vehicle owner luis delgado check amount iaa title management hamilton crossing blvd carmel fax coverage issues far liability pending rs dcv witnessappear adverse clmt damages issued pymt lh ni tl ni gp gp qualified date adj continue contact efforts secure rs file remains sup diary rcvd vm kelly progerssive insurance requesting estimate amt damaeges obc kelly lvm estimate amt advised veh tl letter mld witness coverage issues far liability pending rs dcv witnessappear adverse clmt damages issued pymt lh ni tl richard pip source prog auth send redirect letter close file time rcvd lor ni exposure open pip coverage issue task supv get approval task pip noted lor recvd pip handle req rcvd pol cert docs sent signature recieved call atty office luis delgado richard delgado atty wanted ti know pip coverage medpay um coverage policy told pip medpay um coverage sent message pip adjuster reminder disclosure due policy docs also bill tasked liability adjuster routed sent email tim pat need know ck issued ni lh cashed cleared still outstanding approved forwarded d wynn signature recvd cll ni advise ni lh recvd pymt yet lft issue two pymt lh advise ni informed ha follow stop pymt necesary sent email corp verify lh check cashed outstanding obc nissan hold minutes unable wait longer try another day need confirm havent rcvd ck void ck rcvd ibc cheryl ac stating accepted liab ext liability div idr statesheading back home far left lane witness said clmt coming parking lot trying beat traffic ran right insd insd vehicle went median oncoming traffic ran cinder block wall rcvvd rwd pr statement div confirmed dcv change lanes onto insured vehicle duties breached cv make sure clear prior changing lanes duties breached cv maintain proper lookout coverage issues far liability dcv damages issued pymt ni lh pip claim time sent certified disclosure letter martinez manglardi tracking rcvd ibc michelle esurance wanting confirm excess nissan advised since took care damages collision sending subro stated insured ivp richard delgado progressive reported claim brad wanted know liablity decided advd geicos claim also gave progressives info claim adjs name kelly fallon phone liability dcv idr statesheading back home far left lane witness said clmt coming parking lot trying beat traffic ran right insd insd vehicle went median oncoming traffic ran cinder block wall rcvvd rwd pr statement div confirmed dcv change lanes onto insured vehicle duties breached cv make sure clear prior changing lanes duties breached cv maintain proper lookout obc geico make sure understood liab decision dcv per lvm brad geicos claim coverage issues far liability dcv damages issued pymt ni lh pip claim time early subro tl sttlmnt paid salv pending liability investigation complete cc accepted liab liability idr statesheading back home far left lane witness said clmt coming parking lot trying beat traffic ran right insd insd vehicle went median oncoming traffic ran cinder block wall rcvd rwd pr statement div confirmed dcv change lanes onto insured vehicle duties breached cv make sure clear prior changing lanes duties breached cv maintain proper lookout coll ded salv salv pend cheryl aaa ext ap submit demand thru esubro salv sold line early subro tl sttlmnt paid salv pending checked iaa site title problem resolved proceed posted niss account sale total activity acv sales iaa charges consignment flat fee inbound tow spe lien statelocal transfer fee less iaa charges net iaa return outside charges advanced by iaa labor pullout fee storage advance tow extra equipment less outside charges payment amount salv sold coll ded salv tried submit demand esubro unable list florida option called cc adj ands asked submit fl claims directly provide email address cheryl aaa clm ph ext recvd vmm sg cheryl aaa ext clm confirmed members esurbo provided contact info faxed mailed demand aaa attn cheryl po box tampa fl clm f coll ded salv yes leave put committed state come que ever recd able reconsider pay called cheryl aaa ext clm lvmtcmb recvd call pd reviewier chuckaaa per request emailed color photos asked brkdwn tl sttlmnt provided demand attached emailed charlesbridenstineautoclubflcom called cheryl aaa ext clm lvmtcmb rcvd vm monique wallace esurance wanting know um policy claim lvm advised um coverage coverage issues far liability dcv damages issued pymt ni lh response cc called cheryl aaa ext clm left detailed vm msg interaction ive heard anything since emailed color pics requested pd reviewed back recvd return call cheryl aaa ext clm said sees color pics emailed recvd by reviewer notes file since said forwarded phone msg onto review chuch fu dont hear back chuckshe cant give recvd call chuckaaa said issuing less demand dont pay title fees fl requirement pay fee ap await pymnt received check dated amt auto club south insurance kerry post collision deductible refund time ranae review ded ref pro rata insured made whole ded ref cc recovery memo amt demand amt recovery reason short pay actions recover short pay name cc auto club south insurance posted ck dated amount aaa issue full refund insrd since prorata refund less full refund deductible called ivo luis left vm msg asking insrd confirm address refund requested ded refund amount vm tanisha cigna x ref requested cb advise pip still available ni party info pct tanisha confirmed pip benefits remaining provided cc info geicos claim'"
      ]
     },
     "execution_count": 193,
     "metadata": {},
     "output_type": "execute_result"
    }
   ],
   "source": [
    "general_df.claim_level_list[10000]"
   ]
  },
  {
   "cell_type": "code",
   "execution_count": 28,
   "metadata": {},
   "outputs": [],
   "source": [
    "# lowered_df.head()"
   ]
  },
  {
   "cell_type": "code",
   "execution_count": 29,
   "metadata": {},
   "outputs": [],
   "source": [
    "fault_ratings = column_to_list_text(general_df, 'FaultRatingName')"
   ]
  },
  {
   "cell_type": "code",
   "execution_count": 30,
   "metadata": {},
   "outputs": [],
   "source": [
    "claim_level_body = column_to_list_text(general_df, 'claim_level_list')"
   ]
  },
  {
   "cell_type": "code",
   "execution_count": 31,
   "metadata": {},
   "outputs": [],
   "source": [
    "exposure_level_body = column_to_list_text(general_df, 'exposure_level_list')"
   ]
  },
  {
   "cell_type": "code",
   "execution_count": 32,
   "metadata": {},
   "outputs": [],
   "source": [
    "accident_description = column_to_list_text(general_df, 'accident_desc_list')"
   ]
  },
  {
   "cell_type": "code",
   "execution_count": 33,
   "metadata": {},
   "outputs": [],
   "source": [
    "injury_description = column_to_list_text(general_df, 'injury_desc_list')"
   ]
  },
  {
   "cell_type": "code",
   "execution_count": 34,
   "metadata": {},
   "outputs": [],
   "source": [
    "damage_description = column_to_list_text(general_df, 'damage_desc_list')"
   ]
  },
  {
   "cell_type": "code",
   "execution_count": 35,
   "metadata": {},
   "outputs": [],
   "source": [
    "# claim_level_tokenized = [[token for token in word_tokenize(doc)] \n",
    "#                            for doc in claim_level_body]\n",
    "# exposure_level_tokenized = [[token for token in word_tokenize(doc)] \n",
    "#                            for doc in exposure_level_body]\n",
    "# accident_desc_tokenized = [[token for token in word_tokenize(doc)] \n",
    "#                            for doc in accident_description]\n",
    "# injury_desc_tokenized = [[token for token in word_tokenize(doc)] \n",
    "#                            for doc in injury_description]\n",
    "# damage_desc_tokenized = [[token for token in word_tokenize(doc) ] \n",
    "#                          for doc in damage_description]\n",
    "\n",
    "# [token for token in word_tokenize(damage_description) if token.isalpha()]"
   ]
  },
  {
   "cell_type": "code",
   "execution_count": 36,
   "metadata": {},
   "outputs": [],
   "source": [
    "from collections import Counter"
   ]
  },
  {
   "cell_type": "code",
   "execution_count": 37,
   "metadata": {
    "scrolled": true
   },
   "outputs": [],
   "source": [
    "# exposure_level_tokenized[4]"
   ]
  },
  {
   "cell_type": "code",
   "execution_count": 38,
   "metadata": {},
   "outputs": [],
   "source": [
    "# word_counts_claim = [dict(Counter(doc)) for doc in claim_level_tokenized]\n",
    "# word_counts_exposure = [dict(Counter(doc)) for doc in exposure_level_tokenized]\n",
    "# word_counts_accident = [dict(Counter(doc)) for doc in accident_desc_tokenized]\n",
    "# word_counts_injury = [dict(Counter(doc)) for doc in injury_desc_tokenized]\n",
    "# word_counts_damage = [dict(Counter(doc)) for doc in damage_desc_tokenized]"
   ]
  },
  {
   "cell_type": "code",
   "execution_count": 39,
   "metadata": {
    "scrolled": true
   },
   "outputs": [],
   "source": [
    "# word_counts_accident[30052]"
   ]
  },
  {
   "cell_type": "code",
   "execution_count": 40,
   "metadata": {},
   "outputs": [],
   "source": [
    "# claim_word_counts = [len(doc) for doc in claim_level_tokenized]\n",
    "# exposure_word_counts = [len(doc) for doc in exposure_level_tokenized]\n",
    "# accident_word_counts = [len(doc) for doc in accident_desc_tokenized]\n",
    "# injury_word_counts = [len(doc) for doc in injury_desc_tokenized]\n",
    "# damage_word_counts = [len(doc) for doc in damage_desc_tokenized]\n"
   ]
  },
  {
   "cell_type": "code",
   "execution_count": 41,
   "metadata": {},
   "outputs": [],
   "source": [
    "# iv_list = [0] * len(word_counts_claim)\n",
    "# liability_list = [0] * len(word_counts_claim)\n",
    "# dcv_list = [0] * len(word_counts_claim)\n",
    "# inj_list = [0] * len(word_counts_claim)\n",
    "# vnop_list = [0] * len(word_counts_claim)\n",
    "# ac_list = [0] * len(word_counts_claim)\n",
    "# cv_list = [0] * len(word_counts_claim)\n",
    "# div_list = [0] * len(word_counts_claim)\n",
    "# insd_list = [0] * len(word_counts_claim)\n",
    "# insured_list = [0] * len(word_counts_claim)\n",
    "# clmt_list = [0] * len(word_counts_claim)"
   ]
  },
  {
   "cell_type": "code",
   "execution_count": 42,
   "metadata": {},
   "outputs": [],
   "source": [
    "# head_list = [0] * len(word_counts_injury)\n",
    "# ambulance_list = [0] * len(word_counts_injury)\n",
    "# concussion_list = [0] * len(word_counts_injury)\n",
    "# whiplash_list = [0] * len(word_counts_injury)"
   ]
  },
  {
   "cell_type": "code",
   "execution_count": 43,
   "metadata": {},
   "outputs": [],
   "source": [
    "# rear_list = [0] * len(word_counts_accident)"
   ]
  },
  {
   "cell_type": "code",
   "execution_count": 44,
   "metadata": {},
   "outputs": [],
   "source": [
    "# deployed_list = [0] * len(word_counts_damage)\n",
    "# towed_list = [0] * len(word_counts_damage)\n",
    "# totaled_list = [0] * len(word_counts_damage)"
   ]
  },
  {
   "cell_type": "code",
   "execution_count": 45,
   "metadata": {},
   "outputs": [],
   "source": [
    "# for ind, count_dict in enumerate(word_counts_accident):\n",
    "#     if 'rear' in count_dict:\n",
    "#         rear_list[ind] = count_dict['rear']"
   ]
  },
  {
   "cell_type": "code",
   "execution_count": 46,
   "metadata": {},
   "outputs": [],
   "source": [
    "# for ind, count_dict in enumerate(word_counts_damage):\n",
    "#     if 'deployed' in count_dict:\n",
    "#         deployed_list[ind] = count_dict['deployed']\n",
    "#     if 'towed' in count_dict:\n",
    "#         towed_list[ind] = count_dict['towed']\n",
    "#     if 'totaled' in count_dict:\n",
    "#         totaled_list[ind] = count_dict['totaled']"
   ]
  },
  {
   "cell_type": "code",
   "execution_count": 47,
   "metadata": {},
   "outputs": [],
   "source": [
    "# for ind, count_dict in enumerate(word_counts_injury):\n",
    "#     if 'head' in count_dict:\n",
    "#         head_list[ind] = count_dict['head']\n",
    "#     if 'ambulance' in count_dict:\n",
    "#         ambulance_list[ind] = count_dict['ambulance']\n",
    "#     if 'concussion' in count_dict:\n",
    "#         concussion_list[ind] = count_dict['concussion']\n",
    "#     if 'whiplash' in count_dict:\n",
    "#         whiplash_list[ind] = count_dict['whiplash']"
   ]
  },
  {
   "cell_type": "code",
   "execution_count": 48,
   "metadata": {},
   "outputs": [],
   "source": [
    "# for ind, count_dict in enumerate(word_counts_claim):\n",
    "#     if 'iv' in count_dict:\n",
    "#         iv_list[ind] = count_dict['iv']\n",
    "#     else:\n",
    "#         iv_list[ind] = 0\n",
    "#     if 'liability' in count_dict:\n",
    "#         liability_list[ind] = count_dict['liability']\n",
    "#     else:\n",
    "#         liability_list[ind] = 0\n",
    "#     if 'dcv' in count_dict:\n",
    "#         dcv_list[ind] = count_dict['dcv']\n",
    "#     else:\n",
    "#         dcv_list[ind] = 0\n",
    "#     if 'inj' in count_dict:\n",
    "#         inj_list[ind] = count_dict['inj']\n",
    "#     else:\n",
    "#         inj_list[ind] = 0\n",
    "#     if 'vnop' in count_dict:\n",
    "#         vnop_list[ind] = count_dict['vnop']\n",
    "#     else:\n",
    "#         vnop_list[ind] = 0\n",
    "#     if 'ac' in count_dict:\n",
    "#         ac_list[ind] = count_dict['ac']\n",
    "#     else:\n",
    "#         ac_list[ind] = 0\n",
    "#     if 'cv' in count_dict:\n",
    "#         cv_list[ind] = count_dict['cv']\n",
    "#     else:\n",
    "#         cv_list[ind] = 0\n",
    "#     if 'div' in count_dict:\n",
    "#         div_list[ind] = count_dict['div']\n",
    "#     else:\n",
    "#         div_list[ind] = 0\n",
    "#     if 'insd' in count_dict:\n",
    "#         insd_list[ind] = count_dict['insd']\n",
    "#     else:\n",
    "#         insd_list[ind] = 0\n",
    "#     if 'insured' in count_dict:\n",
    "#         insured_list[ind] = count_dict['insured']\n",
    "#     else:\n",
    "#         insured_list[ind] = 0"
   ]
  },
  {
   "cell_type": "code",
   "execution_count": 49,
   "metadata": {},
   "outputs": [],
   "source": [
    "# iv_list[:10]"
   ]
  },
  {
   "cell_type": "code",
   "execution_count": 50,
   "metadata": {},
   "outputs": [],
   "source": [
    "# word_counts_claim[2]"
   ]
  },
  {
   "cell_type": "code",
   "execution_count": 51,
   "metadata": {},
   "outputs": [],
   "source": [
    "# word_cols = {'claim_level_word_count': claim_word_counts,\n",
    "#              'exposure_word_count': exposure_word_counts,\n",
    "#              'accident_desc_word_count': accident_word_counts,\n",
    "#     'injury_desc_word_count': injury_word_counts,\n",
    "#              'damage_desc_word_count': damage_word_counts,\n",
    "#     'iv_count': iv_list,\n",
    "#          'liability_count': liability_list,\n",
    "#          'dcv_count': dcv_list,\n",
    "#          'inj_count': inj_list,\n",
    "#              'vnop_count': vnop_list,\n",
    "#             'ac_count': ac_list,\n",
    "#             'cv_count': cv_list,\n",
    "#             'div_count': div_list,\n",
    "#             'insd_count': insd_list,\n",
    "#             'insured_count': insured_list,\n",
    "#             'rear_count': rear_list,\n",
    "#             'deployed_count': deployed_list,\n",
    "#             'towed_count': towed_list,\n",
    "#             'totaled_count': totaled_list,\n",
    "#             'head_count': head_list,\n",
    "#             'ambulance_count': ambulance_list,\n",
    "#             'concussion_count': concussion_list,\n",
    "#             'whiplash_count': whiplash_list}\n",
    "# df_spec_word_count = pd.DataFrame.from_dict(word_cols)"
   ]
  },
  {
   "cell_type": "code",
   "execution_count": 52,
   "metadata": {},
   "outputs": [],
   "source": [
    "# df_spec_word_count.head()"
   ]
  },
  {
   "cell_type": "code",
   "execution_count": 53,
   "metadata": {},
   "outputs": [],
   "source": [
    "# dict_cols = {'word_counts_claim': word_counts_claim,\n",
    "#          'word_counts_exposure': word_counts_exposure,\n",
    "#          'word_counts_accident': word_counts_accident,\n",
    "#          'word_counts_injury': word_counts_injury,\n",
    "#              'word_counts_damage': word_counts_damage}\n",
    "# df_word_count = pd.DataFrame.from_dict(dict_cols)"
   ]
  },
  {
   "cell_type": "code",
   "execution_count": 54,
   "metadata": {},
   "outputs": [],
   "source": [
    "# df_word_count.head()"
   ]
  },
  {
   "cell_type": "code",
   "execution_count": 55,
   "metadata": {},
   "outputs": [],
   "source": [
    "# token_cols = {'claim_level_list': claim_level_tokenized,\n",
    "#          'exposure_level_list': exposure_level_tokenized,\n",
    "#          'accident_desc_list': accident_desc_tokenized,\n",
    "#          'injury_desc_list': injury_desc_tokenized,\n",
    "#              'damage_desc_list': damage_desc_tokenized}\n",
    "# df = pd.DataFrame.from_dict(token_cols)"
   ]
  },
  {
   "cell_type": "code",
   "execution_count": 56,
   "metadata": {},
   "outputs": [],
   "source": [
    "# df.head()"
   ]
  },
  {
   "cell_type": "code",
   "execution_count": 57,
   "metadata": {},
   "outputs": [],
   "source": [
    "# len(df)"
   ]
  },
  {
   "cell_type": "code",
   "execution_count": 58,
   "metadata": {},
   "outputs": [],
   "source": [
    "# df_spec_word_counts = pd.concat([df_with_counts, df_spec_word_count], axis = 1)"
   ]
  },
  {
   "cell_type": "code",
   "execution_count": 59,
   "metadata": {},
   "outputs": [],
   "source": [
    "# df_with_tokens = pd.concat([lowered_df, df], axis = 1)"
   ]
  },
  {
   "cell_type": "code",
   "execution_count": 60,
   "metadata": {},
   "outputs": [],
   "source": [
    "# df_with_counts = pd.concat([general_df, df_spec_word_count], axis = 1)"
   ]
  },
  {
   "cell_type": "code",
   "execution_count": 61,
   "metadata": {},
   "outputs": [
    {
     "data": {
      "text/html": [
       "<div>\n",
       "<style scoped>\n",
       "    .dataframe tbody tr th:only-of-type {\n",
       "        vertical-align: middle;\n",
       "    }\n",
       "\n",
       "    .dataframe tbody tr th {\n",
       "        vertical-align: top;\n",
       "    }\n",
       "\n",
       "    .dataframe thead th {\n",
       "        text-align: right;\n",
       "    }\n",
       "</style>\n",
       "<table border=\"1\" class=\"dataframe\">\n",
       "  <thead>\n",
       "    <tr style=\"text-align: right;\">\n",
       "      <th></th>\n",
       "      <th>ClaimID_RGEN</th>\n",
       "      <th>ExposureID_RGEN</th>\n",
       "      <th>ClaimLevelBody</th>\n",
       "      <th>ExposureLevelBody</th>\n",
       "      <th>AccidentDescription</th>\n",
       "      <th>InjuryDescription</th>\n",
       "      <th>DamageDescription</th>\n",
       "      <th>SeverityTypeName</th>\n",
       "      <th>ClaimGroup</th>\n",
       "      <th>FaultRatingName</th>\n",
       "      <th>...</th>\n",
       "      <th>insd_count</th>\n",
       "      <th>insured_count</th>\n",
       "      <th>rear_count</th>\n",
       "      <th>deployed_count</th>\n",
       "      <th>towed_count</th>\n",
       "      <th>totaled_count</th>\n",
       "      <th>head_count</th>\n",
       "      <th>ambulance_count</th>\n",
       "      <th>concussion_count</th>\n",
       "      <th>whiplash_count</th>\n",
       "    </tr>\n",
       "  </thead>\n",
       "  <tbody>\n",
       "    <tr>\n",
       "      <th>0</th>\n",
       "      <td>10000</td>\n",
       "      <td>131005</td>\n",
       "      <td>reviewed\\r\\ncoverage  sc rated policy and loss...</td>\n",
       "      <td>none none liability accepted by adverse and da...</td>\n",
       "      <td>the insured was test driving a vehicle  the ov...</td>\n",
       "      <td>neckback</td>\n",
       "      <td>front left side damages  towed collision tow i...</td>\n",
       "      <td>Moderate</td>\n",
       "      <td>Tampa Field Ops</td>\n",
       "      <td>Other party at fault</td>\n",
       "      <td>...</td>\n",
       "      <td>0</td>\n",
       "      <td>0</td>\n",
       "      <td>0</td>\n",
       "      <td>0</td>\n",
       "      <td>0</td>\n",
       "      <td>0</td>\n",
       "      <td>0</td>\n",
       "      <td>0</td>\n",
       "      <td>0</td>\n",
       "      <td>0</td>\n",
       "    </tr>\n",
       "    <tr>\n",
       "      <th>1</th>\n",
       "      <td>10001</td>\n",
       "      <td>131006</td>\n",
       "      <td>c  dol  *******\\r\\n      tol *** pm\\r\\n      v...</td>\n",
       "      <td>c  coverage\\r\\ndol *****\\r\\nfnol ***** by ni \\...</td>\n",
       "      <td>the iv was driving down the road when the ov i...</td>\n",
       "      <td>pain</td>\n",
       "      <td>front right headlight front side of bumper  dr...</td>\n",
       "      <td>Minor</td>\n",
       "      <td>Tampa Field Ops</td>\n",
       "      <td>Other party at fault</td>\n",
       "      <td>...</td>\n",
       "      <td>0</td>\n",
       "      <td>2</td>\n",
       "      <td>0</td>\n",
       "      <td>0</td>\n",
       "      <td>0</td>\n",
       "      <td>0</td>\n",
       "      <td>0</td>\n",
       "      <td>0</td>\n",
       "      <td>0</td>\n",
       "      <td>0</td>\n",
       "    </tr>\n",
       "    <tr>\n",
       "      <th>2</th>\n",
       "      <td>10002</td>\n",
       "      <td>131007</td>\n",
       "      <td>insured was in the hospital and lost service ...</td>\n",
       "      <td>none none c  coverage\\r\\ndol *****\\r\\nfnol ***...</td>\n",
       "      <td>insured was stopped at the stop light when cv ...</td>\n",
       "      <td>strain</td>\n",
       "      <td>unknown damages rear bumper trunk  right rear ...</td>\n",
       "      <td>Minor</td>\n",
       "      <td>Tampa Field Ops</td>\n",
       "      <td>Other party at fault</td>\n",
       "      <td>...</td>\n",
       "      <td>4</td>\n",
       "      <td>4</td>\n",
       "      <td>1</td>\n",
       "      <td>0</td>\n",
       "      <td>0</td>\n",
       "      <td>0</td>\n",
       "      <td>0</td>\n",
       "      <td>0</td>\n",
       "      <td>0</td>\n",
       "      <td>0</td>\n",
       "    </tr>\n",
       "    <tr>\n",
       "      <th>3</th>\n",
       "      <td>10003</td>\n",
       "      <td>131008</td>\n",
       "      <td>insured was in the hospital and lost service ...</td>\n",
       "      <td>none none hhcsi dos ****** atd for brant willi...</td>\n",
       "      <td>insured was stopped at the stop light when cv ...</td>\n",
       "      <td>back</td>\n",
       "      <td>unknown damages rear bumper trunk  right rear ...</td>\n",
       "      <td>NaN</td>\n",
       "      <td>Tampa Field Ops</td>\n",
       "      <td>Other party at fault</td>\n",
       "      <td>...</td>\n",
       "      <td>4</td>\n",
       "      <td>4</td>\n",
       "      <td>1</td>\n",
       "      <td>0</td>\n",
       "      <td>0</td>\n",
       "      <td>0</td>\n",
       "      <td>0</td>\n",
       "      <td>0</td>\n",
       "      <td>0</td>\n",
       "      <td>0</td>\n",
       "    </tr>\n",
       "    <tr>\n",
       "      <th>4</th>\n",
       "      <td>10004</td>\n",
       "      <td>131009</td>\n",
       "      <td>adjuster out of office\\r\\nreassigned adjuster ...</td>\n",
       "      <td>new pip loss received  additional action neede...</td>\n",
       "      <td>ov re host veh</td>\n",
       "      <td>neck back</td>\n",
       "      <td>none none none</td>\n",
       "      <td>Minor</td>\n",
       "      <td>Fast Track</td>\n",
       "      <td>Other party at fault</td>\n",
       "      <td>...</td>\n",
       "      <td>0</td>\n",
       "      <td>10</td>\n",
       "      <td>0</td>\n",
       "      <td>0</td>\n",
       "      <td>0</td>\n",
       "      <td>0</td>\n",
       "      <td>0</td>\n",
       "      <td>0</td>\n",
       "      <td>0</td>\n",
       "      <td>0</td>\n",
       "    </tr>\n",
       "  </tbody>\n",
       "</table>\n",
       "<p>5 rows × 47 columns</p>\n",
       "</div>"
      ],
      "text/plain": [
       "   ClaimID_RGEN  ExposureID_RGEN  \\\n",
       "0         10000           131005   \n",
       "1         10001           131006   \n",
       "2         10002           131007   \n",
       "3         10003           131008   \n",
       "4         10004           131009   \n",
       "\n",
       "                                      ClaimLevelBody  \\\n",
       "0  reviewed\\r\\ncoverage  sc rated policy and loss...   \n",
       "1  c  dol  *******\\r\\n      tol *** pm\\r\\n      v...   \n",
       "2   insured was in the hospital and lost service ...   \n",
       "3   insured was in the hospital and lost service ...   \n",
       "4  adjuster out of office\\r\\nreassigned adjuster ...   \n",
       "\n",
       "                                   ExposureLevelBody  \\\n",
       "0  none none liability accepted by adverse and da...   \n",
       "1  c  coverage\\r\\ndol *****\\r\\nfnol ***** by ni \\...   \n",
       "2  none none c  coverage\\r\\ndol *****\\r\\nfnol ***...   \n",
       "3  none none hhcsi dos ****** atd for brant willi...   \n",
       "4  new pip loss received  additional action neede...   \n",
       "\n",
       "                                 AccidentDescription InjuryDescription  \\\n",
       "0  the insured was test driving a vehicle  the ov...          neckback   \n",
       "1  the iv was driving down the road when the ov i...              pain   \n",
       "2  insured was stopped at the stop light when cv ...            strain   \n",
       "3  insured was stopped at the stop light when cv ...              back   \n",
       "4                                     ov re host veh         neck back   \n",
       "\n",
       "                                   DamageDescription SeverityTypeName  \\\n",
       "0  front left side damages  towed collision tow i...         Moderate   \n",
       "1  front right headlight front side of bumper  dr...            Minor   \n",
       "2  unknown damages rear bumper trunk  right rear ...            Minor   \n",
       "3  unknown damages rear bumper trunk  right rear ...              NaN   \n",
       "4                                     none none none            Minor   \n",
       "\n",
       "        ClaimGroup       FaultRatingName  ... insd_count insured_count  \\\n",
       "0  Tampa Field Ops  Other party at fault  ...          0             0   \n",
       "1  Tampa Field Ops  Other party at fault  ...          0             2   \n",
       "2  Tampa Field Ops  Other party at fault  ...          4             4   \n",
       "3  Tampa Field Ops  Other party at fault  ...          4             4   \n",
       "4       Fast Track  Other party at fault  ...          0            10   \n",
       "\n",
       "  rear_count deployed_count towed_count totaled_count head_count  \\\n",
       "0          0              0           0             0          0   \n",
       "1          0              0           0             0          0   \n",
       "2          1              0           0             0          0   \n",
       "3          1              0           0             0          0   \n",
       "4          0              0           0             0          0   \n",
       "\n",
       "  ambulance_count concussion_count whiplash_count  \n",
       "0               0                0              0  \n",
       "1               0                0              0  \n",
       "2               0                0              0  \n",
       "3               0                0              0  \n",
       "4               0                0              0  \n",
       "\n",
       "[5 rows x 47 columns]"
      ]
     },
     "execution_count": 61,
     "metadata": {},
     "output_type": "execute_result"
    }
   ],
   "source": [
    "general_df.head()"
   ]
  },
  {
   "cell_type": "code",
   "execution_count": 62,
   "metadata": {},
   "outputs": [],
   "source": [
    "# len(df_with_tokens)"
   ]
  },
  {
   "cell_type": "code",
   "execution_count": 63,
   "metadata": {},
   "outputs": [],
   "source": [
    "# df_with_counts.to_csv('data/general_with_word_counts.csv', index = False)"
   ]
  },
  {
   "cell_type": "code",
   "execution_count": 64,
   "metadata": {},
   "outputs": [],
   "source": [
    "# lowered_df.FaultRatingName.value_counts()\n"
   ]
  },
  {
   "cell_type": "code",
   "execution_count": 65,
   "metadata": {},
   "outputs": [],
   "source": [
    "# general_tokens_df.iloc[0,22]"
   ]
  },
  {
   "cell_type": "code",
   "execution_count": 66,
   "metadata": {},
   "outputs": [],
   "source": [
    "def join_strings(df, columns):\n",
    "    n_df = df\n",
    "    for col in columns:\n",
    "        def join_col(row):\n",
    "            claim_list = row[col]\n",
    "            return ' '.join(claim_list)\n",
    "        n_df[col] = n_df.apply(join_col, axis = 1)\n",
    "    return n_df"
   ]
  },
  {
   "cell_type": "code",
   "execution_count": 67,
   "metadata": {},
   "outputs": [],
   "source": [
    "# general_full_strings = join_strings(df_with_tokens, ['claim_level_list', 'exposure_level_list',\n",
    "#                                                        'accident_desc_list', 'injury_desc_list',\n",
    "#                                                        'damage_desc_list'])"
   ]
  },
  {
   "cell_type": "code",
   "execution_count": 68,
   "metadata": {},
   "outputs": [],
   "source": [
    "# general_full_strings.head()"
   ]
  },
  {
   "cell_type": "code",
   "execution_count": 69,
   "metadata": {},
   "outputs": [
    {
     "data": {
      "text/plain": [
       "Index(['ClaimID_RGEN', 'ExposureID_RGEN', 'ClaimLevelBody',\n",
       "       'ExposureLevelBody', 'AccidentDescription', 'InjuryDescription',\n",
       "       'DamageDescription', 'SeverityTypeName', 'ClaimGroup',\n",
       "       'FaultRatingName', 'LossCauseName', 'CCCreateTime', 'CloseDate',\n",
       "       'StateName', 'ClaimLevelBody_preprocess',\n",
       "       'ExposureLevelBody_preprocess', 'AccidentDescription_preprocess',\n",
       "       'InjuryDescription_preprocess', 'DamageDescription_preprocess',\n",
       "       'claim_level_list', 'exposure_level_list', 'accident_desc_list',\n",
       "       'injury_desc_list', 'damage_desc_list', 'claim_level_word_count',\n",
       "       'exposure_word_count', 'accident_desc_word_count',\n",
       "       'injury_desc_word_count', 'damage_desc_word_count', 'iv_count',\n",
       "       'liability_count', 'dcv_count', 'inj_count', 'vnop_count', 'ac_count',\n",
       "       'cv_count', 'div_count', 'insd_count', 'insured_count', 'rear_count',\n",
       "       'deployed_count', 'towed_count', 'totaled_count', 'head_count',\n",
       "       'ambulance_count', 'concussion_count', 'whiplash_count'],\n",
       "      dtype='object')"
      ]
     },
     "execution_count": 69,
     "metadata": {},
     "output_type": "execute_result"
    }
   ],
   "source": [
    "general_df.columns"
   ]
  },
  {
   "cell_type": "markdown",
   "metadata": {},
   "source": [
    "## Model using the word counts for certain words"
   ]
  },
  {
   "cell_type": "code",
   "execution_count": 70,
   "metadata": {},
   "outputs": [
    {
     "data": {
      "text/html": [
       "<div>\n",
       "<style scoped>\n",
       "    .dataframe tbody tr th:only-of-type {\n",
       "        vertical-align: middle;\n",
       "    }\n",
       "\n",
       "    .dataframe tbody tr th {\n",
       "        vertical-align: top;\n",
       "    }\n",
       "\n",
       "    .dataframe thead th {\n",
       "        text-align: right;\n",
       "    }\n",
       "</style>\n",
       "<table border=\"1\" class=\"dataframe\">\n",
       "  <thead>\n",
       "    <tr style=\"text-align: right;\">\n",
       "      <th></th>\n",
       "      <th>claim_level_word_count</th>\n",
       "      <th>exposure_word_count</th>\n",
       "      <th>accident_desc_word_count</th>\n",
       "      <th>injury_desc_word_count</th>\n",
       "      <th>damage_desc_word_count</th>\n",
       "      <th>iv_count</th>\n",
       "      <th>liability_count</th>\n",
       "      <th>dcv_count</th>\n",
       "      <th>inj_count</th>\n",
       "      <th>vnop_count</th>\n",
       "      <th>...</th>\n",
       "      <th>insd_count</th>\n",
       "      <th>insured_count</th>\n",
       "      <th>rear_count</th>\n",
       "      <th>deployed_count</th>\n",
       "      <th>towed_count</th>\n",
       "      <th>totaled_count</th>\n",
       "      <th>head_count</th>\n",
       "      <th>ambulance_count</th>\n",
       "      <th>concussion_count</th>\n",
       "      <th>whiplash_count</th>\n",
       "    </tr>\n",
       "  </thead>\n",
       "  <tbody>\n",
       "    <tr>\n",
       "      <th>0</th>\n",
       "      <td>2832</td>\n",
       "      <td>14</td>\n",
       "      <td>10</td>\n",
       "      <td>1</td>\n",
       "      <td>16</td>\n",
       "      <td>38</td>\n",
       "      <td>42</td>\n",
       "      <td>52</td>\n",
       "      <td>14</td>\n",
       "      <td>42</td>\n",
       "      <td>...</td>\n",
       "      <td>0</td>\n",
       "      <td>0</td>\n",
       "      <td>0</td>\n",
       "      <td>0</td>\n",
       "      <td>0</td>\n",
       "      <td>0</td>\n",
       "      <td>0</td>\n",
       "      <td>0</td>\n",
       "      <td>0</td>\n",
       "      <td>0</td>\n",
       "    </tr>\n",
       "    <tr>\n",
       "      <th>1</th>\n",
       "      <td>1170</td>\n",
       "      <td>670</td>\n",
       "      <td>12</td>\n",
       "      <td>1</td>\n",
       "      <td>24</td>\n",
       "      <td>6</td>\n",
       "      <td>8</td>\n",
       "      <td>0</td>\n",
       "      <td>0</td>\n",
       "      <td>0</td>\n",
       "      <td>...</td>\n",
       "      <td>0</td>\n",
       "      <td>2</td>\n",
       "      <td>0</td>\n",
       "      <td>0</td>\n",
       "      <td>0</td>\n",
       "      <td>0</td>\n",
       "      <td>0</td>\n",
       "      <td>0</td>\n",
       "      <td>0</td>\n",
       "      <td>0</td>\n",
       "    </tr>\n",
       "    <tr>\n",
       "      <th>2</th>\n",
       "      <td>1665</td>\n",
       "      <td>422</td>\n",
       "      <td>8</td>\n",
       "      <td>1</td>\n",
       "      <td>8</td>\n",
       "      <td>32</td>\n",
       "      <td>30</td>\n",
       "      <td>0</td>\n",
       "      <td>0</td>\n",
       "      <td>0</td>\n",
       "      <td>...</td>\n",
       "      <td>4</td>\n",
       "      <td>4</td>\n",
       "      <td>1</td>\n",
       "      <td>0</td>\n",
       "      <td>0</td>\n",
       "      <td>0</td>\n",
       "      <td>0</td>\n",
       "      <td>0</td>\n",
       "      <td>0</td>\n",
       "      <td>0</td>\n",
       "    </tr>\n",
       "    <tr>\n",
       "      <th>3</th>\n",
       "      <td>1665</td>\n",
       "      <td>13</td>\n",
       "      <td>8</td>\n",
       "      <td>1</td>\n",
       "      <td>8</td>\n",
       "      <td>32</td>\n",
       "      <td>30</td>\n",
       "      <td>0</td>\n",
       "      <td>0</td>\n",
       "      <td>0</td>\n",
       "      <td>...</td>\n",
       "      <td>4</td>\n",
       "      <td>4</td>\n",
       "      <td>1</td>\n",
       "      <td>0</td>\n",
       "      <td>0</td>\n",
       "      <td>0</td>\n",
       "      <td>0</td>\n",
       "      <td>0</td>\n",
       "      <td>0</td>\n",
       "      <td>0</td>\n",
       "    </tr>\n",
       "    <tr>\n",
       "      <th>4</th>\n",
       "      <td>2447</td>\n",
       "      <td>944</td>\n",
       "      <td>4</td>\n",
       "      <td>2</td>\n",
       "      <td>3</td>\n",
       "      <td>3</td>\n",
       "      <td>14</td>\n",
       "      <td>6</td>\n",
       "      <td>6</td>\n",
       "      <td>3</td>\n",
       "      <td>...</td>\n",
       "      <td>0</td>\n",
       "      <td>10</td>\n",
       "      <td>0</td>\n",
       "      <td>0</td>\n",
       "      <td>0</td>\n",
       "      <td>0</td>\n",
       "      <td>0</td>\n",
       "      <td>0</td>\n",
       "      <td>0</td>\n",
       "      <td>0</td>\n",
       "    </tr>\n",
       "  </tbody>\n",
       "</table>\n",
       "<p>5 rows × 23 columns</p>\n",
       "</div>"
      ],
      "text/plain": [
       "   claim_level_word_count  exposure_word_count  accident_desc_word_count  \\\n",
       "0                    2832                   14                        10   \n",
       "1                    1170                  670                        12   \n",
       "2                    1665                  422                         8   \n",
       "3                    1665                   13                         8   \n",
       "4                    2447                  944                         4   \n",
       "\n",
       "   injury_desc_word_count  damage_desc_word_count  iv_count  liability_count  \\\n",
       "0                       1                      16        38               42   \n",
       "1                       1                      24         6                8   \n",
       "2                       1                       8        32               30   \n",
       "3                       1                       8        32               30   \n",
       "4                       2                       3         3               14   \n",
       "\n",
       "   dcv_count  inj_count  vnop_count  ...  insd_count  insured_count  \\\n",
       "0         52         14          42  ...           0              0   \n",
       "1          0          0           0  ...           0              2   \n",
       "2          0          0           0  ...           4              4   \n",
       "3          0          0           0  ...           4              4   \n",
       "4          6          6           3  ...           0             10   \n",
       "\n",
       "   rear_count  deployed_count  towed_count  totaled_count  head_count  \\\n",
       "0           0               0            0              0           0   \n",
       "1           0               0            0              0           0   \n",
       "2           1               0            0              0           0   \n",
       "3           1               0            0              0           0   \n",
       "4           0               0            0              0           0   \n",
       "\n",
       "   ambulance_count  concussion_count  whiplash_count  \n",
       "0                0                 0               0  \n",
       "1                0                 0               0  \n",
       "2                0                 0               0  \n",
       "3                0                 0               0  \n",
       "4                0                 0               0  \n",
       "\n",
       "[5 rows x 23 columns]"
      ]
     },
     "execution_count": 70,
     "metadata": {},
     "output_type": "execute_result"
    }
   ],
   "source": [
    "general_df.loc[:,'claim_level_word_count':].head()"
   ]
  },
  {
   "cell_type": "code",
   "execution_count": 71,
   "metadata": {},
   "outputs": [],
   "source": [
    "general_with_dummies = pd.concat([general_df.loc[:,'claim_level_word_count':], \n",
    "                                  pd.get_dummies(general_df['FaultRatingName'])], axis=1)"
   ]
  },
  {
   "cell_type": "code",
   "execution_count": 72,
   "metadata": {},
   "outputs": [
    {
     "data": {
      "text/html": [
       "<div>\n",
       "<style scoped>\n",
       "    .dataframe tbody tr th:only-of-type {\n",
       "        vertical-align: middle;\n",
       "    }\n",
       "\n",
       "    .dataframe tbody tr th {\n",
       "        vertical-align: top;\n",
       "    }\n",
       "\n",
       "    .dataframe thead th {\n",
       "        text-align: right;\n",
       "    }\n",
       "</style>\n",
       "<table border=\"1\" class=\"dataframe\">\n",
       "  <thead>\n",
       "    <tr style=\"text-align: right;\">\n",
       "      <th></th>\n",
       "      <th>claim_level_word_count</th>\n",
       "      <th>exposure_word_count</th>\n",
       "      <th>accident_desc_word_count</th>\n",
       "      <th>injury_desc_word_count</th>\n",
       "      <th>damage_desc_word_count</th>\n",
       "      <th>iv_count</th>\n",
       "      <th>liability_count</th>\n",
       "      <th>dcv_count</th>\n",
       "      <th>inj_count</th>\n",
       "      <th>vnop_count</th>\n",
       "      <th>...</th>\n",
       "      <th>towed_count</th>\n",
       "      <th>totaled_count</th>\n",
       "      <th>head_count</th>\n",
       "      <th>ambulance_count</th>\n",
       "      <th>concussion_count</th>\n",
       "      <th>whiplash_count</th>\n",
       "      <th>Comparative Negligence</th>\n",
       "      <th>Insured at fault</th>\n",
       "      <th>No fault</th>\n",
       "      <th>Other party at fault</th>\n",
       "    </tr>\n",
       "  </thead>\n",
       "  <tbody>\n",
       "    <tr>\n",
       "      <th>0</th>\n",
       "      <td>2832</td>\n",
       "      <td>14</td>\n",
       "      <td>10</td>\n",
       "      <td>1</td>\n",
       "      <td>16</td>\n",
       "      <td>38</td>\n",
       "      <td>42</td>\n",
       "      <td>52</td>\n",
       "      <td>14</td>\n",
       "      <td>42</td>\n",
       "      <td>...</td>\n",
       "      <td>0</td>\n",
       "      <td>0</td>\n",
       "      <td>0</td>\n",
       "      <td>0</td>\n",
       "      <td>0</td>\n",
       "      <td>0</td>\n",
       "      <td>0</td>\n",
       "      <td>0</td>\n",
       "      <td>0</td>\n",
       "      <td>1</td>\n",
       "    </tr>\n",
       "    <tr>\n",
       "      <th>1</th>\n",
       "      <td>1170</td>\n",
       "      <td>670</td>\n",
       "      <td>12</td>\n",
       "      <td>1</td>\n",
       "      <td>24</td>\n",
       "      <td>6</td>\n",
       "      <td>8</td>\n",
       "      <td>0</td>\n",
       "      <td>0</td>\n",
       "      <td>0</td>\n",
       "      <td>...</td>\n",
       "      <td>0</td>\n",
       "      <td>0</td>\n",
       "      <td>0</td>\n",
       "      <td>0</td>\n",
       "      <td>0</td>\n",
       "      <td>0</td>\n",
       "      <td>0</td>\n",
       "      <td>0</td>\n",
       "      <td>0</td>\n",
       "      <td>1</td>\n",
       "    </tr>\n",
       "    <tr>\n",
       "      <th>2</th>\n",
       "      <td>1665</td>\n",
       "      <td>422</td>\n",
       "      <td>8</td>\n",
       "      <td>1</td>\n",
       "      <td>8</td>\n",
       "      <td>32</td>\n",
       "      <td>30</td>\n",
       "      <td>0</td>\n",
       "      <td>0</td>\n",
       "      <td>0</td>\n",
       "      <td>...</td>\n",
       "      <td>0</td>\n",
       "      <td>0</td>\n",
       "      <td>0</td>\n",
       "      <td>0</td>\n",
       "      <td>0</td>\n",
       "      <td>0</td>\n",
       "      <td>0</td>\n",
       "      <td>0</td>\n",
       "      <td>0</td>\n",
       "      <td>1</td>\n",
       "    </tr>\n",
       "    <tr>\n",
       "      <th>3</th>\n",
       "      <td>1665</td>\n",
       "      <td>13</td>\n",
       "      <td>8</td>\n",
       "      <td>1</td>\n",
       "      <td>8</td>\n",
       "      <td>32</td>\n",
       "      <td>30</td>\n",
       "      <td>0</td>\n",
       "      <td>0</td>\n",
       "      <td>0</td>\n",
       "      <td>...</td>\n",
       "      <td>0</td>\n",
       "      <td>0</td>\n",
       "      <td>0</td>\n",
       "      <td>0</td>\n",
       "      <td>0</td>\n",
       "      <td>0</td>\n",
       "      <td>0</td>\n",
       "      <td>0</td>\n",
       "      <td>0</td>\n",
       "      <td>1</td>\n",
       "    </tr>\n",
       "    <tr>\n",
       "      <th>4</th>\n",
       "      <td>2447</td>\n",
       "      <td>944</td>\n",
       "      <td>4</td>\n",
       "      <td>2</td>\n",
       "      <td>3</td>\n",
       "      <td>3</td>\n",
       "      <td>14</td>\n",
       "      <td>6</td>\n",
       "      <td>6</td>\n",
       "      <td>3</td>\n",
       "      <td>...</td>\n",
       "      <td>0</td>\n",
       "      <td>0</td>\n",
       "      <td>0</td>\n",
       "      <td>0</td>\n",
       "      <td>0</td>\n",
       "      <td>0</td>\n",
       "      <td>0</td>\n",
       "      <td>0</td>\n",
       "      <td>0</td>\n",
       "      <td>1</td>\n",
       "    </tr>\n",
       "  </tbody>\n",
       "</table>\n",
       "<p>5 rows × 27 columns</p>\n",
       "</div>"
      ],
      "text/plain": [
       "   claim_level_word_count  exposure_word_count  accident_desc_word_count  \\\n",
       "0                    2832                   14                        10   \n",
       "1                    1170                  670                        12   \n",
       "2                    1665                  422                         8   \n",
       "3                    1665                   13                         8   \n",
       "4                    2447                  944                         4   \n",
       "\n",
       "   injury_desc_word_count  damage_desc_word_count  iv_count  liability_count  \\\n",
       "0                       1                      16        38               42   \n",
       "1                       1                      24         6                8   \n",
       "2                       1                       8        32               30   \n",
       "3                       1                       8        32               30   \n",
       "4                       2                       3         3               14   \n",
       "\n",
       "   dcv_count  inj_count  vnop_count  ...  towed_count  totaled_count  \\\n",
       "0         52         14          42  ...            0              0   \n",
       "1          0          0           0  ...            0              0   \n",
       "2          0          0           0  ...            0              0   \n",
       "3          0          0           0  ...            0              0   \n",
       "4          6          6           3  ...            0              0   \n",
       "\n",
       "   head_count  ambulance_count  concussion_count  whiplash_count  \\\n",
       "0           0                0                 0               0   \n",
       "1           0                0                 0               0   \n",
       "2           0                0                 0               0   \n",
       "3           0                0                 0               0   \n",
       "4           0                0                 0               0   \n",
       "\n",
       "   Comparative Negligence  Insured at fault  No fault  Other party at fault  \n",
       "0                       0                 0         0                     1  \n",
       "1                       0                 0         0                     1  \n",
       "2                       0                 0         0                     1  \n",
       "3                       0                 0         0                     1  \n",
       "4                       0                 0         0                     1  \n",
       "\n",
       "[5 rows x 27 columns]"
      ]
     },
     "execution_count": 72,
     "metadata": {},
     "output_type": "execute_result"
    }
   ],
   "source": [
    "general_with_dummies.head()"
   ]
  },
  {
   "cell_type": "code",
   "execution_count": 73,
   "metadata": {},
   "outputs": [
    {
     "data": {
      "text/plain": [
       "Insured at fault          74304\n",
       "Other party at fault      29394\n",
       "Comparative Negligence     8178\n",
       "No fault                   7395\n",
       "Name: FaultRatingName, dtype: int64"
      ]
     },
     "execution_count": 73,
     "metadata": {},
     "output_type": "execute_result"
    }
   ],
   "source": [
    "general_df.FaultRatingName.value_counts()"
   ]
  },
  {
   "cell_type": "code",
   "execution_count": 76,
   "metadata": {},
   "outputs": [
    {
     "name": "stdout",
     "output_type": "stream",
     "text": [
      "The percentage of \"Insured at fault\" is : 62%\n",
      "The percentage of \"Other party at fault\" is : 25%\n",
      "The percentage of \"Comparative Negligence\" is : 7%\n",
      "The percentage of \"No fault\" is : 6%\n"
     ]
    }
   ],
   "source": [
    "print('The percentage of \"Insured at fault\" is : ' + str(round(74304/len(general_df)*100)) + '%')\n",
    "print('The percentage of \"Other party at fault\" is : ' + str(round(29394/len(general_df)*100)) + '%')\n",
    "print('The percentage of \"Comparative Negligence\" is : ' + str(round(8178/len(general_df)*100)) + '%')\n",
    "print('The percentage of \"No fault\" is : ' + str(round(7395/len(general_df)*100)) + '%')"
   ]
  },
  {
   "cell_type": "code",
   "execution_count": 77,
   "metadata": {},
   "outputs": [
    {
     "data": {
      "text/plain": [
       "1    74304\n",
       "0    44968\n",
       "Name: Insured at fault, dtype: int64"
      ]
     },
     "execution_count": 77,
     "metadata": {},
     "output_type": "execute_result"
    }
   ],
   "source": [
    "general_with_dummies['Insured at fault'].value_counts()"
   ]
  },
  {
   "cell_type": "code",
   "execution_count": 78,
   "metadata": {},
   "outputs": [
    {
     "data": {
      "text/plain": [
       "0    89878\n",
       "1    29394\n",
       "Name: Other party at fault, dtype: int64"
      ]
     },
     "execution_count": 78,
     "metadata": {},
     "output_type": "execute_result"
    }
   ],
   "source": [
    "general_with_dummies['Other party at fault'].value_counts()"
   ]
  },
  {
   "cell_type": "code",
   "execution_count": 79,
   "metadata": {},
   "outputs": [],
   "source": [
    "import numpy as np\n",
    "from sklearn.model_selection import train_test_split\n",
    "from sklearn.pipeline import Pipeline\n",
    "from sklearn.model_selection import GridSearchCV\n",
    "from sklearn.feature_extraction.text import TfidfTransformer\n",
    "from sklearn.feature_extraction.text import CountVectorizer\n",
    "from sklearn.naive_bayes import MultinomialNB\n",
    "from sklearn.decomposition import PCA\n",
    "from sklearn.linear_model import SGDClassifier\n",
    "from sklearn.model_selection import ParameterGrid\n",
    "from sklearn.linear_model import LogisticRegression\n",
    "from sklearn.metrics import roc_auc_score\n",
    "from sklearn.metrics import confusion_matrix\n",
    "from sklearn.metrics import accuracy_score"
   ]
  },
  {
   "cell_type": "code",
   "execution_count": 80,
   "metadata": {},
   "outputs": [],
   "source": [
    "import parfit.parfit as pf"
   ]
  },
  {
   "cell_type": "code",
   "execution_count": null,
   "metadata": {},
   "outputs": [],
   "source": []
  },
  {
   "cell_type": "code",
   "execution_count": 81,
   "metadata": {},
   "outputs": [],
   "source": [
    "logistic = SGDClassifier(loss='log', penalty='l2', early_stopping=True,\n",
    "                         max_iter=10000, tol=1e-5, random_state=0)\n",
    "pca = PCA()\n",
    "pipe = Pipeline(steps=[('pca', pca), ('logistic', logistic)])"
   ]
  },
  {
   "cell_type": "code",
   "execution_count": 82,
   "metadata": {},
   "outputs": [],
   "source": [
    "X = general_with_dummies.loc[:,'claim_level_word_count':'whiplash_count']\n",
    "y = general_with_dummies['Other party at fault']"
   ]
  },
  {
   "cell_type": "code",
   "execution_count": 83,
   "metadata": {},
   "outputs": [],
   "source": [
    "X_train, X_test, y_train, y_test = train_test_split(X, y, \n",
    "                                                    test_size=0.25, random_state=42)"
   ]
  },
  {
   "cell_type": "code",
   "execution_count": 84,
   "metadata": {},
   "outputs": [],
   "source": [
    "param_grid = {\n",
    "    'pca__n_components': [2, 5, 10, 15, 20, 23],\n",
    "    'logistic__alpha': np.logspace(-4, 4, 5),\n",
    "}\n",
    "search = GridSearchCV(pipe, param_grid, iid=False, cv=5,\n",
    "                      return_train_score=False)"
   ]
  },
  {
   "cell_type": "code",
   "execution_count": 85,
   "metadata": {},
   "outputs": [
    {
     "name": "stdout",
     "output_type": "stream",
     "text": [
      "Best parameter (CV score=0.697):\n",
      "{'logistic__alpha': 0.01, 'pca__n_components': 2}\n"
     ]
    }
   ],
   "source": [
    "search.fit(X_train, y_train)\n",
    "print(\"Best parameter (CV score=%0.3f):\" % search.best_score_)\n",
    "print(search.best_params_)\n"
   ]
  },
  {
   "cell_type": "code",
   "execution_count": 86,
   "metadata": {},
   "outputs": [],
   "source": [
    "grid = {\n",
    "    'alpha': [1e-4, 1e-3, 1e-2, 1e-1, 1e0, 1e1, 1e2, 1e3], # learning rate\n",
    "    'n_iter': [1000], # number of epochs\n",
    "    'loss': ['log'], # logistic regression,\n",
    "    'penalty': ['l2'],\n",
    "    'n_jobs': [-1]\n",
    "}\n",
    "paramGrid = ParameterGrid(grid)"
   ]
  },
  {
   "cell_type": "code",
   "execution_count": 87,
   "metadata": {},
   "outputs": [
    {
     "name": "stdout",
     "output_type": "stream",
     "text": [
      "-------------FITTING MODELS-------------\n"
     ]
    },
    {
     "name": "stderr",
     "output_type": "stream",
     "text": [
      "[Parallel(n_jobs=-1)]: Using backend LokyBackend with 4 concurrent workers.\n",
      "[Parallel(n_jobs=-1)]: Done   2 out of   8 | elapsed:   27.8s remaining:  1.4min\n",
      "[Parallel(n_jobs=-1)]: Done   3 out of   8 | elapsed:   29.2s remaining:   48.7s\n",
      "[Parallel(n_jobs=-1)]: Done   4 out of   8 | elapsed:   29.5s remaining:   29.5s\n",
      "[Parallel(n_jobs=-1)]: Done   5 out of   8 | elapsed:  1.0min remaining:   36.6s\n",
      "[Parallel(n_jobs=-1)]: Done   6 out of   8 | elapsed:  1.0min remaining:   20.8s\n",
      "[Parallel(n_jobs=-1)]: Done   8 out of   8 | elapsed:  1.1min remaining:    0.0s\n",
      "[Parallel(n_jobs=-1)]: Done   8 out of   8 | elapsed:  1.1min finished\n",
      "[Parallel(n_jobs=-1)]: Using backend LokyBackend with 4 concurrent workers.\n",
      "[Parallel(n_jobs=-1)]: Done   8 out of   8 | elapsed:    0.2s finished\n"
     ]
    },
    {
     "name": "stdout",
     "output_type": "stream",
     "text": [
      "-------------SCORING MODELS-------------\n"
     ]
    },
    {
     "data": {
      "image/png": "[encoded data removed]",
      "text/plain": [
       "<Figure size 432x432 with 1 Axes>"
      ]
     },
     "metadata": {
      "needs_background": "light"
     },
     "output_type": "display_data"
    },
    {
     "name": "stdout",
     "output_type": "stream",
     "text": [
      "SGDClassifier(alpha=1.0, average=False, class_weight=None,\n",
      "       early_stopping=False, epsilon=0.1, eta0=0.0, fit_intercept=True,\n",
      "       l1_ratio=0.15, learning_rate='optimal', loss='log', max_iter=None,\n",
      "       n_iter=1000, n_iter_no_change=5, n_jobs=-1, penalty='l2',\n",
      "       power_t=0.5, random_state=None, shuffle=True, tol=None,\n",
      "       validation_fraction=0.1, verbose=0, warm_start=False) 0.7115124258832837\n"
     ]
    }
   ],
   "source": [
    "bestModel, bestScore, allModels, allScores = pf.bestFit(SGDClassifier, paramGrid,\n",
    "           X_train, y_train, X_test, y_test, \n",
    "           metric = roc_auc_score, greater_is_better=True,\n",
    "           scoreLabel = \"AUC\")\n",
    "print(bestModel, bestScore)"
   ]
  },
  {
   "cell_type": "code",
   "execution_count": 88,
   "metadata": {},
   "outputs": [],
   "source": [
    "model = SGDClassifier(alpha=1.0, average=False, class_weight=None,\n",
    "       early_stopping=False, epsilon=0.1, eta0=0.0, fit_intercept=True,\n",
    "       l1_ratio=0.15, learning_rate='optimal', loss='log', max_iter=None,\n",
    "       n_iter=1000, n_iter_no_change=5, n_jobs=-1, penalty='l2',\n",
    "       power_t=0.5, random_state=None, shuffle=True, tol=None,\n",
    "       validation_fraction=0.1, verbose=0, warm_start=False)"
   ]
  },
  {
   "cell_type": "code",
   "execution_count": 89,
   "metadata": {},
   "outputs": [
    {
     "data": {
      "text/plain": [
       "SGDClassifier(alpha=1.0, average=False, class_weight=None,\n",
       "       early_stopping=False, epsilon=0.1, eta0=0.0, fit_intercept=True,\n",
       "       l1_ratio=0.15, learning_rate='optimal', loss='log', max_iter=None,\n",
       "       n_iter=1000, n_iter_no_change=5, n_jobs=-1, penalty='l2',\n",
       "       power_t=0.5, random_state=None, shuffle=True, tol=None,\n",
       "       validation_fraction=0.1, verbose=0, warm_start=False)"
      ]
     },
     "execution_count": 89,
     "metadata": {},
     "output_type": "execute_result"
    }
   ],
   "source": [
    "model.fit(X_train, y_train)"
   ]
  },
  {
   "cell_type": "code",
   "execution_count": 90,
   "metadata": {},
   "outputs": [],
   "source": [
    "predicted_SGD = model.predict(X_test)"
   ]
  },
  {
   "cell_type": "code",
   "execution_count": 91,
   "metadata": {},
   "outputs": [
    {
     "data": {
      "text/plain": [
       "0.7544436246562479"
      ]
     },
     "execution_count": 91,
     "metadata": {},
     "output_type": "execute_result"
    }
   ],
   "source": [
    "np.mean(predicted_SGD == y_test)"
   ]
  },
  {
   "cell_type": "code",
   "execution_count": 92,
   "metadata": {},
   "outputs": [
    {
     "data": {
      "text/plain": [
       "0.7544436246562479"
      ]
     },
     "execution_count": 92,
     "metadata": {},
     "output_type": "execute_result"
    }
   ],
   "source": [
    "model.score(X_test, y_test)"
   ]
  },
  {
   "cell_type": "code",
   "execution_count": 93,
   "metadata": {},
   "outputs": [
    {
     "data": {
      "text/plain": [
       "array([[22074,   374],\n",
       "       [ 6948,   422]])"
      ]
     },
     "execution_count": 93,
     "metadata": {},
     "output_type": "execute_result"
    }
   ],
   "source": [
    "confusion_matrix(y_test, predicted_SGD, labels=None, sample_weight=None)"
   ]
  },
  {
   "cell_type": "markdown",
   "metadata": {},
   "source": [
    "## Random Forest"
   ]
  },
  {
   "cell_type": "code",
   "execution_count": 94,
   "metadata": {},
   "outputs": [],
   "source": [
    "from sklearn.ensemble import RandomForestClassifier\n",
    "from sklearn.metrics import classification_report"
   ]
  },
  {
   "cell_type": "code",
   "execution_count": 95,
   "metadata": {},
   "outputs": [],
   "source": [
    "clf=RandomForestClassifier(n_estimators=100)"
   ]
  },
  {
   "cell_type": "code",
   "execution_count": 96,
   "metadata": {},
   "outputs": [],
   "source": [
    "clf.fit(X_train,y_train)\n",
    "\n",
    "y_pred=clf.predict(X_test)"
   ]
  },
  {
   "cell_type": "code",
   "execution_count": 97,
   "metadata": {},
   "outputs": [
    {
     "name": "stdout",
     "output_type": "stream",
     "text": [
      "Accuracy: 0.881816352538735\n"
     ]
    }
   ],
   "source": [
    "print(\"Accuracy:\",accuracy_score(y_test, y_pred))"
   ]
  },
  {
   "cell_type": "code",
   "execution_count": 98,
   "metadata": {},
   "outputs": [
    {
     "data": {
      "text/plain": [
       "array([[21959,   489],\n",
       "       [ 3035,  4335]])"
      ]
     },
     "execution_count": 98,
     "metadata": {},
     "output_type": "execute_result"
    }
   ],
   "source": [
    "confusion_matrix(y_test, y_pred, labels=None, sample_weight=None)"
   ]
  },
  {
   "cell_type": "code",
   "execution_count": 99,
   "metadata": {},
   "outputs": [
    {
     "data": {
      "text/html": [
       "<div>\n",
       "<style scoped>\n",
       "    .dataframe tbody tr th:only-of-type {\n",
       "        vertical-align: middle;\n",
       "    }\n",
       "\n",
       "    .dataframe tbody tr th {\n",
       "        vertical-align: top;\n",
       "    }\n",
       "\n",
       "    .dataframe thead th {\n",
       "        text-align: right;\n",
       "    }\n",
       "</style>\n",
       "<table border=\"1\" class=\"dataframe\">\n",
       "  <thead>\n",
       "    <tr style=\"text-align: right;\">\n",
       "      <th>Predicted</th>\n",
       "      <th>0</th>\n",
       "      <th>1</th>\n",
       "      <th>All</th>\n",
       "    </tr>\n",
       "    <tr>\n",
       "      <th>True</th>\n",
       "      <th></th>\n",
       "      <th></th>\n",
       "      <th></th>\n",
       "    </tr>\n",
       "  </thead>\n",
       "  <tbody>\n",
       "    <tr>\n",
       "      <th>0</th>\n",
       "      <td>21959</td>\n",
       "      <td>489</td>\n",
       "      <td>22448</td>\n",
       "    </tr>\n",
       "    <tr>\n",
       "      <th>1</th>\n",
       "      <td>3035</td>\n",
       "      <td>4335</td>\n",
       "      <td>7370</td>\n",
       "    </tr>\n",
       "    <tr>\n",
       "      <th>All</th>\n",
       "      <td>24994</td>\n",
       "      <td>4824</td>\n",
       "      <td>29818</td>\n",
       "    </tr>\n",
       "  </tbody>\n",
       "</table>\n",
       "</div>"
      ],
      "text/plain": [
       "Predicted      0     1    All\n",
       "True                         \n",
       "0          21959   489  22448\n",
       "1           3035  4335   7370\n",
       "All        24994  4824  29818"
      ]
     },
     "execution_count": 99,
     "metadata": {},
     "output_type": "execute_result"
    }
   ],
   "source": [
    "pd.crosstab(y_test, y_pred, rownames=['True'], colnames=['Predicted'], margins=True)"
   ]
  },
  {
   "cell_type": "code",
   "execution_count": 100,
   "metadata": {},
   "outputs": [
    {
     "name": "stdout",
     "output_type": "stream",
     "text": [
      "              precision    recall  f1-score   support\n",
      "\n",
      "           0       0.88      0.98      0.93     22448\n",
      "           1       0.90      0.59      0.71      7370\n",
      "\n",
      "   micro avg       0.88      0.88      0.88     29818\n",
      "   macro avg       0.89      0.78      0.82     29818\n",
      "weighted avg       0.88      0.88      0.87     29818\n",
      "\n"
     ]
    }
   ],
   "source": [
    "target_names = ['class 0', 'class 1']\n",
    "print(classification_report(y_test, y_pred))"
   ]
  },
  {
   "cell_type": "code",
   "execution_count": 101,
   "metadata": {},
   "outputs": [
    {
     "name": "stdout",
     "output_type": "stream",
     "text": [
      "{'bootstrap': True, 'class_weight': None, 'criterion': 'gini', 'max_depth': None, 'max_features': 'auto', 'max_leaf_nodes': None, 'min_impurity_decrease': 0.0, 'min_impurity_split': None, 'min_samples_leaf': 1, 'min_samples_split': 2, 'min_weight_fraction_leaf': 0.0, 'n_estimators': 100, 'n_jobs': None, 'oob_score': False, 'random_state': None, 'verbose': 0, 'warm_start': False}\n"
     ]
    }
   ],
   "source": [
    "print(clf.get_params())"
   ]
  },
  {
   "cell_type": "code",
   "execution_count": 102,
   "metadata": {},
   "outputs": [],
   "source": [
    "from sklearn.model_selection import RandomizedSearchCV\n",
    "# Number of trees in random forest\n",
    "n_estimators = [int(x) for x in np.linspace(start = 50, stop = 800, num = 20)]\n",
    "# Number of features to consider at every split\n",
    "max_features = ['auto', 'sqrt']\n",
    "# Maximum number of levels in tree\n",
    "max_depth = [int(x) for x in np.linspace(3, 20, num = 4)]\n",
    "max_depth.append(None)\n",
    "# Minimum number of samples required to split a node\n",
    "min_samples_split = [2, 5, 10]\n",
    "# Minimum number of samples required at each leaf node\n",
    "min_samples_leaf = [1, 2, 4]\n",
    "# Method of selecting samples for training each tree\n",
    "bootstrap = [True, False]\n",
    "# Create the random grid\n",
    "random_grid = {'n_estimators': n_estimators,\n",
    "               'max_features': max_features,\n",
    "               'max_depth': max_depth,\n",
    "               'min_samples_split': min_samples_split,\n",
    "               'min_samples_leaf': min_samples_leaf,\n",
    "               'bootstrap': bootstrap}"
   ]
  },
  {
   "cell_type": "code",
   "execution_count": 103,
   "metadata": {},
   "outputs": [],
   "source": [
    "from sklearn.ensemble import RandomForestRegressor"
   ]
  },
  {
   "cell_type": "code",
   "execution_count": 104,
   "metadata": {},
   "outputs": [],
   "source": [
    "# # First create the base model to tune\n",
    "# rf = RandomForestRegressor()\n",
    "# # Random search of parameters, using 3 fold cross validation, \n",
    "# # search across 100 different combinations, and use all available cores\n",
    "# rf_random = RandomizedSearchCV(estimator = rf, param_distributions = random_grid, \n",
    "#                                n_iter = 30, cv = 3, verbose=2, random_state=42, n_jobs = -1)\n",
    "# # Fit the random search model\n",
    "# rf_random.fit(X_train, y_train)"
   ]
  },
  {
   "cell_type": "code",
   "execution_count": 105,
   "metadata": {},
   "outputs": [],
   "source": [
    "# rf_random.best_params_"
   ]
  },
  {
   "cell_type": "markdown",
   "metadata": {},
   "source": [
    "## Best parameters from random grid search\n",
    "\n",
    "{'n_estimators': 207,\n",
    " 'min_samples_split': 5,\n",
    " 'min_samples_leaf': 1,\n",
    " 'max_features': 'sqrt',\n",
    " 'max_depth': None,\n",
    " 'bootstrap': False}"
   ]
  },
  {
   "cell_type": "code",
   "execution_count": 106,
   "metadata": {},
   "outputs": [],
   "source": [
    "clf_best=RandomForestClassifier(n_estimators = 207,\n",
    " min_samples_split = 5,\n",
    " min_samples_leaf = 1,\n",
    " max_features = 'sqrt',\n",
    " max_depth = None,\n",
    " bootstrap = False)\n",
    "\n",
    "clf_best.fit(X_train,y_train)\n",
    "\n",
    "y_pred_best=clf_best.predict(X_test)"
   ]
  },
  {
   "cell_type": "code",
   "execution_count": 107,
   "metadata": {},
   "outputs": [
    {
     "name": "stdout",
     "output_type": "stream",
     "text": [
      "Accuracy: 0.8878529747132604\n"
     ]
    }
   ],
   "source": [
    "print(\"Accuracy:\",accuracy_score(y_test, y_pred_best))"
   ]
  },
  {
   "cell_type": "code",
   "execution_count": 108,
   "metadata": {},
   "outputs": [
    {
     "data": {
      "text/plain": [
       "array([[21919,   529],\n",
       "       [ 2815,  4555]])"
      ]
     },
     "execution_count": 108,
     "metadata": {},
     "output_type": "execute_result"
    }
   ],
   "source": [
    "confusion_matrix(y_test, y_pred_best, labels=None, sample_weight=None)"
   ]
  },
  {
   "cell_type": "markdown",
   "metadata": {},
   "source": [
    "Improved from 88.1% to 88.95% accuracy"
   ]
  },
  {
   "cell_type": "code",
   "execution_count": 109,
   "metadata": {},
   "outputs": [
    {
     "name": "stdout",
     "output_type": "stream",
     "text": [
      "              precision    recall  f1-score   support\n",
      "\n",
      "           0       0.89      0.98      0.93     22448\n",
      "           1       0.90      0.62      0.73      7370\n",
      "\n",
      "   micro avg       0.89      0.89      0.89     29818\n",
      "   macro avg       0.89      0.80      0.83     29818\n",
      "weighted avg       0.89      0.89      0.88     29818\n",
      "\n"
     ]
    }
   ],
   "source": [
    "target_names = ['class 0', 'class 1']\n",
    "print(classification_report(y_test, y_pred_best))"
   ]
  },
  {
   "cell_type": "code",
   "execution_count": 110,
   "metadata": {},
   "outputs": [
    {
     "data": {
      "text/html": [
       "<div>\n",
       "<style scoped>\n",
       "    .dataframe tbody tr th:only-of-type {\n",
       "        vertical-align: middle;\n",
       "    }\n",
       "\n",
       "    .dataframe tbody tr th {\n",
       "        vertical-align: top;\n",
       "    }\n",
       "\n",
       "    .dataframe thead th {\n",
       "        text-align: right;\n",
       "    }\n",
       "</style>\n",
       "<table border=\"1\" class=\"dataframe\">\n",
       "  <thead>\n",
       "    <tr style=\"text-align: right;\">\n",
       "      <th>Predicted</th>\n",
       "      <th>0</th>\n",
       "      <th>1</th>\n",
       "      <th>All</th>\n",
       "    </tr>\n",
       "    <tr>\n",
       "      <th>True</th>\n",
       "      <th></th>\n",
       "      <th></th>\n",
       "      <th></th>\n",
       "    </tr>\n",
       "  </thead>\n",
       "  <tbody>\n",
       "    <tr>\n",
       "      <th>0</th>\n",
       "      <td>21919</td>\n",
       "      <td>529</td>\n",
       "      <td>22448</td>\n",
       "    </tr>\n",
       "    <tr>\n",
       "      <th>1</th>\n",
       "      <td>2815</td>\n",
       "      <td>4555</td>\n",
       "      <td>7370</td>\n",
       "    </tr>\n",
       "    <tr>\n",
       "      <th>All</th>\n",
       "      <td>24734</td>\n",
       "      <td>5084</td>\n",
       "      <td>29818</td>\n",
       "    </tr>\n",
       "  </tbody>\n",
       "</table>\n",
       "</div>"
      ],
      "text/plain": [
       "Predicted      0     1    All\n",
       "True                         \n",
       "0          21919   529  22448\n",
       "1           2815  4555   7370\n",
       "All        24734  5084  29818"
      ]
     },
     "execution_count": 110,
     "metadata": {},
     "output_type": "execute_result"
    }
   ],
   "source": [
    "pd.crosstab(y_test, y_pred_best, rownames=['True'], colnames=['Predicted'], margins=True)"
   ]
  },
  {
   "cell_type": "code",
   "execution_count": 111,
   "metadata": {},
   "outputs": [],
   "source": [
    "feature_importances = pd.DataFrame(clf_best.feature_importances_,\n",
    "                                  index = X_train.columns,\n",
    "                                  columns = ['importance']).sort_values('importance', ascending = False)"
   ]
  },
  {
   "cell_type": "code",
   "execution_count": 112,
   "metadata": {},
   "outputs": [
    {
     "data": {
      "text/plain": [
       "array(['cv_count', 'claim_level_word_count', 'iv_count', 'inj_count',\n",
       "       'damage_desc_word_count', 'exposure_word_count', 'insured_count',\n",
       "       'liability_count', 'accident_desc_word_count', 'insd_count',\n",
       "       'injury_desc_word_count', 'ac_count', 'rear_count', 'vnop_count',\n",
       "       'div_count', 'dcv_count', 'head_count', 'whiplash_count',\n",
       "       'concussion_count', 'ambulance_count', 'deployed_count',\n",
       "       'towed_count', 'totaled_count'], dtype=object)"
      ]
     },
     "execution_count": 112,
     "metadata": {},
     "output_type": "execute_result"
    }
   ],
   "source": [
    "feature_importances.index.values"
   ]
  },
  {
   "cell_type": "code",
   "execution_count": 132,
   "metadata": {},
   "outputs": [
    {
     "data": {
      "image/png": "[encoded data removed]",
      "text/plain": [
       "<Figure size 864x576 with 1 Axes>"
      ]
     },
     "metadata": {
      "needs_background": "light"
     },
     "output_type": "display_data"
    }
   ],
   "source": [
    "plt.barh(feature_importances.sort_values(by = 'importance').index.values, feature_importances\\\n",
    "         .sort_values(by = 'importance').importance.values)\n",
    "plt.xlabel('Feature Importance')\n",
    "plt.ylabel('Feature')\n",
    "plt.title('Feature Importances for Predicting Other Party at Fault');"
   ]
  },
  {
   "cell_type": "markdown",
   "metadata": {},
   "source": [
    "- **cv_count**: Number of times `cv` is used in Claim Level Body\n",
    "- **claim_level_word_count**: Number of words in Claim Level Body\n",
    "- **iv_count**: Number of times `iv` is used in Claim Level Body\n",
    "- **inj_count**: Number of times `inj` is used in Claim Level Body\n",
    "- **damage_desc_word_count**: Number of words in Damage Description\n",
    "- **exposure_word_count**: Number of words in Exposure Level Body\n",
    "- **insured_count**: Number of times `insured` is used in Claim Level Body\n",
    "- **liability_count**: Number of times `liability` is used in Claim Level Body\n",
    "- **accident_desc_word_count**: Number of words used in Accident Description\n",
    "- **insd_count**: Number of times `insd` is used in Claim Level Body\n",
    "- **injury_desc_word_count**: Number of words in Injury Description\n",
    "- **ac_count**: Number of times `ac` is used in Claim Level Body\n",
    "- **rear_count**: Number of times `rear` is used in Accident Description\n",
    "- **vnop_count**: Number of times `vnop` is used in Claim Level Body\n",
    "- **div_count**: Number of times `div` is used in Claim Level Body\n",
    "- **head_count**: Number of times `head` is used in Injury Description\n",
    "- **dcv_count**: Number of times `dcv` is used in Claim Level Body\n",
    "- **whiplash_count**: Number of times `whiplash` is used in Injury Description\n",
    "- **concussion_count**: Number of times `concussion` is used in Injury Description\n",
    "- **ambulance_count**: Number of times `ambulance` is used in Injury Description"
   ]
  },
  {
   "cell_type": "code",
   "execution_count": 114,
   "metadata": {},
   "outputs": [
    {
     "data": {
      "text/html": [
       "<div>\n",
       "<style scoped>\n",
       "    .dataframe tbody tr th:only-of-type {\n",
       "        vertical-align: middle;\n",
       "    }\n",
       "\n",
       "    .dataframe tbody tr th {\n",
       "        vertical-align: top;\n",
       "    }\n",
       "\n",
       "    .dataframe thead th {\n",
       "        text-align: right;\n",
       "    }\n",
       "</style>\n",
       "<table border=\"1\" class=\"dataframe\">\n",
       "  <thead>\n",
       "    <tr style=\"text-align: right;\">\n",
       "      <th></th>\n",
       "      <th>importance</th>\n",
       "    </tr>\n",
       "  </thead>\n",
       "  <tbody>\n",
       "    <tr>\n",
       "      <th>cv_count</th>\n",
       "      <td>0.132995</td>\n",
       "    </tr>\n",
       "    <tr>\n",
       "      <th>claim_level_word_count</th>\n",
       "      <td>0.122199</td>\n",
       "    </tr>\n",
       "    <tr>\n",
       "      <th>iv_count</th>\n",
       "      <td>0.091867</td>\n",
       "    </tr>\n",
       "    <tr>\n",
       "      <th>inj_count</th>\n",
       "      <td>0.088044</td>\n",
       "    </tr>\n",
       "    <tr>\n",
       "      <th>damage_desc_word_count</th>\n",
       "      <td>0.086036</td>\n",
       "    </tr>\n",
       "    <tr>\n",
       "      <th>exposure_word_count</th>\n",
       "      <td>0.072315</td>\n",
       "    </tr>\n",
       "    <tr>\n",
       "      <th>insured_count</th>\n",
       "      <td>0.071044</td>\n",
       "    </tr>\n",
       "    <tr>\n",
       "      <th>liability_count</th>\n",
       "      <td>0.070282</td>\n",
       "    </tr>\n",
       "    <tr>\n",
       "      <th>accident_desc_word_count</th>\n",
       "      <td>0.068260</td>\n",
       "    </tr>\n",
       "    <tr>\n",
       "      <th>insd_count</th>\n",
       "      <td>0.059447</td>\n",
       "    </tr>\n",
       "    <tr>\n",
       "      <th>injury_desc_word_count</th>\n",
       "      <td>0.041349</td>\n",
       "    </tr>\n",
       "    <tr>\n",
       "      <th>ac_count</th>\n",
       "      <td>0.022982</td>\n",
       "    </tr>\n",
       "    <tr>\n",
       "      <th>rear_count</th>\n",
       "      <td>0.020988</td>\n",
       "    </tr>\n",
       "    <tr>\n",
       "      <th>vnop_count</th>\n",
       "      <td>0.018497</td>\n",
       "    </tr>\n",
       "    <tr>\n",
       "      <th>div_count</th>\n",
       "      <td>0.010874</td>\n",
       "    </tr>\n",
       "    <tr>\n",
       "      <th>dcv_count</th>\n",
       "      <td>0.007239</td>\n",
       "    </tr>\n",
       "    <tr>\n",
       "      <th>head_count</th>\n",
       "      <td>0.007201</td>\n",
       "    </tr>\n",
       "    <tr>\n",
       "      <th>whiplash_count</th>\n",
       "      <td>0.003626</td>\n",
       "    </tr>\n",
       "    <tr>\n",
       "      <th>concussion_count</th>\n",
       "      <td>0.003059</td>\n",
       "    </tr>\n",
       "    <tr>\n",
       "      <th>ambulance_count</th>\n",
       "      <td>0.001696</td>\n",
       "    </tr>\n",
       "    <tr>\n",
       "      <th>deployed_count</th>\n",
       "      <td>0.000000</td>\n",
       "    </tr>\n",
       "    <tr>\n",
       "      <th>towed_count</th>\n",
       "      <td>0.000000</td>\n",
       "    </tr>\n",
       "    <tr>\n",
       "      <th>totaled_count</th>\n",
       "      <td>0.000000</td>\n",
       "    </tr>\n",
       "  </tbody>\n",
       "</table>\n",
       "</div>"
      ],
      "text/plain": [
       "                          importance\n",
       "cv_count                    0.132995\n",
       "claim_level_word_count      0.122199\n",
       "iv_count                    0.091867\n",
       "inj_count                   0.088044\n",
       "damage_desc_word_count      0.086036\n",
       "exposure_word_count         0.072315\n",
       "insured_count               0.071044\n",
       "liability_count             0.070282\n",
       "accident_desc_word_count    0.068260\n",
       "insd_count                  0.059447\n",
       "injury_desc_word_count      0.041349\n",
       "ac_count                    0.022982\n",
       "rear_count                  0.020988\n",
       "vnop_count                  0.018497\n",
       "div_count                   0.010874\n",
       "dcv_count                   0.007239\n",
       "head_count                  0.007201\n",
       "whiplash_count              0.003626\n",
       "concussion_count            0.003059\n",
       "ambulance_count             0.001696\n",
       "deployed_count              0.000000\n",
       "towed_count                 0.000000\n",
       "totaled_count               0.000000"
      ]
     },
     "execution_count": 114,
     "metadata": {},
     "output_type": "execute_result"
    }
   ],
   "source": [
    "feature_importances"
   ]
  },
  {
   "cell_type": "code",
   "execution_count": 133,
   "metadata": {},
   "outputs": [],
   "source": [
    "from sklearn.metrics import roc_curve"
   ]
  },
  {
   "cell_type": "code",
   "execution_count": 143,
   "metadata": {},
   "outputs": [],
   "source": [
    "y_proba = clf_best.predict_proba(X_test)"
   ]
  },
  {
   "cell_type": "code",
   "execution_count": 144,
   "metadata": {},
   "outputs": [
    {
     "data": {
      "text/plain": [
       "array([[0.99154589, 0.00845411],\n",
       "       [0.62520129, 0.37479871],\n",
       "       [0.86956522, 0.13043478],\n",
       "       [0.57971014, 0.42028986],\n",
       "       [0.86151369, 0.13848631],\n",
       "       [0.58494364, 0.41505636],\n",
       "       [0.91022544, 0.08977456],\n",
       "       [0.00483092, 0.99516908],\n",
       "       [0.94927536, 0.05072464],\n",
       "       [0.95491143, 0.04508857]])"
      ]
     },
     "execution_count": 144,
     "metadata": {},
     "output_type": "execute_result"
    }
   ],
   "source": [
    "y_proba[:10]"
   ]
  },
  {
   "cell_type": "code",
   "execution_count": 187,
   "metadata": {},
   "outputs": [],
   "source": [
    "y_proba = clf_best.predict_proba(X_test)\n",
    "threshold = 0.4\n",
    "pred_proba = np.empty(len(y_proba))\n",
    "for i in range(len(y_proba)):\n",
    "    predicted_true = y_proba[i][1]\n",
    "    if predicted_true > threshold:\n",
    "        pred_proba[i] = 1\n",
    "    else: \n",
    "        pred_proba[i] = 0"
   ]
  },
  {
   "cell_type": "code",
   "execution_count": 188,
   "metadata": {},
   "outputs": [
    {
     "data": {
      "text/html": [
       "<div>\n",
       "<style scoped>\n",
       "    .dataframe tbody tr th:only-of-type {\n",
       "        vertical-align: middle;\n",
       "    }\n",
       "\n",
       "    .dataframe tbody tr th {\n",
       "        vertical-align: top;\n",
       "    }\n",
       "\n",
       "    .dataframe thead th {\n",
       "        text-align: right;\n",
       "    }\n",
       "</style>\n",
       "<table border=\"1\" class=\"dataframe\">\n",
       "  <thead>\n",
       "    <tr style=\"text-align: right;\">\n",
       "      <th>Predicted</th>\n",
       "      <th>0.0</th>\n",
       "      <th>1.0</th>\n",
       "      <th>All</th>\n",
       "    </tr>\n",
       "    <tr>\n",
       "      <th>True</th>\n",
       "      <th></th>\n",
       "      <th></th>\n",
       "      <th></th>\n",
       "    </tr>\n",
       "  </thead>\n",
       "  <tbody>\n",
       "    <tr>\n",
       "      <th>0</th>\n",
       "      <td>21203</td>\n",
       "      <td>1245</td>\n",
       "      <td>22448</td>\n",
       "    </tr>\n",
       "    <tr>\n",
       "      <th>1</th>\n",
       "      <td>1960</td>\n",
       "      <td>5410</td>\n",
       "      <td>7370</td>\n",
       "    </tr>\n",
       "    <tr>\n",
       "      <th>All</th>\n",
       "      <td>23163</td>\n",
       "      <td>6655</td>\n",
       "      <td>29818</td>\n",
       "    </tr>\n",
       "  </tbody>\n",
       "</table>\n",
       "</div>"
      ],
      "text/plain": [
       "Predicted    0.0   1.0    All\n",
       "True                         \n",
       "0          21203  1245  22448\n",
       "1           1960  5410   7370\n",
       "All        23163  6655  29818"
      ]
     },
     "execution_count": 188,
     "metadata": {},
     "output_type": "execute_result"
    }
   ],
   "source": [
    "pd.crosstab(y_test, pred_proba, rownames=['True'], colnames=['Predicted'], margins=True)\n"
   ]
  },
  {
   "cell_type": "code",
   "execution_count": 189,
   "metadata": {},
   "outputs": [
    {
     "name": "stdout",
     "output_type": "stream",
     "text": [
      "              precision    recall  f1-score   support\n",
      "\n",
      "           0       0.92      0.94      0.93     22448\n",
      "           1       0.81      0.73      0.77      7370\n",
      "\n",
      "   micro avg       0.89      0.89      0.89     29818\n",
      "   macro avg       0.86      0.84      0.85     29818\n",
      "weighted avg       0.89      0.89      0.89     29818\n",
      "\n"
     ]
    }
   ],
   "source": [
    "print(classification_report(y_test, pred_proba))"
   ]
  },
  {
   "cell_type": "code",
   "execution_count": 194,
   "metadata": {},
   "outputs": [
    {
     "name": "stdout",
     "output_type": "stream",
     "text": [
      "Accuracy: 0.8925145885035884\n"
     ]
    }
   ],
   "source": [
    "print(\"Accuracy:\",accuracy_score(y_test, pred_proba))"
   ]
  },
  {
   "cell_type": "code",
   "execution_count": 134,
   "metadata": {},
   "outputs": [
    {
     "data": {
      "text/plain": [
       "(array([0.        , 0.02356557, 1.        ]),\n",
       " array([0.        , 0.61804613, 1.        ]),\n",
       " array([2, 1, 0]))"
      ]
     },
     "execution_count": 134,
     "metadata": {},
     "output_type": "execute_result"
    }
   ],
   "source": [
    "roc_curve(y_test, y_pred_best)"
   ]
  },
  {
   "cell_type": "markdown",
   "metadata": {},
   "source": [
    "## Random Forest Insured at Fault"
   ]
  },
  {
   "cell_type": "code",
   "execution_count": 115,
   "metadata": {},
   "outputs": [],
   "source": [
    "X_insured = general_with_dummies.loc[:,'claim_level_word_count':'whiplash_count']\n",
    "y_insured = general_with_dummies['Insured at fault']"
   ]
  },
  {
   "cell_type": "code",
   "execution_count": 116,
   "metadata": {},
   "outputs": [],
   "source": [
    "X_train_i, X_test_i, y_train_i, y_test_i = train_test_split(X_insured, y_insured, \n",
    "                                                    test_size=0.25, random_state=42)"
   ]
  },
  {
   "cell_type": "code",
   "execution_count": 117,
   "metadata": {},
   "outputs": [],
   "source": [
    "clf_i=RandomForestClassifier(n_estimators=150)"
   ]
  },
  {
   "cell_type": "code",
   "execution_count": 118,
   "metadata": {},
   "outputs": [],
   "source": [
    "clf_i.fit(X_train_i,y_train_i)\n",
    "\n",
    "y_pred_i=clf.predict(X_test_i)"
   ]
  },
  {
   "cell_type": "code",
   "execution_count": 119,
   "metadata": {},
   "outputs": [
    {
     "name": "stdout",
     "output_type": "stream",
     "text": [
      "Accuracy: 0.23717217787913342\n"
     ]
    }
   ],
   "source": [
    "print(\"Accuracy:\",accuracy_score(y_test_i, y_pred_i))"
   ]
  },
  {
   "cell_type": "code",
   "execution_count": 120,
   "metadata": {},
   "outputs": [
    {
     "data": {
      "text/plain": [
       "array([[ 6716,  4468],\n",
       "       [18278,   356]])"
      ]
     },
     "execution_count": 120,
     "metadata": {},
     "output_type": "execute_result"
    }
   ],
   "source": [
    "confusion_matrix(y_test_i, y_pred_i, labels=None, sample_weight=None)"
   ]
  },
  {
   "cell_type": "code",
   "execution_count": 121,
   "metadata": {},
   "outputs": [
    {
     "name": "stdout",
     "output_type": "stream",
     "text": [
      "              precision    recall  f1-score   support\n",
      "\n",
      "           0       0.27      0.60      0.37     11184\n",
      "           1       0.07      0.02      0.03     18634\n",
      "\n",
      "   micro avg       0.24      0.24      0.24     29818\n",
      "   macro avg       0.17      0.31      0.20     29818\n",
      "weighted avg       0.15      0.24      0.16     29818\n",
      "\n"
     ]
    }
   ],
   "source": [
    "target_names = ['class 0', 'class 1']\n",
    "print(classification_report(y_test_i, y_pred_i))"
   ]
  },
  {
   "cell_type": "markdown",
   "metadata": {},
   "source": [
    "## Sci-kit Learn Model"
   ]
  },
  {
   "cell_type": "code",
   "execution_count": 122,
   "metadata": {},
   "outputs": [
    {
     "data": {
      "text/plain": [
       "Index(['claim_level_word_count', 'exposure_word_count',\n",
       "       'accident_desc_word_count', 'injury_desc_word_count',\n",
       "       'damage_desc_word_count', 'iv_count', 'liability_count', 'dcv_count',\n",
       "       'inj_count', 'vnop_count', 'ac_count', 'cv_count', 'div_count',\n",
       "       'insd_count', 'insured_count', 'rear_count', 'deployed_count',\n",
       "       'towed_count', 'totaled_count', 'head_count', 'ambulance_count',\n",
       "       'concussion_count', 'whiplash_count', 'Comparative Negligence',\n",
       "       'Insured at fault', 'No fault', 'Other party at fault'],\n",
       "      dtype='object')"
      ]
     },
     "execution_count": 122,
     "metadata": {},
     "output_type": "execute_result"
    }
   ],
   "source": [
    "general_with_dummies.columns"
   ]
  },
  {
   "cell_type": "code",
   "execution_count": 123,
   "metadata": {},
   "outputs": [],
   "source": [
    "X_sk = general_df.loc[:,'claim_level_list']\n",
    "y_sk = general_with_dummies['Insured at fault']"
   ]
  },
  {
   "cell_type": "code",
   "execution_count": 124,
   "metadata": {},
   "outputs": [],
   "source": [
    "X_train_sk, X_test_sk, y_train_sk, y_test_sk = train_test_split(X_sk, y_sk, \n",
    "                                                    test_size=0.25, random_state=42)"
   ]
  },
  {
   "cell_type": "code",
   "execution_count": 125,
   "metadata": {},
   "outputs": [],
   "source": [
    "from sklearn.feature_extraction.text import TfidfVectorizer"
   ]
  },
  {
   "cell_type": "code",
   "execution_count": 126,
   "metadata": {},
   "outputs": [],
   "source": [
    "text_clf = Pipeline([('vect', CountVectorizer()),\n",
    "                     ('tfidf', TfidfTransformer()),\n",
    "                     ('clf', MultinomialNB()),\n",
    "                    ])"
   ]
  },
  {
   "cell_type": "code",
   "execution_count": 127,
   "metadata": {},
   "outputs": [],
   "source": [
    "clf_vec = TfidfVectorizer()"
   ]
  },
  {
   "cell_type": "code",
   "execution_count": 128,
   "metadata": {},
   "outputs": [],
   "source": [
    "model = clf_vec.fit(X_train_sk, y_train_sk)"
   ]
  },
  {
   "cell_type": "code",
   "execution_count": 129,
   "metadata": {},
   "outputs": [
    {
     "ename": "AttributeError",
     "evalue": "'TfidfVectorizer' object has no attribute 'predict'",
     "output_type": "error",
     "traceback": [
      "\u001b[0;31m---------------------------------------------------------------------------\u001b[0m",
      "\u001b[0;31mAttributeError\u001b[0m                            Traceback (most recent call last)",
      "\u001b[0;32m<ipython-input-129-81067efc2c04>\u001b[0m in \u001b[0;36m<module>\u001b[0;34m\u001b[0m\n\u001b[0;32m----> 1\u001b[0;31m \u001b[0my_pred\u001b[0m \u001b[0;34m=\u001b[0m \u001b[0mmodel\u001b[0m\u001b[0;34m.\u001b[0m\u001b[0mpredict\u001b[0m\u001b[0;34m(\u001b[0m\u001b[0mX_test_sk\u001b[0m\u001b[0;34m)\u001b[0m\u001b[0;34m\u001b[0m\u001b[0;34m\u001b[0m\u001b[0m\n\u001b[0m",
      "\u001b[0;31mAttributeError\u001b[0m: 'TfidfVectorizer' object has no attribute 'predict'"
     ]
    }
   ],
   "source": [
    "y_pred = model.predict(X_test_sk)"
   ]
  },
  {
   "cell_type": "code",
   "execution_count": null,
   "metadata": {},
   "outputs": [],
   "source": [
    "# model = text_clf.fit(X_train, y_train)"
   ]
  },
  {
   "cell_type": "code",
   "execution_count": null,
   "metadata": {},
   "outputs": [],
   "source": [
    "# predicted_MNB = text_clf.predict(X_test)"
   ]
  },
  {
   "cell_type": "code",
   "execution_count": 89,
   "metadata": {},
   "outputs": [],
   "source": [
    "# predicted_MNB[:5]"
   ]
  },
  {
   "cell_type": "code",
   "execution_count": 90,
   "metadata": {},
   "outputs": [],
   "source": [
    "# np.mean(predicted_MNB == y_test)"
   ]
  },
  {
   "cell_type": "code",
   "execution_count": 91,
   "metadata": {},
   "outputs": [],
   "source": [
    "# len(predicted_MNB)"
   ]
  },
  {
   "cell_type": "code",
   "execution_count": 92,
   "metadata": {},
   "outputs": [],
   "source": [
    "# text_clf.score(X_test, y_test)"
   ]
  },
  {
   "cell_type": "code",
   "execution_count": 93,
   "metadata": {},
   "outputs": [],
   "source": [
    "# from collections import Counter"
   ]
  },
  {
   "cell_type": "code",
   "execution_count": 94,
   "metadata": {},
   "outputs": [],
   "source": [
    "# Counter(predicted_MNB)"
   ]
  },
  {
   "cell_type": "code",
   "execution_count": 95,
   "metadata": {},
   "outputs": [],
   "source": [
    "# 28402/29818"
   ]
  },
  {
   "cell_type": "code",
   "execution_count": null,
   "metadata": {},
   "outputs": [],
   "source": [
    "from sklearn.feature_extraction.text import TfidfVectorizer\n",
    "tfidf = TfidfVectorizer(sublinear_tf=True, min_df=5, norm='l2', encoding='latin-1', ngram_range=(1, 2), stop_words='english')\n",
    "features = tfidf.fit_transform(general_df.claim_level_list).toarray()\n",
    "labels = general_df.FaultRatingName\n",
    "features.shape"
   ]
  },
  {
   "cell_type": "code",
   "execution_count": null,
   "metadata": {},
   "outputs": [],
   "source": [
    "from sklearn.model_selection import train_test_split\n",
    "from sklearn.feature_extraction.text import CountVectorizer\n",
    "from sklearn.feature_extraction.text import TfidfTransformer\n",
    "from sklearn.naive_bayes import MultinomialNB\n",
    "X_train, X_test, y_train, y_test = train_test_split(df['Consumer_complaint_narrative'], df['Product'], \n",
    "                                                    random_state = 0)\n",
    "count_vect = CountVectorizer()\n",
    "X_train_counts = count_vect.fit_transform(X_train)\n",
    "tfidf_transformer = TfidfTransformer()\n",
    "X_train_tfidf = tfidf_transformer.fit_transform(X_train_counts)\n",
    "clf = MultinomialNB().fit(X_train_tfidf, y_train)"
   ]
  },
  {
   "cell_type": "code",
   "execution_count": 138,
   "metadata": {},
   "outputs": [
    {
     "data": {
      "text/plain": [
       "25.532396539003287"
      ]
     },
     "execution_count": 138,
     "metadata": {},
     "output_type": "execute_result"
    }
   ],
   "source": [
    "30453/len(general_df)*100"
   ]
  },
  {
   "cell_type": "code",
   "execution_count": 137,
   "metadata": {},
   "outputs": [
    {
     "data": {
      "text/plain": [
       "IV rear-end CV                           30453\n",
       "Collision in an intersection             19131\n",
       "Collision with motor vehicle             17415\n",
       "Collision while merging / lane change    10514\n",
       "CV rear-end IV                            9744\n",
       "Collision while turning left              7560\n",
       "Collision with fixed object               5852\n",
       "Rear-end collision                        4525\n",
       "Collision while backing                   3117\n",
       "Hit and Run                               2642\n",
       "Collision with pedestrian                 2321\n",
       "Collision with a parked car               1342\n",
       "Rollover                                  1263\n",
       "Hazardous Condition                        849\n",
       "Collision with bicycle / motorcycle        820\n",
       "IV struck by or struck animal              510\n",
       "IV struck while parked                     386\n",
       "Falling or moving object                   307\n",
       "IV theft                                   137\n",
       "Collision with train or bus                106\n",
       "Malicious mischief and vandalism            83\n",
       "Fire                                        48\n",
       "Riot and civil commotion                    45\n",
       "Damage in loading / unloading               26\n",
       "Tow only                                    21\n",
       "Glass breakage                              21\n",
       "Water / Flood                               20\n",
       "IV Repossessed                               6\n",
       "Tornado                                      4\n",
       "Unlawfully Parked                            4\n",
       "Name: LossCauseName, dtype: int64"
      ]
     },
     "execution_count": 137,
     "metadata": {},
     "output_type": "execute_result"
    }
   ],
   "source": [
    "general_df.LossCauseName.value_counts()"
   ]
  }
 ],
 "metadata": {
  "kernelspec": {
   "display_name": "Python 3",
   "language": "python",
   "name": "python3"
  },
  "language_info": {
   "codemirror_mode": {
    "name": "ipython",
    "version": 3
   },
   "file_extension": ".py",
   "mimetype": "text/x-python",
   "name": "python",
   "nbconvert_exporter": "python",
   "pygments_lexer": "ipython3",
   "version": "3.6.8"
  }
 },
 "nbformat": 4,
 "nbformat_minor": 2
}
